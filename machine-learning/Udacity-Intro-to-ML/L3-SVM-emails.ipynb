{
 "cells": [
  {
   "cell_type": "markdown",
   "metadata": {},
   "source": [
    "# Using SVM to categorize emails"
   ]
  },
  {
   "cell_type": "code",
   "execution_count": 1,
   "metadata": {},
   "outputs": [],
   "source": [
    "from email_preprocess import preprocess_emails\n",
    "from sklearn.svm import SVC\n",
    "from time import time\n",
    "import matplotlib.pyplot as plt\n",
    "from sklearn.metrics import accuracy_score\n",
    "from sklearn.model_selection import train_test_split"
   ]
  },
  {
   "cell_type": "code",
   "execution_count": 2,
   "metadata": {},
   "outputs": [],
   "source": [
    "features_train, features_test, labels_train, labels_test = preprocess_emails()"
   ]
  },
  {
   "cell_type": "markdown",
   "metadata": {},
   "source": [
    "## How long does SVM take to compute?"
   ]
  },
  {
   "cell_type": "code",
   "execution_count": 3,
   "metadata": {},
   "outputs": [],
   "source": [
    "def using_less_training_data(amount_of_training_data):\n",
    "    if amount_of_training_data == 1:\n",
    "        features = features_train\n",
    "        labels = labels_train\n",
    "    else:\n",
    "        features,_,labels,_ = train_test_split(\n",
    "            features_train,\n",
    "            labels_train,\n",
    "            train_size=amount_of_training_data,\n",
    "            random_state=91,\n",
    "        )\n",
    "\n",
    "    print(\"training on\", len(features), \"out of\", len(features_train),\n",
    "          \"(\", len(features)/len(features_train)*100 ,\"%)\"\n",
    "         )\n",
    "\n",
    "    clf = SVC()\n",
    "\n",
    "    t = time()\n",
    "    clf.fit(features, labels)\n",
    "    print(\"clf fit time:\", round(time()-t, 3), \"s\")\n",
    "\n",
    "    t = time()\n",
    "    labels_pred = clf.predict(features_test)\n",
    "    print(\"clf predict time:\", round(time()-t, 3), \"s\")\n",
    "    print(\"accuracy:\", accuracy_score(labels_pred, labels_test))"
   ]
  },
  {
   "cell_type": "code",
   "execution_count": 4,
   "metadata": {},
   "outputs": [
    {
     "name": "stdout",
     "output_type": "stream",
     "text": [
      "training on 1582 out of 15820 ( 10.0 %)\n",
      "clf fit time: 10.58 s\n",
      "clf predict time: 8.738 s\n",
      "accuracy: 0.9687144482366326\n"
     ]
    }
   ],
   "source": [
    "using_less_training_data(0.10)"
   ]
  },
  {
   "cell_type": "code",
   "execution_count": 4,
   "metadata": {},
   "outputs": [
    {
     "name": "stdout",
     "output_type": "stream",
     "text": [
      "training on 3164 out of 15820 ( 20.0 %)\n",
      "clf fit time: 24.239 s\n",
      "clf predict time: 12.988 s\n",
      "accuracy: 0.981797497155859\n"
     ]
    }
   ],
   "source": [
    "using_less_training_data(0.20)"
   ]
  },
  {
   "cell_type": "code",
   "execution_count": 5,
   "metadata": {},
   "outputs": [
    {
     "name": "stdout",
     "output_type": "stream",
     "text": [
      "training on 6328 out of 15820 ( 40.0 %)\n",
      "clf fit time: 70.775 s\n",
      "clf predict time: 19.084 s\n",
      "accuracy: 0.987485779294653\n"
     ]
    }
   ],
   "source": [
    "using_less_training_data(0.40)"
   ]
  },
  {
   "cell_type": "code",
   "execution_count": 10,
   "metadata": {},
   "outputs": [
    {
     "name": "stdout",
     "output_type": "stream",
     "text": [
      "training on 12656 out of 15820 ( 80.0 %)\n",
      "clf fit time: 199.186 s\n",
      "clf predict time: 26.44 s\n",
      "accuracy: 0.9920364050056882\n"
     ]
    }
   ],
   "source": [
    "using_less_training_data(0.80)"
   ]
  },
  {
   "cell_type": "code",
   "execution_count": 13,
   "metadata": {},
   "outputs": [
    {
     "name": "stdout",
     "output_type": "stream",
     "text": [
      "training on 15820 out of 15820 ( 100.0 %)\n",
      "clf fit time: 270.564 s\n",
      "clf predict time: 29.974 s\n",
      "accuracy: 0.9926052332195677\n"
     ]
    }
   ],
   "source": [
    "using_less_training_data(1)"
   ]
  },
  {
   "cell_type": "markdown",
   "metadata": {},
   "source": [
    "It takes a LONG time but seems to get some very accurate results with a very simple implementation"
   ]
  },
  {
   "cell_type": "markdown",
   "metadata": {},
   "source": [
    "## How do the different kernels perform on this dataset"
   ]
  },
  {
   "cell_type": "code",
   "execution_count": 14,
   "metadata": {},
   "outputs": [],
   "source": [
    "def switch_kernels(kernel, amount_of_training_data = 0.20):\n",
    "    if amount_of_training_data == 1:\n",
    "        features = features_train\n",
    "        labels = labels_train\n",
    "    else:\n",
    "        features,_,labels,_ = train_test_split(\n",
    "            features_train,\n",
    "            labels_train,\n",
    "            train_size=amount_of_training_data,\n",
    "            random_state=91,\n",
    "        )\n",
    "\n",
    "    print(\"training on\", len(features), \"out of\", len(features_train),\n",
    "          \"(\", len(features)/len(features_train)*100 ,\"%)\"\n",
    "         )\n",
    "\n",
    "    clf = SVC(kernel=kernel)\n",
    "\n",
    "    t = time()\n",
    "    clf.fit(features, labels)\n",
    "    print(\"clf fit time:\", round(time()-t, 3), \"s\")\n",
    "\n",
    "    t = time()\n",
    "    labels_pred = clf.predict(features_test)\n",
    "    print(\"clf predict time:\", round(time()-t, 3), \"s\")\n",
    "    print(\"accuracy:\", accuracy_score(labels_pred, labels_test))"
   ]
  },
  {
   "cell_type": "code",
   "execution_count": 8,
   "metadata": {},
   "outputs": [
    {
     "name": "stdout",
     "output_type": "stream",
     "text": [
      "training on 3164 out of 15820 ( 20.0 %)\n",
      "clf fit time: 16.07 s\n",
      "clf predict time: 8.437 s\n",
      "accuracy: 0.9726962457337884\n"
     ]
    }
   ],
   "source": [
    "switch_kernels(\"linear\")"
   ]
  },
  {
   "cell_type": "code",
   "execution_count": 9,
   "metadata": {},
   "outputs": [
    {
     "name": "stdout",
     "output_type": "stream",
     "text": [
      "training on 3164 out of 15820 ( 20.0 %)\n",
      "clf fit time: 43.96 s\n",
      "clf predict time: 23.428 s\n",
      "accuracy: 0.8526734926052332\n"
     ]
    }
   ],
   "source": [
    "switch_kernels(\"poly\")"
   ]
  },
  {
   "cell_type": "code",
   "execution_count": 10,
   "metadata": {},
   "outputs": [
    {
     "name": "stdout",
     "output_type": "stream",
     "text": [
      "training on 3164 out of 15820 ( 20.0 %)\n",
      "clf fit time: 24.575 s\n",
      "clf predict time: 13.312 s\n",
      "accuracy: 0.981797497155859\n"
     ]
    }
   ],
   "source": [
    "switch_kernels(\"rbf\")"
   ]
  },
  {
   "cell_type": "code",
   "execution_count": 11,
   "metadata": {},
   "outputs": [
    {
     "name": "stdout",
     "output_type": "stream",
     "text": [
      "training on 3164 out of 15820 ( 20.0 %)\n",
      "clf fit time: 13.183 s\n",
      "clf predict time: 6.683 s\n",
      "accuracy: 0.9732650739476678\n"
     ]
    }
   ],
   "source": [
    "switch_kernels(\"sigmoid\")"
   ]
  },
  {
   "cell_type": "code",
   "execution_count": 12,
   "metadata": {},
   "outputs": [
    {
     "name": "stdout",
     "output_type": "stream",
     "text": [
      "training on 3164 out of 15820 ( 20.0 %)\n"
     ]
    },
    {
     "ename": "ValueError",
     "evalue": "Precomputed matrix must be a square matrix. Input is a 3164x3785 matrix.",
     "output_type": "error",
     "traceback": [
      "\u001b[0;31m---------------------------------------------------------------------------\u001b[0m",
      "\u001b[0;31mValueError\u001b[0m                                Traceback (most recent call last)",
      "\u001b[0;32m<ipython-input-12-1e19e45344f4>\u001b[0m in \u001b[0;36m<module>\u001b[0;34m\u001b[0m\n\u001b[0;32m----> 1\u001b[0;31m \u001b[0mswitch_kernels\u001b[0m\u001b[0;34m(\u001b[0m\u001b[0;34m\"precomputed\"\u001b[0m\u001b[0;34m)\u001b[0m\u001b[0;34m\u001b[0m\u001b[0;34m\u001b[0m\u001b[0m\n\u001b[0m",
      "\u001b[0;32m<ipython-input-7-8ae5b02e498d>\u001b[0m in \u001b[0;36mswitch_kernels\u001b[0;34m(kernel)\u001b[0m\n\u001b[1;32m     16\u001b[0m \u001b[0;34m\u001b[0m\u001b[0m\n\u001b[1;32m     17\u001b[0m     \u001b[0mt\u001b[0m \u001b[0;34m=\u001b[0m \u001b[0mtime\u001b[0m\u001b[0;34m(\u001b[0m\u001b[0;34m)\u001b[0m\u001b[0;34m\u001b[0m\u001b[0;34m\u001b[0m\u001b[0m\n\u001b[0;32m---> 18\u001b[0;31m     \u001b[0mclf\u001b[0m\u001b[0;34m.\u001b[0m\u001b[0mfit\u001b[0m\u001b[0;34m(\u001b[0m\u001b[0mfeatures\u001b[0m\u001b[0;34m,\u001b[0m \u001b[0mlabels\u001b[0m\u001b[0;34m)\u001b[0m\u001b[0;34m\u001b[0m\u001b[0;34m\u001b[0m\u001b[0m\n\u001b[0m\u001b[1;32m     19\u001b[0m     \u001b[0mprint\u001b[0m\u001b[0;34m(\u001b[0m\u001b[0;34m\"clf fit time:\"\u001b[0m\u001b[0;34m,\u001b[0m \u001b[0mround\u001b[0m\u001b[0;34m(\u001b[0m\u001b[0mtime\u001b[0m\u001b[0;34m(\u001b[0m\u001b[0;34m)\u001b[0m\u001b[0;34m-\u001b[0m\u001b[0mt\u001b[0m\u001b[0;34m,\u001b[0m \u001b[0;36m3\u001b[0m\u001b[0;34m)\u001b[0m\u001b[0;34m,\u001b[0m \u001b[0;34m\"s\"\u001b[0m\u001b[0;34m)\u001b[0m\u001b[0;34m\u001b[0m\u001b[0;34m\u001b[0m\u001b[0m\n\u001b[1;32m     20\u001b[0m \u001b[0;34m\u001b[0m\u001b[0m\n",
      "\u001b[0;32m/opt/conda/lib/python3.7/site-packages/sklearn/svm/_base.py\u001b[0m in \u001b[0;36mfit\u001b[0;34m(self, X, y, sample_weight)\u001b[0m\n\u001b[1;32m    163\u001b[0m             raise ValueError(\"Precomputed matrix must be a square matrix.\"\n\u001b[1;32m    164\u001b[0m                              \u001b[0;34m\" Input is a {}x{} matrix.\"\u001b[0m\u001b[0;34m\u001b[0m\u001b[0;34m\u001b[0m\u001b[0m\n\u001b[0;32m--> 165\u001b[0;31m                              .format(X.shape[0], X.shape[1]))\n\u001b[0m\u001b[1;32m    166\u001b[0m \u001b[0;34m\u001b[0m\u001b[0m\n\u001b[1;32m    167\u001b[0m         \u001b[0;32mif\u001b[0m \u001b[0msample_weight\u001b[0m\u001b[0;34m.\u001b[0m\u001b[0mshape\u001b[0m\u001b[0;34m[\u001b[0m\u001b[0;36m0\u001b[0m\u001b[0;34m]\u001b[0m \u001b[0;34m>\u001b[0m \u001b[0;36m0\u001b[0m \u001b[0;32mand\u001b[0m \u001b[0msample_weight\u001b[0m\u001b[0;34m.\u001b[0m\u001b[0mshape\u001b[0m\u001b[0;34m[\u001b[0m\u001b[0;36m0\u001b[0m\u001b[0;34m]\u001b[0m \u001b[0;34m!=\u001b[0m \u001b[0mX\u001b[0m\u001b[0;34m.\u001b[0m\u001b[0mshape\u001b[0m\u001b[0;34m[\u001b[0m\u001b[0;36m0\u001b[0m\u001b[0;34m]\u001b[0m\u001b[0;34m:\u001b[0m\u001b[0;34m\u001b[0m\u001b[0;34m\u001b[0m\u001b[0m\n",
      "\u001b[0;31mValueError\u001b[0m: Precomputed matrix must be a square matrix. Input is a 3164x3785 matrix."
     ]
    }
   ],
   "source": [
    "switch_kernels(\"precomputed\")"
   ]
  },
  {
   "cell_type": "markdown",
   "metadata": {},
   "source": [
    "- Linear and sigmoid seem the fastest on this subset of the data\n",
    "- linear, sigmoid, and rbf all seem to have decent accuracy\n",
    "\n",
    "I'll run the linear and sigmoid kernels against the full dataset to see how they perform"
   ]
  },
  {
   "cell_type": "code",
   "execution_count": 15,
   "metadata": {},
   "outputs": [
    {
     "name": "stdout",
     "output_type": "stream",
     "text": [
      "training on 15820 out of 15820 ( 100.0 %)\n",
      "clf fit time: 199.196 s\n",
      "clf predict time: 21.761 s\n",
      "accuracy: 0.9840728100113766\n"
     ]
    }
   ],
   "source": [
    "switch_kernels(\"linear\", 1)"
   ]
  },
  {
   "cell_type": "code",
   "execution_count": 16,
   "metadata": {},
   "outputs": [
    {
     "name": "stdout",
     "output_type": "stream",
     "text": [
      "training on 15820 out of 15820 ( 100.0 %)\n",
      "clf fit time: 168.383 s\n",
      "clf predict time: 16.947 s\n",
      "accuracy: 0.9857792946530148\n"
     ]
    }
   ],
   "source": [
    "switch_kernels(\"sigmoid\", 1)"
   ]
  },
  {
   "cell_type": "markdown",
   "metadata": {},
   "source": [
    "The accuracies on the full data are all higher than on 20% of the data.\n",
    "\n",
    "The rbf has a great accuracy at 99.26% however takes the longest to run, but not by much\n",
    "\n",
    "| |accuracies| train time |\n",
    "|-|- | - |\n",
    "| linear | 0.9840728100113766 | 199.196s |\n",
    "| rbf | 0.9926052332195677 | 270.564s |\n",
    "| sigmoid | 0.9857792946530148 | 168.383s | \n",
    "\n",
    "At this point I would start tuning the parameters on the rbf kernel, however, I'll first go through the course exercises."
   ]
  }
 ],
 "metadata": {
  "kernelspec": {
   "display_name": "Python 3",
   "language": "python",
   "name": "python3"
  },
  "language_info": {
   "codemirror_mode": {
    "name": "ipython",
    "version": 3
   },
   "file_extension": ".py",
   "mimetype": "text/x-python",
   "name": "python",
   "nbconvert_exporter": "python",
   "pygments_lexer": "ipython3",
   "version": "3.7.6"
  }
 },
 "nbformat": 4,
 "nbformat_minor": 4
}
