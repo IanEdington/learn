{
 "cells": [
  {
   "cell_type": "markdown",
   "metadata": {},
   "source": [
    "# Using SVM to categorize emails"
   ]
  },
  {
   "cell_type": "code",
   "execution_count": 1,
   "metadata": {},
   "outputs": [],
   "source": [
    "from email_preprocess import preprocess_emails\n",
    "from sklearn.svm import SVC, LinearSVC\n",
    "from time import time\n",
    "import matplotlib.pyplot as plt\n",
    "from sklearn.metrics import accuracy_score\n",
    "from sklearn.model_selection import train_test_split\n",
    "from sklearn.svm import LinearSVC"
   ]
  },
  {
   "cell_type": "code",
   "execution_count": 2,
   "metadata": {},
   "outputs": [],
   "source": [
    "features_train, features_test, labels_train, labels_test = preprocess_emails()"
   ]
  },
  {
   "cell_type": "code",
   "execution_count": 3,
   "metadata": {},
   "outputs": [],
   "source": [
    "def optimize_svm(kernel = 'rbf',\n",
    "                 amount_of_training_data = 0.20,\n",
    "                 C = 1.0,\n",
    "                 features = None,\n",
    "                 labels = None):\n",
    "    if features is not None and labels is not None:\n",
    "        pass\n",
    "    elif amount_of_training_data == 1:\n",
    "        features = features_train\n",
    "        labels = labels_train\n",
    "    else:\n",
    "        features,_,labels,_ = train_test_split(\n",
    "            features_train,\n",
    "            labels_train,\n",
    "            train_size=amount_of_training_data,\n",
    "            random_state=91,\n",
    "        )\n",
    "\n",
    "    print(\"training on\", len(features), \"out of\", len(features_train),\n",
    "          \"(\", len(features)/len(features_train)*100 ,\"%)\"\n",
    "         )\n",
    "    \n",
    "    clf = LinearSVC(C=C) if kernel == \"LinearSVC\" else SVC(kernel=kernel, C=C)\n",
    "\n",
    "    t = time()\n",
    "    clf.fit(features, labels)\n",
    "    fit_delta = round(time()-t, 3)\n",
    "    print(\"clf fit time:\", fit_delta, \"s\")\n",
    "\n",
    "    t = time()\n",
    "    labels_pred = clf.predict(features_test)\n",
    "    print(\"clf predict time:\", round(time()-t, 3), \"s\")\n",
    "    \n",
    "    accuracy = accuracy_score(labels_pred, labels_test)\n",
    "    print(\"accuracy:\", accuracy)\n",
    "    \n",
    "    print(f'| {kernel} | {amount_of_training_data} | {C} | {accuracy} | {fit_delta}s |')"
   ]
  },
  {
   "cell_type": "markdown",
   "metadata": {},
   "source": [
    "## How long does SVM take to compute?"
   ]
  },
  {
   "cell_type": "code",
   "execution_count": 4,
   "metadata": {},
   "outputs": [
    {
     "name": "stdout",
     "output_type": "stream",
     "text": [
      "training on 1582 out of 15820 ( 10.0 %)\n",
      "clf fit time: 10.604 s\n",
      "clf predict time: 8.995 s\n",
      "accuracy: 0.9687144482366326\n",
      "| rbf | 0.1 | 1.0 | 0.9687144482366326 | 10.604s |\n"
     ]
    }
   ],
   "source": [
    "optimize_svm(amount_of_training_data = 0.10)"
   ]
  },
  {
   "cell_type": "code",
   "execution_count": 5,
   "metadata": {},
   "outputs": [
    {
     "name": "stdout",
     "output_type": "stream",
     "text": [
      "training on 3164 out of 15820 ( 20.0 %)\n",
      "clf fit time: 25.309 s\n",
      "clf predict time: 13.144 s\n",
      "accuracy: 0.981797497155859\n",
      "| rbf | 0.2 | 1.0 | 0.981797497155859 | 25.309s |\n"
     ]
    }
   ],
   "source": [
    "optimize_svm(amount_of_training_data = 0.20)"
   ]
  },
  {
   "cell_type": "code",
   "execution_count": 6,
   "metadata": {},
   "outputs": [
    {
     "name": "stdout",
     "output_type": "stream",
     "text": [
      "training on 6328 out of 15820 ( 40.0 %)\n",
      "clf fit time: 72.54 s\n",
      "clf predict time: 19.364 s\n",
      "accuracy: 0.987485779294653\n",
      "| rbf | 0.4 | 1.0 | 0.987485779294653 | 72.54s |\n"
     ]
    }
   ],
   "source": [
    "optimize_svm(amount_of_training_data = 0.40)"
   ]
  },
  {
   "cell_type": "code",
   "execution_count": 7,
   "metadata": {},
   "outputs": [
    {
     "name": "stdout",
     "output_type": "stream",
     "text": [
      "training on 12656 out of 15820 ( 80.0 %)\n",
      "clf fit time: 197.733 s\n",
      "clf predict time: 26.531 s\n",
      "accuracy: 0.9920364050056882\n",
      "| rbf | 0.8 | 1.0 | 0.9920364050056882 | 197.733s |\n"
     ]
    }
   ],
   "source": [
    "optimize_svm(amount_of_training_data = 0.80)"
   ]
  },
  {
   "cell_type": "code",
   "execution_count": 8,
   "metadata": {},
   "outputs": [
    {
     "name": "stdout",
     "output_type": "stream",
     "text": [
      "training on 15820 out of 15820 ( 100.0 %)\n",
      "clf fit time: 272.625 s\n",
      "clf predict time: 29.404 s\n",
      "accuracy: 0.9926052332195677\n",
      "| rbf | 1 | 1.0 | 0.9926052332195677 | 272.625s |\n"
     ]
    }
   ],
   "source": [
    "optimize_svm(amount_of_training_data = 1)"
   ]
  },
  {
   "cell_type": "markdown",
   "metadata": {},
   "source": [
    "It takes a LONG time but seems to get some very accurate results with a very simple implementation"
   ]
  },
  {
   "cell_type": "markdown",
   "metadata": {},
   "source": [
    "## How do the different kernels perform on this dataset"
   ]
  },
  {
   "cell_type": "code",
   "execution_count": 9,
   "metadata": {},
   "outputs": [
    {
     "name": "stdout",
     "output_type": "stream",
     "text": [
      "training on 3164 out of 15820 ( 20.0 %)\n",
      "clf fit time: 16.306 s\n",
      "clf predict time: 8.467 s\n",
      "accuracy: 0.9726962457337884\n",
      "| linear | 0.2 | 1.0 | 0.9726962457337884 | 16.306s |\n"
     ]
    }
   ],
   "source": [
    "optimize_svm(\"linear\")"
   ]
  },
  {
   "cell_type": "code",
   "execution_count": 10,
   "metadata": {},
   "outputs": [
    {
     "name": "stdout",
     "output_type": "stream",
     "text": [
      "training on 3164 out of 15820 ( 20.0 %)\n",
      "clf fit time: 44.582 s\n",
      "clf predict time: 22.979 s\n",
      "accuracy: 0.8526734926052332\n",
      "| poly | 0.2 | 1.0 | 0.8526734926052332 | 44.582s |\n"
     ]
    }
   ],
   "source": [
    "optimize_svm(\"poly\")"
   ]
  },
  {
   "cell_type": "code",
   "execution_count": 11,
   "metadata": {},
   "outputs": [
    {
     "name": "stdout",
     "output_type": "stream",
     "text": [
      "training on 3164 out of 15820 ( 20.0 %)\n",
      "clf fit time: 24.518 s\n",
      "clf predict time: 13.166 s\n",
      "accuracy: 0.981797497155859\n",
      "| rbf | 0.2 | 1.0 | 0.981797497155859 | 24.518s |\n"
     ]
    }
   ],
   "source": [
    "optimize_svm(\"rbf\")"
   ]
  },
  {
   "cell_type": "code",
   "execution_count": 12,
   "metadata": {},
   "outputs": [
    {
     "name": "stdout",
     "output_type": "stream",
     "text": [
      "training on 3164 out of 15820 ( 20.0 %)\n",
      "clf fit time: 13.106 s\n",
      "clf predict time: 6.409 s\n",
      "accuracy: 0.9732650739476678\n",
      "| sigmoid | 0.2 | 1.0 | 0.9732650739476678 | 13.106s |\n"
     ]
    }
   ],
   "source": [
    "optimize_svm(\"sigmoid\")"
   ]
  },
  {
   "cell_type": "code",
   "execution_count": 13,
   "metadata": {},
   "outputs": [
    {
     "name": "stdout",
     "output_type": "stream",
     "text": [
      "training on 3164 out of 15820 ( 20.0 %)\n"
     ]
    },
    {
     "ename": "ValueError",
     "evalue": "Precomputed matrix must be a square matrix. Input is a 3164x3785 matrix.",
     "output_type": "error",
     "traceback": [
      "\u001b[0;31m---------------------------------------------------------------------------\u001b[0m",
      "\u001b[0;31mValueError\u001b[0m                                Traceback (most recent call last)",
      "\u001b[0;32m<ipython-input-13-d5834075d561>\u001b[0m in \u001b[0;36m<module>\u001b[0;34m\u001b[0m\n\u001b[0;32m----> 1\u001b[0;31m \u001b[0moptimize_svm\u001b[0m\u001b[0;34m(\u001b[0m\u001b[0;34m\"precomputed\"\u001b[0m\u001b[0;34m)\u001b[0m\u001b[0;34m\u001b[0m\u001b[0;34m\u001b[0m\u001b[0m\n\u001b[0m",
      "\u001b[0;32m<ipython-input-3-ab9b77bceb90>\u001b[0m in \u001b[0;36moptimize_svm\u001b[0;34m(kernel, amount_of_training_data, C, features, labels)\u001b[0m\n\u001b[1;32m     24\u001b[0m \u001b[0;34m\u001b[0m\u001b[0m\n\u001b[1;32m     25\u001b[0m     \u001b[0mt\u001b[0m \u001b[0;34m=\u001b[0m \u001b[0mtime\u001b[0m\u001b[0;34m(\u001b[0m\u001b[0;34m)\u001b[0m\u001b[0;34m\u001b[0m\u001b[0;34m\u001b[0m\u001b[0m\n\u001b[0;32m---> 26\u001b[0;31m     \u001b[0mclf\u001b[0m\u001b[0;34m.\u001b[0m\u001b[0mfit\u001b[0m\u001b[0;34m(\u001b[0m\u001b[0mfeatures\u001b[0m\u001b[0;34m,\u001b[0m \u001b[0mlabels\u001b[0m\u001b[0;34m)\u001b[0m\u001b[0;34m\u001b[0m\u001b[0;34m\u001b[0m\u001b[0m\n\u001b[0m\u001b[1;32m     27\u001b[0m     \u001b[0mfit_delta\u001b[0m \u001b[0;34m=\u001b[0m \u001b[0mround\u001b[0m\u001b[0;34m(\u001b[0m\u001b[0mtime\u001b[0m\u001b[0;34m(\u001b[0m\u001b[0;34m)\u001b[0m\u001b[0;34m-\u001b[0m\u001b[0mt\u001b[0m\u001b[0;34m,\u001b[0m \u001b[0;36m3\u001b[0m\u001b[0;34m)\u001b[0m\u001b[0;34m\u001b[0m\u001b[0;34m\u001b[0m\u001b[0m\n\u001b[1;32m     28\u001b[0m     \u001b[0mprint\u001b[0m\u001b[0;34m(\u001b[0m\u001b[0;34m\"clf fit time:\"\u001b[0m\u001b[0;34m,\u001b[0m \u001b[0mfit_delta\u001b[0m\u001b[0;34m,\u001b[0m \u001b[0;34m\"s\"\u001b[0m\u001b[0;34m)\u001b[0m\u001b[0;34m\u001b[0m\u001b[0;34m\u001b[0m\u001b[0m\n",
      "\u001b[0;32m/opt/conda/lib/python3.7/site-packages/sklearn/svm/_base.py\u001b[0m in \u001b[0;36mfit\u001b[0;34m(self, X, y, sample_weight)\u001b[0m\n\u001b[1;32m    163\u001b[0m             raise ValueError(\"Precomputed matrix must be a square matrix.\"\n\u001b[1;32m    164\u001b[0m                              \u001b[0;34m\" Input is a {}x{} matrix.\"\u001b[0m\u001b[0;34m\u001b[0m\u001b[0;34m\u001b[0m\u001b[0m\n\u001b[0;32m--> 165\u001b[0;31m                              .format(X.shape[0], X.shape[1]))\n\u001b[0m\u001b[1;32m    166\u001b[0m \u001b[0;34m\u001b[0m\u001b[0m\n\u001b[1;32m    167\u001b[0m         \u001b[0;32mif\u001b[0m \u001b[0msample_weight\u001b[0m\u001b[0;34m.\u001b[0m\u001b[0mshape\u001b[0m\u001b[0;34m[\u001b[0m\u001b[0;36m0\u001b[0m\u001b[0;34m]\u001b[0m \u001b[0;34m>\u001b[0m \u001b[0;36m0\u001b[0m \u001b[0;32mand\u001b[0m \u001b[0msample_weight\u001b[0m\u001b[0;34m.\u001b[0m\u001b[0mshape\u001b[0m\u001b[0;34m[\u001b[0m\u001b[0;36m0\u001b[0m\u001b[0;34m]\u001b[0m \u001b[0;34m!=\u001b[0m \u001b[0mX\u001b[0m\u001b[0;34m.\u001b[0m\u001b[0mshape\u001b[0m\u001b[0;34m[\u001b[0m\u001b[0;36m0\u001b[0m\u001b[0;34m]\u001b[0m\u001b[0;34m:\u001b[0m\u001b[0;34m\u001b[0m\u001b[0;34m\u001b[0m\u001b[0m\n",
      "\u001b[0;31mValueError\u001b[0m: Precomputed matrix must be a square matrix. Input is a 3164x3785 matrix."
     ]
    }
   ],
   "source": [
    "# optimize_svm(\"precomputed\")\n",
    "# >>> ValueError: Precomputed matrix must be a square matrix. Input is a 3164x3785 matrix."
   ]
  },
  {
   "cell_type": "markdown",
   "metadata": {},
   "source": [
    "- Linear and sigmoid seem the fastest on this subset of the data\n",
    "- linear, sigmoid, and rbf all seem to have decent accuracy\n",
    "\n",
    "I'll run the linear and sigmoid kernels against the full dataset to see how they perform"
   ]
  },
  {
   "cell_type": "code",
   "execution_count": 14,
   "metadata": {},
   "outputs": [
    {
     "name": "stdout",
     "output_type": "stream",
     "text": [
      "training on 15820 out of 15820 ( 100.0 %)\n",
      "clf fit time: 208.987 s\n",
      "clf predict time: 22.715 s\n",
      "accuracy: 0.9840728100113766\n",
      "| linear | 1 | 1.0 | 0.9840728100113766 | 208.987s |\n"
     ]
    }
   ],
   "source": [
    "optimize_svm(\"linear\", 1)"
   ]
  },
  {
   "cell_type": "code",
   "execution_count": 15,
   "metadata": {},
   "outputs": [
    {
     "name": "stdout",
     "output_type": "stream",
     "text": [
      "training on 15820 out of 15820 ( 100.0 %)\n",
      "clf fit time: 179.525 s\n",
      "clf predict time: 17.315 s\n",
      "accuracy: 0.9857792946530148\n",
      "| sigmoid | 1 | 1.0 | 0.9857792946530148 | 179.525s |\n"
     ]
    }
   ],
   "source": [
    "optimize_svm(\"sigmoid\", 1)"
   ]
  },
  {
   "cell_type": "markdown",
   "metadata": {},
   "source": [
    "The accuracies on the full data are all higher than on 20% of the data.\n",
    "\n",
    "The rbf has a great accuracy at 99.26% however takes the longest to run, but not by much\n",
    "\n",
    "| | data | C | accuracies | train time |\n",
    "|-|-|-|-|-|\n",
    "| linear | 1 | 1.0 | 0.9840728100113766 | 208.987s |\n",
    "| rbf | 1 | 1.0 | 0.9926052332195677 | 272.625s |\n",
    "| sigmoid | 1 | 1.0 | 0.9857792946530148 | 179.525s |\n",
    "\n",
    "At this point I would start tuning the parameters on the rbf kernel, however, I'll first go through the course exercises."
   ]
  },
  {
   "cell_type": "markdown",
   "metadata": {},
   "source": [
    "### Quiz: A Smaller Training Set"
   ]
  },
  {
   "cell_type": "code",
   "execution_count": 16,
   "metadata": {},
   "outputs": [
    {
     "name": "stdout",
     "output_type": "stream",
     "text": [
      "training on 158 out of 15820 ( 0.9987357774968394 %)\n",
      "clf fit time: 0.104 s\n",
      "clf predict time: 1.1 s\n",
      "accuracy: 0.8845278725824801\n",
      "| linear | 0.01 | 1.0 | 0.8845278725824801 | 0.104s |\n"
     ]
    }
   ],
   "source": [
    "optimize_svm(\n",
    "    kernel=\"linear\",\n",
    "    amount_of_training_data = 0.01,\n",
    "    features = features_train[:round(len(features_train)/100)],\n",
    "    labels = labels_train[:round(len(labels_train)/100)],\n",
    ")"
   ]
  },
  {
   "cell_type": "markdown",
   "metadata": {},
   "source": [
    "### Quiz: Deploy an RBF Kernel"
   ]
  },
  {
   "cell_type": "code",
   "execution_count": 17,
   "metadata": {},
   "outputs": [
    {
     "name": "stdout",
     "output_type": "stream",
     "text": [
      "training on 158 out of 15820 ( 0.9987357774968394 %)\n",
      "clf fit time: 0.117 s\n",
      "clf predict time: 1.145 s\n",
      "accuracy: 0.8953356086461889\n",
      "| rbf | 0.01 | 1.0 | 0.8953356086461889 | 0.117s |\n"
     ]
    }
   ],
   "source": [
    "optimize_svm(\n",
    "    amount_of_training_data = 0.01,\n",
    "    features = features_train[:round(len(features_train)/100)],\n",
    "    labels = labels_train[:round(len(labels_train)/100)],\n",
    ")"
   ]
  },
  {
   "cell_type": "markdown",
   "metadata": {},
   "source": [
    "### Quiz: Optimize C Parameter"
   ]
  },
  {
   "cell_type": "code",
   "execution_count": 18,
   "metadata": {},
   "outputs": [
    {
     "name": "stdout",
     "output_type": "stream",
     "text": [
      "training on 158 out of 15820 ( 0.9987357774968394 %)\n",
      "clf fit time: 0.112 s\n",
      "clf predict time: 1.112 s\n",
      "accuracy: 0.8998862343572241\n",
      "| rbf | 0.01 | 10.0 | 0.8998862343572241 | 0.112s |\n"
     ]
    }
   ],
   "source": [
    "optimize_svm(\n",
    "    C=10.0,\n",
    "    amount_of_training_data = 0.01,\n",
    "    features = features_train[:round(len(features_train)/100)],\n",
    "    labels = labels_train[:round(len(labels_train)/100)],\n",
    ")"
   ]
  },
  {
   "cell_type": "code",
   "execution_count": 19,
   "metadata": {},
   "outputs": [
    {
     "name": "stdout",
     "output_type": "stream",
     "text": [
      "training on 158 out of 15820 ( 0.9987357774968394 %)\n",
      "clf fit time: 0.109 s\n",
      "clf predict time: 1.108 s\n",
      "accuracy: 0.8998862343572241\n",
      "| rbf | 0.01 | 100.0 | 0.8998862343572241 | 0.109s |\n"
     ]
    }
   ],
   "source": [
    "optimize_svm(\n",
    "    C=100.0,\n",
    "    amount_of_training_data = 0.01,\n",
    "    features = features_train[:round(len(features_train)/100)],\n",
    "    labels = labels_train[:round(len(labels_train)/100)],\n",
    ")"
   ]
  },
  {
   "cell_type": "code",
   "execution_count": 20,
   "metadata": {},
   "outputs": [
    {
     "name": "stdout",
     "output_type": "stream",
     "text": [
      "training on 158 out of 15820 ( 0.9987357774968394 %)\n",
      "clf fit time: 0.11 s\n",
      "clf predict time: 1.106 s\n",
      "accuracy: 0.8998862343572241\n",
      "| rbf | 0.01 | 1000.0 | 0.8998862343572241 | 0.11s |\n"
     ]
    }
   ],
   "source": [
    "optimize_svm(\n",
    "    C=1000.0,\n",
    "    amount_of_training_data = 0.01,\n",
    "    features = features_train[:round(len(features_train)/100)],\n",
    "    labels = labels_train[:round(len(labels_train)/100)],\n",
    ")"
   ]
  },
  {
   "cell_type": "code",
   "execution_count": 21,
   "metadata": {},
   "outputs": [
    {
     "name": "stdout",
     "output_type": "stream",
     "text": [
      "training on 158 out of 15820 ( 0.9987357774968394 %)\n",
      "clf fit time: 0.115 s\n",
      "clf predict time: 1.12 s\n",
      "accuracy: 0.8998862343572241\n",
      "| rbf | 0.01 | 10000.0 | 0.8998862343572241 | 0.115s |\n"
     ]
    }
   ],
   "source": [
    "optimize_svm(\n",
    "    C=10000.0,\n",
    "    amount_of_training_data = 0.01,\n",
    "    features = features_train[:round(len(features_train)/100)],\n",
    "    labels = labels_train[:round(len(labels_train)/100)],\n",
    ")"
   ]
  },
  {
   "cell_type": "markdown",
   "metadata": {},
   "source": [
    "## The Optimized RBF model"
   ]
  },
  {
   "cell_type": "code",
   "execution_count": 22,
   "metadata": {},
   "outputs": [
    {
     "data": {
      "text/plain": [
       "SVC(C=10000.0, break_ties=False, cache_size=200, class_weight=None, coef0=0.0,\n",
       "    decision_function_shape='ovr', degree=3, gamma='scale', kernel='rbf',\n",
       "    max_iter=-1, probability=False, random_state=None, shrinking=True,\n",
       "    tol=0.001, verbose=False)"
      ]
     },
     "execution_count": 22,
     "metadata": {},
     "output_type": "execute_result"
    }
   ],
   "source": [
    "clf = SVC(C=10000.0)\n",
    "clf.fit(features_train, labels_train)"
   ]
  },
  {
   "cell_type": "code",
   "execution_count": 23,
   "metadata": {},
   "outputs": [],
   "source": [
    "labels_pred = clf.predict(features_test)"
   ]
  },
  {
   "cell_type": "markdown",
   "metadata": {},
   "source": [
    "### Quiz: Optimized RBF vs. Linear SVM: Accuracy"
   ]
  },
  {
   "cell_type": "code",
   "execution_count": 24,
   "metadata": {},
   "outputs": [
    {
     "name": "stdout",
     "output_type": "stream",
     "text": [
      "accuracy: 0.9960182025028441\n"
     ]
    }
   ],
   "source": [
    "print(\"accuracy:\", accuracy_score(labels_pred, labels_test))"
   ]
  },
  {
   "cell_type": "markdown",
   "metadata": {},
   "source": [
    "### Quiz: Extracting Predictions from an SVM"
   ]
  },
  {
   "cell_type": "code",
   "execution_count": 25,
   "metadata": {},
   "outputs": [
    {
     "name": "stdout",
     "output_type": "stream",
     "text": [
      "labels_pred[10] = 1\n",
      "labels_pred[26] = 0\n",
      "labels_pred[50] = 1\n"
     ]
    }
   ],
   "source": [
    "print(\"labels_pred[10] =\", labels_pred[10])\n",
    "print(\"labels_pred[26] =\", labels_pred[26])\n",
    "print(\"labels_pred[50] =\", labels_pred[50])"
   ]
  },
  {
   "cell_type": "markdown",
   "metadata": {},
   "source": [
    "### Quiz: How Many Chris Emails Predicted?"
   ]
  },
  {
   "cell_type": "code",
   "execution_count": 26,
   "metadata": {},
   "outputs": [
    {
     "name": "stdout",
     "output_type": "stream",
     "text": [
      "number of emails in test set predicted to be authored by Chris(1) 866\n"
     ]
    }
   ],
   "source": [
    "print(\"number of emails in test set predicted to be authored by Chris(1)\", sum(labels_pred))"
   ]
  },
  {
   "cell_type": "markdown",
   "metadata": {},
   "source": [
    "### What's the difference in performace between `SVC(kernel=\"linear\")` and `LinearSVC`?"
   ]
  },
  {
   "cell_type": "code",
   "execution_count": 27,
   "metadata": {},
   "outputs": [
    {
     "name": "stdout",
     "output_type": "stream",
     "text": [
      "training on 15820 out of 15820 ( 100.0 %)\n",
      "clf fit time: 0.483 s\n",
      "clf predict time: 0.005 s\n",
      "accuracy: 0.9931740614334471\n",
      "| LinearSVC | 1 | 16 | 0.9931740614334471 | 0.483s |\n"
     ]
    }
   ],
   "source": [
    "optimize_svm(kernel=\"LinearSVC\", amount_of_training_data = 1, C=16)"
   ]
  },
  {
   "cell_type": "markdown",
   "metadata": {},
   "source": [
    "\n",
    "| | data | C | accuracies | train time |\n",
    "|-|-|-|-|-|\n",
    "| linear | 1 | 1.0 | 0.9840728100113766 | 208.987s |\n",
    "| rbf | 1 | 1.0 | 0.9926052332195677 | 272.625s |\n",
    "| rbf | 10000.0 | 1.0 | 0.9960182025028441 | ~272.625s |\n",
    "| sigmoid | 1 | 1.0 | 0.9857792946530148 | 179.525s |\n",
    "| LinearSVC | 1 | 16 | 0.9931740614334471 | 0.483s |\n",
    "\n",
    "LinearSVC is FAST!!! but not as accurate"
   ]
  },
  {
   "cell_type": "markdown",
   "metadata": {},
   "source": [
    "## Conclusion\n",
    "SVC has a lot more parameters to manage than Naive Bayes.\n",
    "This was a good order to learn them in.\n",
    "Looking back at the Naive Bayes implementation it seems very simple.\n",
    "\n",
    "- slower that NB for the most part\n",
    "- higher accuracy (0.992 vs 0.973)\n",
    "- inference time is sometimes unacceptably long\n",
    "\n",
    "Some take aways\n",
    "- Refactoring the code into a single optimization function helped me see what was happening much more easily.\n",
    "- With long runtimes it became important to plan what work needed to be done on the kernel.\n",
    "    - where could I line up multiple long running tasks to answer a question\n",
    "    - where could I join multiple questions to answer them with fewer runs\n",
    "    - could I have cached the results / models so that running something with the same parameter would return instantly"
   ]
  }
 ],
 "metadata": {
  "kernelspec": {
   "display_name": "Python 3",
   "language": "python",
   "name": "python3"
  },
  "language_info": {
   "codemirror_mode": {
    "name": "ipython",
    "version": 3
   },
   "file_extension": ".py",
   "mimetype": "text/x-python",
   "name": "python",
   "nbconvert_exporter": "python",
   "pygments_lexer": "ipython3",
   "version": "3.7.6"
  }
 },
 "nbformat": 4,
 "nbformat_minor": 4
}
