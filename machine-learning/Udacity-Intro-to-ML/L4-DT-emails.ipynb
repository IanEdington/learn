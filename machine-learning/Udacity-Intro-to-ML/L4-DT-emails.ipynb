{
 "cells": [
  {
   "cell_type": "markdown",
   "metadata": {},
   "source": [
    "# Using a Decision Tree to categorize emails\n",
    "\n",
    "## Decision Tree Mini Project\n",
    "\n",
    "In this project, we will again try to classify emails, this time using a decision tree.   The starter code is in decision_tree/dt_author_id.py.\n",
    "\n",
    "### Part 1: Get the Decision Tree Running\n",
    "Get the decision tree up and running as a classifier, setting min_samples_split=40.  It will probably take a while to train.  What’s the accuracy?\n",
    "\n",
    "### Part 2: Speed It Up\n",
    "You found in the SVM mini-project that the parameter tune can significantly speed up the training time of a machine learning algorithm.  A general rule is that the parameters can tune the complexity of the algorithm, with more complex algorithms generally running more slowly.  \n",
    "\n",
    "Another way to control the complexity of an algorithm is via the number of features that you use in training/testing.  The more features the algorithm has available, the more potential there is for a complex fit.  We will explore this in detail in the “Feature Selection” lesson, but you’ll get a sneak preview now.\n",
    "\n",
    "- find the number of features in your data.  The data is organized into a numpy array where the number of rows is the number of data points and the number of columns is the number of features; so to extract this number, use a line of code like len(features_train[0])\n",
    "- go into tools/email_preprocess.py, and find the line of code that looks like this:     selector = SelectPercentile(f_classif, percentile=1)  Change percentile from 10 to 1.\n",
    "- What’s the number of features now?\n",
    "- What do you think SelectPercentile is doing?  Would a large value for percentile lead to a more complex or less complex decision tree, all other things being equal?\n",
    "- Note the difference in training time depending on the number of features.  \n",
    "- What’s the accuracy when percentile = 1?"
   ]
  },
  {
   "cell_type": "code",
   "execution_count": 1,
   "metadata": {},
   "outputs": [],
   "source": [
    "from time import time\n",
    "import matplotlib.pyplot as plt\n",
    "\n",
    "from sklearn.tree import DecisionTreeClassifier, plot_tree\n",
    "from sklearn.metrics import accuracy_score, classification_report\n",
    "from sklearn.model_selection import train_test_split\n",
    "\n",
    "from cache_sklearn_model import retrieve_cached_model, save_cached_model\n",
    "from email_preprocess import preprocess_emails"
   ]
  },
  {
   "cell_type": "code",
   "execution_count": 2,
   "metadata": {},
   "outputs": [],
   "source": [
    "def get_preprocess_emails_data(amount_of_training_data = 1.0, percentile_of_features = 10):\n",
    "    features_train, features_test, labels_train, labels_test = preprocess_emails(percentile_of_features)\n",
    "\n",
    "    print(f\"training on subset of features: ({percentile_of_features}%)\")\n",
    "\n",
    "    if amount_of_training_data == 1:\n",
    "        features = features_train\n",
    "        labels = labels_train\n",
    "    else:\n",
    "        features,_,labels,_ = train_test_split(\n",
    "            features_train,\n",
    "            labels_train,\n",
    "            train_size=amount_of_training_data,\n",
    "            random_state=91, \n",
    "        )\n",
    "\n",
    "    data_percentile = round(len(features)/ (len(features_train) + 0.0000001)*100)\n",
    "    print(f\"training on subset of traning data: {len(features)} out of {len(features_train)} ({data_percentile}%)\")\n",
    "\n",
    "    data_desc = f'preprocess_emails_{round(amount_of_training_data*100)}_{percentile_of_features}'\n",
    "\n",
    "    return [data_desc, features, features_test, labels, labels_test]"
   ]
  },
  {
   "cell_type": "code",
   "execution_count": 3,
   "metadata": {},
   "outputs": [],
   "source": [
    "def optimize_dt(amount_of_training_data = 1.0, percentile_of_features = 10, **kwargs):\n",
    "\n",
    "    data_desc, features_train, features_test, labels_train, labels_test = get_preprocess_emails_data(amount_of_training_data, percentile_of_features)\n",
    "\n",
    "    clf = DecisionTreeClassifier(random_state = 45, **kwargs)\n",
    "    [is_restored, clf, meta] = retrieve_cached_model(clf, data_desc)\n",
    "    \n",
    "    fit_delta = meta.get(\"fit_time_sec\")\n",
    "    if not is_restored:\n",
    "        t = time()\n",
    "        clf.fit(features_train, labels_train)\n",
    "        fit_delta = round(time()-t, 3)\n",
    "        save_cached_model(clf, data_desc, {\n",
    "            \"fit_time_sec\": fit_delta,\n",
    "        })\n",
    "    print(\"clf fit time:\", fit_delta, \"s\")\n",
    "    \n",
    "    # output predictions\n",
    "    t = time()\n",
    "    labels_pred = clf.predict(features_test)\n",
    "    pred_delta = round(time()-t, 3)\n",
    "    print(\"clf predict time:\", pred_delta, \"s\")\n",
    "    \n",
    "    # measure\n",
    "    n_nodes = clf.tree_.node_count\n",
    "    n_leaves = clf.get_n_leaves()\n",
    "    depth = clf.get_depth()\n",
    "    print(\"n_nodes:\", n_nodes, \"n_leaves:\", n_leaves, \"depth:\", depth)\n",
    "\n",
    "    print(classification_report(labels_pred, labels_test, digits=4))\n",
    "\n",
    "    accuracy = accuracy_score(labels_pred, labels_test)\n",
    "    print(f'| {amount_of_training_data} | {kwargs} | {fit_delta}s | {pred_delta}s | {accuracy} |')\n",
    "\n",
    "    return clf"
   ]
  },
  {
   "cell_type": "markdown",
   "metadata": {},
   "source": [
    "## How long do DTs take to compute?"
   ]
  },
  {
   "cell_type": "code",
   "execution_count": 4,
   "metadata": {},
   "outputs": [
    {
     "name": "stdout",
     "output_type": "stream",
     "text": [
      "training on subset of features: (10%)\n",
      "training on subset of traning data: 1582 out of 15820 (10%)\n",
      "clf fit time: 1.116 s\n",
      "clf predict time: 0.014 s\n",
      "n_nodes: 279 n_leaves: 140 depth: 87\n",
      "              precision    recall  f1-score   support\n",
      "\n",
      "           0     0.8578    0.9012    0.8789       850\n",
      "           1     0.9029    0.8601    0.8810       908\n",
      "\n",
      "    accuracy                         0.8800      1758\n",
      "   macro avg     0.8803    0.8807    0.8800      1758\n",
      "weighted avg     0.8811    0.8800    0.8800      1758\n",
      "\n",
      "| 0.1 | {} | 1.116s | 0.014s | 0.8799772468714449 |\n"
     ]
    }
   ],
   "source": [
    "_ = optimize_dt(amount_of_training_data = 0.10)"
   ]
  },
  {
   "cell_type": "code",
   "execution_count": 5,
   "metadata": {},
   "outputs": [
    {
     "name": "stdout",
     "output_type": "stream",
     "text": [
      "training on subset of features: (10%)\n",
      "training on subset of traning data: 3164 out of 15820 (20%)\n",
      "clf fit time: 5.182 s\n",
      "clf predict time: 0.013 s\n",
      "n_nodes: 379 n_leaves: 190 depth: 119\n",
      "              precision    recall  f1-score   support\n",
      "\n",
      "           0     0.9239    0.9461    0.9348       872\n",
      "           1     0.9457    0.9233    0.9343       886\n",
      "\n",
      "    accuracy                         0.9346      1758\n",
      "   macro avg     0.9348    0.9347    0.9346      1758\n",
      "weighted avg     0.9348    0.9346    0.9346      1758\n",
      "\n",
      "| 0.2 | {} | 5.182s | 0.013s | 0.934584755403868 |\n"
     ]
    }
   ],
   "source": [
    "_ = optimize_dt(amount_of_training_data = 0.20)"
   ]
  },
  {
   "cell_type": "code",
   "execution_count": 6,
   "metadata": {},
   "outputs": [
    {
     "name": "stdout",
     "output_type": "stream",
     "text": [
      "training on subset of features: (10%)\n",
      "training on subset of traning data: 6328 out of 15820 (40%)\n",
      "clf fit time: 18.78 s\n",
      "clf predict time: 0.011 s\n",
      "n_nodes: 559 n_leaves: 280 depth: 173\n",
      "              precision    recall  f1-score   support\n",
      "\n",
      "           0     0.9552    0.9574    0.9563       891\n",
      "           1     0.9561    0.9539    0.9550       867\n",
      "\n",
      "    accuracy                         0.9556      1758\n",
      "   macro avg     0.9556    0.9556    0.9556      1758\n",
      "weighted avg     0.9556    0.9556    0.9556      1758\n",
      "\n",
      "| 0.4 | {} | 18.78s | 0.011s | 0.9556313993174061 |\n"
     ]
    }
   ],
   "source": [
    "_ = optimize_dt(amount_of_training_data = 0.40)"
   ]
  },
  {
   "cell_type": "code",
   "execution_count": 7,
   "metadata": {},
   "outputs": [
    {
     "name": "stdout",
     "output_type": "stream",
     "text": [
      "training on subset of features: (10%)\n",
      "training on subset of traning data: 12656 out of 15820 (80%)\n",
      "clf fit time: 55.202 s\n",
      "clf predict time: 0.012 s\n",
      "n_nodes: 761 n_leaves: 381 depth: 215\n",
      "              precision    recall  f1-score   support\n",
      "\n",
      "           0     0.9731    0.9742    0.9737       892\n",
      "           1     0.9734    0.9723    0.9728       866\n",
      "\n",
      "    accuracy                         0.9733      1758\n",
      "   macro avg     0.9733    0.9733    0.9733      1758\n",
      "weighted avg     0.9733    0.9733    0.9733      1758\n",
      "\n",
      "| 0.8 | {} | 55.202s | 0.012s | 0.9732650739476678 |\n"
     ]
    }
   ],
   "source": [
    "_ = optimize_dt(amount_of_training_data = 0.80)"
   ]
  },
  {
   "cell_type": "code",
   "execution_count": 8,
   "metadata": {},
   "outputs": [
    {
     "name": "stdout",
     "output_type": "stream",
     "text": [
      "training on subset of features: (10%)\n",
      "training on subset of traning data: 15820 out of 15820 (100%)\n",
      "clf fit time: 77.709 s\n",
      "clf predict time: 0.012 s\n",
      "n_nodes: 813 n_leaves: 407 depth: 232\n",
      "              precision    recall  f1-score   support\n",
      "\n",
      "           0     0.9933    0.9889    0.9911       897\n",
      "           1     0.9884    0.9930    0.9907       861\n",
      "\n",
      "    accuracy                         0.9909      1758\n",
      "   macro avg     0.9909    0.9909    0.9909      1758\n",
      "weighted avg     0.9909    0.9909    0.9909      1758\n",
      "\n",
      "| 1 | {} | 77.709s | 0.012s | 0.9908987485779295 |\n"
     ]
    }
   ],
   "source": [
    "_ = optimize_dt(amount_of_training_data = 1)"
   ]
  },
  {
   "cell_type": "code",
   "execution_count": 9,
   "metadata": {},
   "outputs": [],
   "source": [
    "current_best = \"| 1 | {} | 77.709s | 0.013s | 0.9908987485779295 |\""
   ]
  },
  {
   "cell_type": "markdown",
   "metadata": {},
   "source": [
    "### Quiz: Your First Email DT: Accuracy"
   ]
  },
  {
   "cell_type": "code",
   "execution_count": 10,
   "metadata": {},
   "outputs": [
    {
     "name": "stdout",
     "output_type": "stream",
     "text": [
      "training on subset of features: (10%)\n",
      "training on subset of traning data: 15820 out of 15820 (100%)\n",
      "clf fit time: 78.901 s\n",
      "clf predict time: 0.012 s\n",
      "n_nodes: 703 n_leaves: 352 depth: 232\n",
      "              precision    recall  f1-score   support\n",
      "\n",
      "           0     0.9787    0.9765    0.9776       895\n",
      "           1     0.9757    0.9780    0.9769       863\n",
      "\n",
      "    accuracy                         0.9772      1758\n",
      "   macro avg     0.9772    0.9773    0.9772      1758\n",
      "weighted avg     0.9773    0.9772    0.9772      1758\n",
      "\n",
      "| 1.0 | {'min_samples_split': 40} | 78.901s | 0.012s | 0.9772468714448237 |\n"
     ]
    }
   ],
   "source": [
    "_ = optimize_dt(min_samples_split=40)"
   ]
  },
  {
   "cell_type": "markdown",
   "metadata": {},
   "source": [
    "### Quiz: Speeding Up Via Feature Selection"
   ]
  },
  {
   "cell_type": "code",
   "execution_count": 11,
   "metadata": {},
   "outputs": [
    {
     "name": "stdout",
     "output_type": "stream",
     "text": [
      "training on subset of features: (10%)\n",
      "training on subset of traning data: 15820 out of 15820 (100%)\n",
      "number of features currently training on: 3785\n"
     ]
    }
   ],
   "source": [
    "print(\"number of features currently training on:\", len(get_preprocess_emails_data()[1][0]))"
   ]
  },
  {
   "cell_type": "markdown",
   "metadata": {},
   "source": [
    "Accuracy Using 1% of Features"
   ]
  },
  {
   "cell_type": "code",
   "execution_count": 12,
   "metadata": {},
   "outputs": [
    {
     "name": "stdout",
     "output_type": "stream",
     "text": [
      "training on subset of features: (1%)\n",
      "training on subset of traning data: 15820 out of 15820 (100%)\n",
      "clf fit time: 4.997 s\n",
      "clf predict time: 0.002 s\n",
      "n_nodes: 679 n_leaves: 340 depth: 190\n",
      "              precision    recall  f1-score   support\n",
      "\n",
      "           0     0.9552    0.9793    0.9671       871\n",
      "           1     0.9792    0.9549    0.9669       887\n",
      "\n",
      "    accuracy                         0.9670      1758\n",
      "   macro avg     0.9672    0.9671    0.9670      1758\n",
      "weighted avg     0.9673    0.9670    0.9670      1758\n",
      "\n",
      "| 1.0 | {'min_samples_split': 40} | 4.997s | 0.002s | 0.9670079635949943 |\n"
     ]
    }
   ],
   "source": [
    "_ = optimize_dt(min_samples_split=40, percentile_of_features=1)"
   ]
  },
  {
   "cell_type": "markdown",
   "metadata": {},
   "source": [
    "## How do different params perform on this dataset?"
   ]
  },
  {
   "cell_type": "markdown",
   "metadata": {},
   "source": [
    "#### criterion\n",
    "I don't think `criterion` will have much of an impact since both `gini` and `entropy` are very similar and only make a difference in 2% of cases.\n",
    "\n",
    "https://datascience.stackexchange.com/questions/10228/when-should-i-use-gini-impurity-as-opposed-to-information-gain"
   ]
  },
  {
   "cell_type": "code",
   "execution_count": 13,
   "metadata": {},
   "outputs": [
    {
     "name": "stdout",
     "output_type": "stream",
     "text": [
      "training on subset of features: (10%)\n",
      "training on subset of traning data: 15820 out of 15820 (100%)\n",
      "clf fit time: 22.557 s\n",
      "clf predict time: 0.013 s\n",
      "n_nodes: 763 n_leaves: 382 depth: 174\n",
      "              precision    recall  f1-score   support\n",
      "\n",
      "           0     0.9922    0.9966    0.9944       889\n",
      "           1     0.9965    0.9919    0.9942       869\n",
      "\n",
      "    accuracy                         0.9943      1758\n",
      "   macro avg     0.9943    0.9943    0.9943      1758\n",
      "weighted avg     0.9943    0.9943    0.9943      1758\n",
      "\n",
      "| 1.0 | {'criterion': 'entropy'} | 22.557s | 0.013s | 0.9943117178612059 |\n",
      "| 1 | {} | 77.709s | 0.013s | 0.9908987485779295 |\n"
     ]
    }
   ],
   "source": [
    "_ = optimize_dt(criterion=\"entropy\")\n",
    "print(current_best)"
   ]
  },
  {
   "cell_type": "code",
   "execution_count": 14,
   "metadata": {},
   "outputs": [
    {
     "data": {
      "text/plain": [
       "0.0034129692832763903"
      ]
     },
     "execution_count": 14,
     "metadata": {},
     "output_type": "execute_result"
    }
   ],
   "source": [
    "0.9943117178612059 - 0.9908987485779295"
   ]
  },
  {
   "cell_type": "markdown",
   "metadata": {},
   "source": [
    "Using entropy only increases it by 0.0034. I'm doubtful that this is significant.\n",
    "However, I'll look at it again once all the other parameters are tuned."
   ]
  },
  {
   "cell_type": "markdown",
   "metadata": {},
   "source": [
    "#### splitter\n",
    "How does the `splitter=\"random\"` differ from `max_features`?"
   ]
  },
  {
   "cell_type": "code",
   "execution_count": 15,
   "metadata": {},
   "outputs": [
    {
     "name": "stdout",
     "output_type": "stream",
     "text": [
      "training on subset of features: (10%)\n",
      "training on subset of traning data: 15820 out of 15820 (100%)\n",
      "clf fit time: 46.89 s\n",
      "clf predict time: 0.015 s\n",
      "n_nodes: 863 n_leaves: 432 depth: 240\n",
      "              precision    recall  f1-score   support\n",
      "\n",
      "           0     0.9899    0.9910    0.9905       892\n",
      "           1     0.9908    0.9896    0.9902       866\n",
      "\n",
      "    accuracy                         0.9903      1758\n",
      "   macro avg     0.9903    0.9903    0.9903      1758\n",
      "weighted avg     0.9903    0.9903    0.9903      1758\n",
      "\n",
      "| 1.0 | {'splitter': 'random'} | 46.89s | 0.015s | 0.9903299203640501 |\n",
      "| 1 | {} | 77.709s | 0.013s | 0.9908987485779295 |\n"
     ]
    }
   ],
   "source": [
    "_ = optimize_dt(splitter=\"random\")\n",
    "print(current_best)"
   ]
  },
  {
   "cell_type": "markdown",
   "metadata": {},
   "source": [
    "Seems to have a shorter training time and lower accuracy"
   ]
  },
  {
   "cell_type": "markdown",
   "metadata": {},
   "source": [
    "#### class_weight\n",
    "This dataset is already class balanced so class_weight shouldn't make a difference"
   ]
  },
  {
   "cell_type": "code",
   "execution_count": 16,
   "metadata": {},
   "outputs": [
    {
     "name": "stdout",
     "output_type": "stream",
     "text": [
      "training on subset of features: (10%)\n",
      "training on subset of traning data: 15820 out of 15820 (100%)\n",
      "class 1: 8801\n",
      "class 2: 8777\n"
     ]
    }
   ],
   "source": [
    "def temp():\n",
    "    data_desc, features_train, features_test, labels_train, labels_test = get_preprocess_emails_data()\n",
    "    all_labels = labels_train + labels_test\n",
    "    print(f'class 1: {sum(all_labels)}')\n",
    "    print(f'class 2: {len(all_labels)-sum(all_labels)}')\n",
    "temp()"
   ]
  },
  {
   "cell_type": "code",
   "execution_count": 17,
   "metadata": {},
   "outputs": [
    {
     "name": "stdout",
     "output_type": "stream",
     "text": [
      "training on subset of features: (10%)\n",
      "training on subset of traning data: 15820 out of 15820 (100%)\n",
      "clf fit time: 80.095 s\n",
      "clf predict time: 0.014 s\n",
      "n_nodes: 813 n_leaves: 407 depth: 232\n",
      "              precision    recall  f1-score   support\n",
      "\n",
      "           0     0.9933    0.9889    0.9911       897\n",
      "           1     0.9884    0.9930    0.9907       861\n",
      "\n",
      "    accuracy                         0.9909      1758\n",
      "   macro avg     0.9909    0.9909    0.9909      1758\n",
      "weighted avg     0.9909    0.9909    0.9909      1758\n",
      "\n",
      "| 1.0 | {'class_weight': 'balanced'} | 80.095s | 0.014s | 0.9908987485779295 |\n",
      "| 1 | {} | 77.709s | 0.013s | 0.9908987485779295 |\n"
     ]
    }
   ],
   "source": [
    "_ = optimize_dt(class_weight=\"balanced\")\n",
    "print(current_best)"
   ]
  },
  {
   "cell_type": "markdown",
   "metadata": {},
   "source": [
    "### Pruning methods"
   ]
  },
  {
   "cell_type": "markdown",
   "metadata": {},
   "source": [
    "#### max_depth\n",
    "\n",
    "I suspect max_depth will be less effective than `min_samples_split`, `min_samples_leaf`, `min_weight_fraction_leaf`, `max_leaf_nodes`, etc.\n",
    "\n",
    "However, it will allow graphing the tree."
   ]
  },
  {
   "cell_type": "code",
   "execution_count": 18,
   "metadata": {},
   "outputs": [
    {
     "name": "stdout",
     "output_type": "stream",
     "text": [
      "training on subset of features: (10%)\n",
      "training on subset of traning data: 15820 out of 15820 (100%)\n",
      "clf fit time: 3.575 s\n",
      "clf predict time: 0.014 s\n",
      "n_nodes: 7 n_leaves: 4 depth: 2\n",
      "              precision    recall  f1-score   support\n",
      "\n",
      "           0     0.4894    0.9776    0.6522       447\n",
      "           1     0.9884    0.6522    0.7858      1311\n",
      "\n",
      "    accuracy                         0.7349      1758\n",
      "   macro avg     0.7389    0.8149    0.7190      1758\n",
      "weighted avg     0.8615    0.7349    0.7519      1758\n",
      "\n",
      "| 1.0 | {'max_depth': 2} | 3.575s | 0.014s | 0.7349260523321957 |\n"
     ]
    },
    {
     "data": {
      "image/png": "[encoded data removed]",
      "text/plain": [
       "<Figure size 432x288 with 1 Axes>"
      ]
     },
     "metadata": {
      "needs_background": "light"
     },
     "output_type": "display_data"
    }
   ],
   "source": [
    "_ = plot_tree(optimize_dt(max_depth=2))"
   ]
  },
  {
   "cell_type": "code",
   "execution_count": 19,
   "metadata": {},
   "outputs": [
    {
     "name": "stdout",
     "output_type": "stream",
     "text": [
      "training on subset of features: (10%)\n",
      "training on subset of traning data: 15820 out of 15820 (100%)\n",
      "clf fit time: 76.591 s\n",
      "clf predict time: 0.012 s\n",
      "n_nodes: 749 n_leaves: 375 depth: 200\n",
      "              precision    recall  f1-score   support\n",
      "\n",
      "           0     0.9922    0.9855    0.9888       899\n",
      "           1     0.9850    0.9919    0.9884       859\n",
      "\n",
      "    accuracy                         0.9886      1758\n",
      "   macro avg     0.9886    0.9887    0.9886      1758\n",
      "weighted avg     0.9886    0.9886    0.9886      1758\n",
      "\n",
      "| 1.0 | {'max_depth': 200} | 76.591s | 0.012s | 0.9886234357224118 |\n",
      "| 1 | {} | 77.709s | 0.013s | 0.9908987485779295 |\n"
     ]
    }
   ],
   "source": [
    "_ = optimize_dt(max_depth=200)\n",
    "print(current_best)"
   ]
  },
  {
   "cell_type": "markdown",
   "metadata": {},
   "source": [
    "#### `min_samples_split`\n",
    "what happens if we double?"
   ]
  },
  {
   "cell_type": "code",
   "execution_count": 20,
   "metadata": {},
   "outputs": [
    {
     "name": "stdout",
     "output_type": "stream",
     "text": [
      "training on subset of features: (10%)\n",
      "training on subset of traning data: 15820 out of 15820 (100%)\n",
      "clf fit time: 77.916 s\n",
      "clf predict time: 0.019 s\n",
      "n_nodes: 811 n_leaves: 406 depth: 232\n",
      "              precision    recall  f1-score   support\n",
      "\n",
      "           0     0.9933    0.9856    0.9894       900\n",
      "           1     0.9850    0.9930    0.9890       858\n",
      "\n",
      "    accuracy                         0.9892      1758\n",
      "   macro avg     0.9891    0.9893    0.9892      1758\n",
      "weighted avg     0.9892    0.9892    0.9892      1758\n",
      "\n",
      "| 1.0 | {'min_samples_split': 4} | 77.916s | 0.019s | 0.9891922639362912 |\n",
      "| 1 | {} | 77.709s | 0.013s | 0.9908987485779295 |\n"
     ]
    }
   ],
   "source": [
    "_ = optimize_dt(min_samples_split=4)\n",
    "print(current_best)"
   ]
  },
  {
   "cell_type": "code",
   "execution_count": 21,
   "metadata": {},
   "outputs": [
    {
     "name": "stdout",
     "output_type": "stream",
     "text": [
      "training on subset of features: (10%)\n",
      "training on subset of traning data: 15820 out of 15820 (100%)\n",
      "clf fit time: 75.32 s\n",
      "clf predict time: 0.013 s\n",
      "n_nodes: 811 n_leaves: 406 depth: 232\n",
      "              precision    recall  f1-score   support\n",
      "\n",
      "           0     0.9933    0.9856    0.9894       900\n",
      "           1     0.9850    0.9930    0.9890       858\n",
      "\n",
      "    accuracy                         0.9892      1758\n",
      "   macro avg     0.9891    0.9893    0.9892      1758\n",
      "weighted avg     0.9892    0.9892    0.9892      1758\n",
      "\n",
      "| 1.0 | {'min_samples_split': 3} | 75.32s | 0.013s | 0.9891922639362912 |\n",
      "| 1 | {} | 77.709s | 0.013s | 0.9908987485779295 |\n"
     ]
    }
   ],
   "source": [
    "_ = optimize_dt(min_samples_split=3)\n",
    "print(current_best)"
   ]
  },
  {
   "cell_type": "markdown",
   "metadata": {},
   "source": [
    "One benefit is you can restrict leaf nodes by a smaller amount. Not sure what the implications of this are in practical terms as you can still have leaf nodes with a single example."
   ]
  },
  {
   "cell_type": "markdown",
   "metadata": {},
   "source": [
    "#### `min_samples_leaf`\n",
    "try doubling"
   ]
  },
  {
   "cell_type": "code",
   "execution_count": 22,
   "metadata": {},
   "outputs": [
    {
     "name": "stdout",
     "output_type": "stream",
     "text": [
      "training on subset of features: (10%)\n",
      "training on subset of traning data: 15820 out of 15820 (100%)\n",
      "clf fit time: 75.351 s\n",
      "clf predict time: 0.012 s\n",
      "n_nodes: 811 n_leaves: 406 depth: 225\n",
      "              precision    recall  f1-score   support\n",
      "\n",
      "           0     0.9843    0.9821    0.9832       895\n",
      "           1     0.9815    0.9838    0.9826       863\n",
      "\n",
      "    accuracy                         0.9829      1758\n",
      "   macro avg     0.9829    0.9830    0.9829      1758\n",
      "weighted avg     0.9829    0.9829    0.9829      1758\n",
      "\n",
      "| 1.0 | {'min_samples_leaf': 2} | 75.351s | 0.012s | 0.9829351535836177 |\n"
     ]
    }
   ],
   "source": [
    "_ = optimize_dt(min_samples_leaf=2)"
   ]
  },
  {
   "cell_type": "markdown",
   "metadata": {},
   "source": [
    "#### `min_weight_fraction_leaf`\n",
    "should be the same as `min_samples_leaf` but weighted, which doesn't apply to this dataset"
   ]
  },
  {
   "cell_type": "markdown",
   "metadata": {},
   "source": [
    "#### `max_leaf_nodes`\n",
    "set to just below existing best: 407"
   ]
  },
  {
   "cell_type": "code",
   "execution_count": 23,
   "metadata": {},
   "outputs": [
    {
     "name": "stdout",
     "output_type": "stream",
     "text": [
      "training on subset of features: (10%)\n",
      "training on subset of traning data: 15820 out of 15820 (100%)\n",
      "clf fit time: 109.907 s\n",
      "clf predict time: 0.015 s\n",
      "n_nodes: 797 n_leaves: 399 depth: 225\n",
      "              precision    recall  f1-score   support\n",
      "\n",
      "           0     0.9933    0.9900    0.9916       896\n",
      "           1     0.9896    0.9930    0.9913       862\n",
      "\n",
      "    accuracy                         0.9915      1758\n",
      "   macro avg     0.9914    0.9915    0.9915      1758\n",
      "weighted avg     0.9915    0.9915    0.9915      1758\n",
      "\n",
      "| 1.0 | {'max_leaf_nodes': 399} | 109.907s | 0.015s | 0.9914675767918089 |\n",
      "| 1 | {} | 77.709s | 0.013s | 0.9908987485779295 |\n"
     ]
    }
   ],
   "source": [
    "_ = optimize_dt(max_leaf_nodes=399)\n",
    "print(current_best)"
   ]
  },
  {
   "cell_type": "markdown",
   "metadata": {},
   "source": [
    "max_leaf_nodes seems like the finest grain way to adjust a DT however, using it seems like it would lead to over fitting the test data."
   ]
  },
  {
   "cell_type": "markdown",
   "metadata": {},
   "source": [
    "#### `min_impurity_decrease`\n",
    "I doubt this will help since all the other ways of reducing node complexity has lead to not fitting as well to the training set. At this point I'm concerned that the training and test sets are too similar and that none of these models will generalize well to new data."
   ]
  },
  {
   "cell_type": "code",
   "execution_count": 24,
   "metadata": {},
   "outputs": [
    {
     "name": "stdout",
     "output_type": "stream",
     "text": [
      "training on subset of features: (10%)\n",
      "training on subset of traning data: 15820 out of 15820 (100%)\n",
      "clf fit time: 1.572 s\n",
      "clf predict time: 0.013 s\n",
      "n_nodes: 1 n_leaves: 1 depth: 0\n",
      "              precision    recall  f1-score   support\n",
      "\n",
      "           0     0.0000    0.0000    0.0000         0\n",
      "           1     1.0000    0.4920    0.6596      1758\n",
      "\n",
      "    accuracy                         0.4920      1758\n",
      "   macro avg     0.5000    0.2460    0.3298      1758\n",
      "weighted avg     1.0000    0.4920    0.6596      1758\n",
      "\n",
      "| 1.0 | {'min_impurity_decrease': 0.1} | 1.572s | 0.013s | 0.4920364050056883 |\n"
     ]
    },
    {
     "name": "stderr",
     "output_type": "stream",
     "text": [
      "/opt/conda/lib/python3.7/site-packages/sklearn/metrics/_classification.py:1272: UndefinedMetricWarning: Recall and F-score are ill-defined and being set to 0.0 in labels with no true samples. Use `zero_division` parameter to control this behavior.\n",
      "  _warn_prf(average, modifier, msg_start, len(result))\n"
     ]
    }
   ],
   "source": [
    "_ = optimize_dt(min_impurity_decrease=0.1)"
   ]
  },
  {
   "cell_type": "code",
   "execution_count": 25,
   "metadata": {},
   "outputs": [
    {
     "name": "stdout",
     "output_type": "stream",
     "text": [
      "training on subset of features: (10%)\n",
      "training on subset of traning data: 15820 out of 15820 (100%)\n",
      "clf fit time: 74.897 s\n",
      "clf predict time: 0.014 s\n",
      "n_nodes: 595 n_leaves: 298 depth: 136\n",
      "              precision    recall  f1-score   support\n",
      "\n",
      "           0     0.9854    0.9854    0.9854       893\n",
      "           1     0.9850    0.9850    0.9850       865\n",
      "\n",
      "    accuracy                         0.9852      1758\n",
      "   macro avg     0.9852    0.9852    0.9852      1758\n",
      "weighted avg     0.9852    0.9852    0.9852      1758\n",
      "\n",
      "| 1.0 | {'min_impurity_decrease': 0.0001} | 74.897s | 0.014s | 0.9852104664391353 |\n"
     ]
    }
   ],
   "source": [
    "_ = optimize_dt(min_impurity_decrease=0.0001)"
   ]
  },
  {
   "cell_type": "markdown",
   "metadata": {},
   "source": [
    "#### ccp_alpha"
   ]
  },
  {
   "cell_type": "code",
   "execution_count": 26,
   "metadata": {},
   "outputs": [],
   "source": [
    "# def look_at_cost_complexity_pruning_path():\n",
    "#     data_desc, features_train, features_test, labels_train, labels_test = get_preprocess_emails_data()\n",
    "\n",
    "#     clf = optimize_dt(amount_of_training_data = 1)\n",
    "#     path = clf.cost_complexity_pruning_path(features_train, labels_train)\n",
    "#     print(path)\n",
    "# look_at_cost_complexity_pruning_path()"
   ]
  },
  {
   "cell_type": "markdown",
   "metadata": {},
   "source": [
    "This is taking a long time and I'm doubtful that this pruning technique will be any different than the others."
   ]
  },
  {
   "cell_type": "code",
   "execution_count": 27,
   "metadata": {},
   "outputs": [
    {
     "name": "stdout",
     "output_type": "stream",
     "text": [
      "training on subset of features: (10%)\n",
      "training on subset of traning data: 15820 out of 15820 (100%)\n",
      "clf fit time: 73.812 s\n",
      "clf predict time: 0.014 s\n",
      "n_nodes: 609 n_leaves: 305 depth: 138\n",
      "              precision    recall  f1-score   support\n",
      "\n",
      "           0     0.9899    0.9877    0.9888       895\n",
      "           1     0.9873    0.9896    0.9884       863\n",
      "\n",
      "    accuracy                         0.9886      1758\n",
      "   macro avg     0.9886    0.9886    0.9886      1758\n",
      "weighted avg     0.9886    0.9886    0.9886      1758\n",
      "\n",
      "| 1.0 | {'ccp_alpha': 0.0001} | 73.812s | 0.014s | 0.9886234357224118 |\n"
     ]
    }
   ],
   "source": [
    "_ = optimize_dt(ccp_alpha=0.0001)"
   ]
  },
  {
   "cell_type": "markdown",
   "metadata": {},
   "source": [
    "### Introducing Randomness"
   ]
  },
  {
   "cell_type": "markdown",
   "metadata": {},
   "source": [
    "#### max_features"
   ]
  },
  {
   "cell_type": "markdown",
   "metadata": {},
   "source": [
    "Does max_features do anything when splitter=\"best\"? **yes**"
   ]
  },
  {
   "cell_type": "code",
   "execution_count": 28,
   "metadata": {},
   "outputs": [
    {
     "name": "stdout",
     "output_type": "stream",
     "text": [
      "training on subset of features: (10%)\n",
      "training on subset of traning data: 15820 out of 15820 (100%)\n",
      "clf fit time: 0.925 s\n",
      "clf predict time: 0.013 s\n",
      "n_nodes: 2097 n_leaves: 1049 depth: 278\n",
      "              precision    recall  f1-score   support\n",
      "\n",
      "           0     0.9899    0.9910    0.9905       892\n",
      "           1     0.9908    0.9896    0.9902       866\n",
      "\n",
      "    accuracy                         0.9903      1758\n",
      "   macro avg     0.9903    0.9903    0.9903      1758\n",
      "weighted avg     0.9903    0.9903    0.9903      1758\n",
      "\n",
      "| 1.0 | {'max_features': 'sqrt'} | 0.925s | 0.013s | 0.9903299203640501 |\n",
      "| 1 | {} | 77.709s | 0.013s | 0.9908987485779295 |\n"
     ]
    }
   ],
   "source": [
    "_ = optimize_dt(max_features = \"sqrt\")\n",
    "print(current_best)"
   ]
  },
  {
   "cell_type": "code",
   "execution_count": 29,
   "metadata": {},
   "outputs": [
    {
     "name": "stdout",
     "output_type": "stream",
     "text": [
      "training on subset of features: (10%)\n",
      "training on subset of traning data: 15820 out of 15820 (100%)\n",
      "clf fit time: 0.31 s\n",
      "clf predict time: 0.014 s\n",
      "n_nodes: 4945 n_leaves: 2473 depth: 345\n",
      "              precision    recall  f1-score   support\n",
      "\n",
      "           0     0.9765    0.9831    0.9798       887\n",
      "           1     0.9827    0.9759    0.9793       871\n",
      "\n",
      "    accuracy                         0.9795      1758\n",
      "   macro avg     0.9796    0.9795    0.9795      1758\n",
      "weighted avg     0.9795    0.9795    0.9795      1758\n",
      "\n",
      "| 1.0 | {'max_features': 'log2'} | 0.31s | 0.014s | 0.9795221843003413 |\n",
      "| 1 | {} | 77.709s | 0.013s | 0.9908987485779295 |\n"
     ]
    }
   ],
   "source": [
    "_ = optimize_dt(max_features = \"log2\")\n",
    "print(current_best)"
   ]
  },
  {
   "cell_type": "code",
   "execution_count": 30,
   "metadata": {},
   "outputs": [
    {
     "name": "stdout",
     "output_type": "stream",
     "text": [
      "training on subset of features: (20%)\n",
      "training on subset of traning data: 15820 out of 15820 (100%)\n",
      "clf fit time: 1.702 s\n",
      "clf predict time: 0.028 s\n",
      "n_nodes: 2801 n_leaves: 1401 depth: 318\n",
      "              precision    recall  f1-score   support\n",
      "\n",
      "           0     0.9854    0.9778    0.9816       900\n",
      "           1     0.9769    0.9848    0.9808       858\n",
      "\n",
      "    accuracy                         0.9812      1758\n",
      "   macro avg     0.9812    0.9813    0.9812      1758\n",
      "weighted avg     0.9813    0.9812    0.9812      1758\n",
      "\n",
      "| 1.0 | {'max_features': 'sqrt'} | 1.702s | 0.028s | 0.9812286689419796 |\n",
      "| 1 | {} | 77.709s | 0.013s | 0.9908987485779295 |\n"
     ]
    }
   ],
   "source": [
    "# if it's so fast can we add more features?\n",
    "_ = optimize_dt(percentile_of_features=20, max_features = \"sqrt\")\n",
    "print(current_best)"
   ]
  },
  {
   "cell_type": "markdown",
   "metadata": {},
   "source": [
    "There's probably some tuning in terms of number of features.\n",
    "Figuring out which features expain the data the best is probably something to consider too"
   ]
  },
  {
   "cell_type": "code",
   "execution_count": 31,
   "metadata": {},
   "outputs": [
    {
     "name": "stdout",
     "output_type": "stream",
     "text": [
      "training on subset of features: (10%)\n",
      "training on subset of traning data: 15820 out of 15820 (100%)\n",
      "clf fit time: 1.031 s\n",
      "clf predict time: 0.015 s\n",
      "n_nodes: 3697 n_leaves: 1849 depth: 401\n",
      "              precision    recall  f1-score   support\n",
      "\n",
      "           0     0.9720    0.9830    0.9775       883\n",
      "           1     0.9827    0.9714    0.9770       875\n",
      "\n",
      "    accuracy                         0.9772      1758\n",
      "   macro avg     0.9773    0.9772    0.9772      1758\n",
      "weighted avg     0.9773    0.9772    0.9772      1758\n",
      "\n",
      "| 1.0 | {'splitter': 'random', 'max_features': 'sqrt'} | 1.031s | 0.015s | 0.9772468714448237 |\n",
      "| 1 | {} | 77.709s | 0.013s | 0.9908987485779295 |\n"
     ]
    }
   ],
   "source": [
    "_ = optimize_dt(splitter=\"random\", max_features = \"sqrt\")\n",
    "print(current_best)"
   ]
  },
  {
   "cell_type": "markdown",
   "metadata": {},
   "source": [
    "## Optimize training of DT for this dataset"
   ]
  },
  {
   "cell_type": "code",
   "execution_count": 32,
   "metadata": {},
   "outputs": [
    {
     "name": "stdout",
     "output_type": "stream",
     "text": [
      "training on subset of features: (20%)\n",
      "training on subset of traning data: 15820 out of 15820 (100%)\n",
      "clf fit time: 138.702 s\n",
      "clf predict time: 0.03 s\n",
      "n_nodes: 821 n_leaves: 411 depth: 234\n",
      "              precision    recall  f1-score   support\n",
      "\n",
      "           0     0.9955    0.9933    0.9944       895\n",
      "           1     0.9931    0.9954    0.9942       863\n",
      "\n",
      "    accuracy                         0.9943      1758\n",
      "   macro avg     0.9943    0.9943    0.9943      1758\n",
      "weighted avg     0.9943    0.9943    0.9943      1758\n",
      "\n",
      "| 1.0 | {} | 138.702s | 0.03s | 0.9943117178612059 |\n"
     ]
    }
   ],
   "source": [
    "# try increasing the number of features\n",
    "_ = optimize_dt(percentile_of_features=20)"
   ]
  },
  {
   "cell_type": "code",
   "execution_count": 33,
   "metadata": {},
   "outputs": [
    {
     "name": "stdout",
     "output_type": "stream",
     "text": [
      "training on subset of features: (20%)\n",
      "training on subset of traning data: 15820 out of 15820 (100%)\n",
      "clf fit time: 45.27 s\n",
      "clf predict time: 0.03 s\n",
      "n_nodes: 781 n_leaves: 391 depth: 190\n",
      "              precision    recall  f1-score   support\n",
      "\n",
      "           0     0.9944    0.9944    0.9944       893\n",
      "           1     0.9942    0.9942    0.9942       865\n",
      "\n",
      "    accuracy                         0.9943      1758\n",
      "   macro avg     0.9943    0.9943    0.9943      1758\n",
      "weighted avg     0.9943    0.9943    0.9943      1758\n",
      "\n",
      "| 1.0 | {'criterion': 'entropy'} | 45.27s | 0.03s | 0.9943117178612059 |\n"
     ]
    }
   ],
   "source": [
    "_ = optimize_dt(percentile_of_features=20, criterion=\"entropy\")"
   ]
  },
  {
   "cell_type": "markdown",
   "metadata": {},
   "source": [
    "# Conclusion\n",
    "Using more data did increased the quality of the outcomes.\n",
    "Using entropy instead of the gini index did seems to result in the best solution."
   ]
  },
  {
   "cell_type": "markdown",
   "metadata": {},
   "source": [
    "# Questions\n",
    "\n",
    "> Decision tree learners create biased trees if some classes dominate. It is therefore recommended to balance the dataset prior to fitting with the decision tree.\n",
    "\n",
    "How do you balance a data by class?\n",
    "**Using `class_weight=\"balanced\"`**\n",
    "\n",
    "> There are concepts that are hard to learn because decision trees do not express them easily, such as XOR, parity or multiplexer problems.\n",
    "\n",
    "What does it mean to have an XOR, parity, or multiplexer problems in data?\n",
    "\n",
    "**XOR**: when one feature, or the other exist there is a positive effect, if they both exist it is negative. This should be true for Naive Bayes since each feature is assessed independently.\n",
    "\n",
    "> Decision trees can be unstable because small variations in the data might result in a completely different tree being generated. This problem is mitigated by using decision trees within an ensemble.\n",
    "\n",
    "What is an ensemble and how do you use it?\n",
    "**Should be in the next section**"
   ]
  }
 ],
 "metadata": {
  "kernelspec": {
   "display_name": "Python 3",
   "language": "python",
   "name": "python3"
  },
  "language_info": {
   "codemirror_mode": {
    "name": "ipython",
    "version": 3
   },
   "file_extension": ".py",
   "mimetype": "text/x-python",
   "name": "python",
   "nbconvert_exporter": "python",
   "pygments_lexer": "ipython3",
   "version": "3.7.6"
  }
 },
 "nbformat": 4,
 "nbformat_minor": 4
}
