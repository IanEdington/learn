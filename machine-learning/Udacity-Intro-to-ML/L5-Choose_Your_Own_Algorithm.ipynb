{
 "cells": [
  {
   "cell_type": "markdown",
   "metadata": {},
   "source": [
    "# Lesson 5: Choose Your Own Algorithm"
   ]
  },
  {
   "cell_type": "markdown",
   "metadata": {},
   "source": [
    "Algorithms to choose from:\n",
    "- Naive Bayes\n",
    "- SVM\n",
    "- Decision Tree\n",
    "- AdaBoost\n",
    "- Random Forest\n",
    "- KNN\n",
    "\n",
    "Data set to evaluate: `makeTerrainData` from `prep_terrain_data`\n",
    "\n",
    "This is a generated dataset of fake terrain conditions.\n",
    "\n",
    "Goal: Can You Beat Our High Score? 93.6%"
   ]
  },
  {
   "cell_type": "code",
   "execution_count": 1,
   "metadata": {
    "jupyter": {
     "outputs_hidden": false
    },
    "pycharm": {
     "name": "#%%\n"
    }
   },
   "outputs": [],
   "source": [
    "from time import time\n",
    "\n",
    "import matplotlib.pyplot as plt\n",
    "from sklearn.metrics import classification_report\n",
    "\n",
    "import cache_sklearn_model\n",
    "from prep_terrain_data import makeTerrainData"
   ]
  },
  {
   "cell_type": "markdown",
   "metadata": {
    "pycharm": {
     "name": "#%% md\n"
    }
   },
   "source": [
    "## Graph the data"
   ]
  },
  {
   "cell_type": "code",
   "execution_count": 2,
   "metadata": {
    "jupyter": {
     "outputs_hidden": false
    },
    "pycharm": {
     "name": "#%%\n"
    }
   },
   "outputs": [
    {
     "data": {
      "image/png": "[encoded data removed]",
      "text/plain": [
       "<Figure size 432x288 with 1 Axes>"
      ]
     },
     "metadata": {
      "needs_background": "light"
     },
     "output_type": "display_data"
    }
   ],
   "source": [
    "def graph_grade_vs_speed():\n",
    "    ### the training data (features_train, labels_train) have both \"fast\" and \"slow\"\n",
    "    ### points mixed together--separate them so we can give them different colors\n",
    "    ### in the scatter plot and identify them visually\n",
    "    features_train, labels_train, features_test, labels_test = makeTerrainData()\n",
    "    grade_fast = [features_train[ii][0] for ii in range(0, len(features_train)) if labels_train[ii]==0]\n",
    "    bumpy_fast = [features_train[ii][1] for ii in range(0, len(features_train)) if labels_train[ii]==0]\n",
    "    grade_slow = [features_train[ii][0] for ii in range(0, len(features_train)) if labels_train[ii]==1]\n",
    "    bumpy_slow = [features_train[ii][1] for ii in range(0, len(features_train)) if labels_train[ii]==1]\n",
    "\n",
    "    #### initial visualization\n",
    "    plt.xlim(0.0, 1.0)\n",
    "    plt.ylim(0.0, 1.0)\n",
    "    plt.scatter(bumpy_fast, grade_fast, color = \"b\", label=\"fast\")\n",
    "    plt.scatter(grade_slow, bumpy_slow, color = \"r\", label=\"slow\")\n",
    "    plt.legend()\n",
    "    plt.xlabel(\"bumpiness\")\n",
    "    plt.ylabel(\"grade\")\n",
    "    plt.show()\n",
    "graph_grade_vs_speed()"
   ]
  },
  {
   "cell_type": "markdown",
   "metadata": {},
   "source": [
    "## How to Measure success\n",
    "\n",
    "- what defines a model? model name, params, data_desc\n",
    "- where can we store meta data on scores against test_data\n",
    "- save scores to dict so we can see a running tally of the top performing models at any point"
   ]
  },
  {
   "cell_type": "code",
   "execution_count": 3,
   "metadata": {
    "pycharm": {
     "name": "#%%\n"
    }
   },
   "outputs": [],
   "source": [
    "classifier_performance_store = {}"
   ]
  },
  {
   "cell_type": "code",
   "execution_count": 4,
   "metadata": {
    "jupyter": {
     "outputs_hidden": false
    },
    "pycharm": {
     "is_executing": false,
     "name": "#%%\n"
    }
   },
   "outputs": [],
   "source": [
    "def measure_effectiveness_of_classifier(classifier, data_description, features_test, labels_test):\n",
    "    # identify using: classifier name, classifier params, data desc\n",
    "    classifier_key = cache_sklearn_model.get_hash_of_model_and_data(classifier, data_description)\n",
    "\n",
    "    # measure:\n",
    "    # - inference speed\n",
    "    t = time()\n",
    "    labels_pred = classifier.predict(features_test)\n",
    "    inference_speed = time() - t\n",
    "\n",
    "    # - accuracy score\n",
    "    # - recall\n",
    "    # - precision\n",
    "    report = classification_report(labels_test, labels_pred, output_dict=True)\n",
    "    classifier_performance = {\n",
    "        \"key\": classifier_key,\n",
    "        \"classifier\": type(classifier).__name__,\n",
    "        \"data_description\": data_description,\n",
    "        \"params\": classifier.get_params(),\n",
    "        \"accuracy\": report['accuracy'],\n",
    "        \"recall\": report['1']['recall'],\n",
    "        \"precision\": report['1']['precision'],\n",
    "        \"f1_score\": report['1']['f1-score'],\n",
    "        \"inference_speed\": inference_speed,\n",
    "    }\n",
    "\n",
    "    if classifier_key in classifier_performance_store:\n",
    "        print('measurement has already been taken on this model in this configuration')\n",
    "        print(classifier_performance_store[classifier_key])\n",
    "        print(classifier_performance)\n",
    "    else:\n",
    "        classifier_performance_store[classifier_key] = classifier_performance\n",
    "        display_classifier_table(classifier_key)"
   ]
  },
  {
   "cell_type": "code",
   "execution_count": 5,
   "metadata": {
    "pycharm": {
     "name": "#%%\n"
    }
   },
   "outputs": [],
   "source": [
    "def display_classifier_table(classifier_key = None):\n",
    "    classifiers_to_display = []\n",
    "    # requested classifier\n",
    "    if classifier_key is not None:\n",
    "        classifiers_to_display.append( classifier_performance_store[classifier_key])\n",
    "    # top classifiers\n",
    "    classifiers_to_display.extend(sorted(\n",
    "        classifier_performance_store.values(),\n",
    "        key=lambda metric: metric[\"accuracy\"],\n",
    "        reverse=True\n",
    "    )[0:5])\n",
    "\n",
    "    from IPython.display import display, Markdown\n",
    "\n",
    "    table_header = \"\"\"\n",
    "| Accuracy | dataset | classifier | params |\n",
    "| - | - | - | - |\n",
    "\"\"\"\n",
    "    table_row_template = \"| {accuracy:.3f} | {data_description} | {classifier} | {params} |\"\n",
    "    table_rows = [table_row_template.format(**metric) for metric in classifiers_to_display]\n",
    "\n",
    "    return display(Markdown(table_header + '\\n'.join(table_rows)))"
   ]
  }
 ],
 "metadata": {
  "kernelspec": {
   "display_name": "Python 3",
   "language": "python",
   "name": "python3"
  },
  "language_info": {
   "codemirror_mode": {
    "name": "ipython",
    "version": 3
   },
   "file_extension": ".py",
   "mimetype": "text/x-python",
   "name": "python",
   "nbconvert_exporter": "python",
   "pygments_lexer": "ipython3",
   "version": "3.8.3"
  }
 },
 "nbformat": 4,
 "nbformat_minor": 4
}