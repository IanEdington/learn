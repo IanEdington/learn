{
  "nbformat": 4,
  "nbformat_minor": 0,
  "metadata": {
    "colab": {
      "name": "Copy of Multi-class classification with MNIST.ipynb",
      "provenance": [],
      "collapsed_sections": [],
      "include_colab_link": true
    },
    "kernelspec": {
      "name": "python3",
      "display_name": "Python 3"
    }
  },
  "cells": [
    {
      "cell_type": "markdown",
      "metadata": {
        "id": "view-in-github",
        "colab_type": "text"
      },
      "source": [
        "<a href=\"https://colab.research.google.com/github/IanEdington/learn/blob/master/machine-learning/ggl-mlcc/Multi_class_classification_with_MNIST.ipynb\" target=\"_parent\"><img src=\"https://colab.research.google.com/assets/colab-badge.svg\" alt=\"Open In Colab\"/></a>"
      ]
    },
    {
      "cell_type": "code",
      "metadata": {
        "id": "wDlWLbfkJtvu",
        "colab_type": "code",
        "cellView": "form",
        "colab": {}
      },
      "source": [
        "#@title Copyright 2020 Google LLC. Double-click here for license information.\n",
        "# Licensed under the Apache License, Version 2.0 (the \"License\");\n",
        "# you may not use this file except in compliance with the License.\n",
        "# You may obtain a copy of the License at\n",
        "#\n",
        "# https://www.apache.org/licenses/LICENSE-2.0\n",
        "#\n",
        "# Unless required by applicable law or agreed to in writing, software\n",
        "# distributed under the License is distributed on an \"AS IS\" BASIS,\n",
        "# WITHOUT WARRANTIES OR CONDITIONS OF ANY KIND, either express or implied.\n",
        "# See the License for the specific language governing permissions and\n",
        "# limitations under the License.\n",
        "\n",
        "# Yann LeCun and Corinna Cortes hold the copyright of MNIST dataset,\n",
        "# which is a derivative work from original NIST datasets. \n",
        "# MNIST dataset is made available under the terms of the \n",
        "# Creative Commons Attribution-Share Alike 3.0 license."
      ],
      "execution_count": 0,
      "outputs": []
    },
    {
      "cell_type": "markdown",
      "metadata": {
        "id": "TL5y5fY9Jy_x",
        "colab_type": "text"
      },
      "source": [
        "# Multi-Class Classification\n",
        "\n",
        "This Colab explore multi-class classification problems through the classic MNIST dataset."
      ]
    },
    {
      "cell_type": "markdown",
      "metadata": {
        "id": "XuKlphuImFSN",
        "colab_type": "text"
      },
      "source": [
        "## Learning Objectives:\n",
        "\n",
        "After doing this Colab, you'll know how to do the following:\n",
        "\n",
        "  * Understand the classic MNIST problem.\n",
        "  * Create a deep neural network that performs multi-class classification.\n",
        "  * Tune the deep neural network.\n",
        "\n",
        "This exercise introduces image classification with machine learning."
      ]
    },
    {
      "cell_type": "markdown",
      "metadata": {
        "id": "cxj8yVh4mFl5",
        "colab_type": "text"
      },
      "source": [
        "## The Dataset\n",
        "  \n",
        "This MNIST dataset contains a lot of examples:\n",
        "\n",
        "* The MNIST training set contains 60,000 examples.\n",
        "* The MNIST test set contains 10,000 examples.\n",
        "\n",
        "Each example contains a pixel map showing how a person wrote a digit. For example, the following images shows how a person wrote the digit `1` and how that digit might be represented in a 14x14 pixel map (after the input data is normalized). \n",
        "\n",
        "![Two images. The first image shows a somewhat fuzzy digit one. The second image shows a 14x14 floating-point array in which most of the cells contain 0 but a few cells contain values between 0.0 and 1.0. The pattern of nonzero values corresponds to the image of the fuzzy digit in the first image.](https://www.tensorflow.org/images/MNIST-Matrix.png)\n",
        "\n",
        "Each example in the MNIST dataset consists of:\n",
        "\n",
        "* A label specified by a [rater](https://developers.google.com/machine-learning/glossary/#rater).  Each label must be an integer from 0 to 9.  For example, in the preceding image, the rater would almost certainly assign the label `1` to the example.\n",
        "* A 28x28 pixel map, where each pixel is an integer between 0 and 255. The pixel values are on a gray scale in which 0 represents white, 255 represents black, and values between 0 and 255 represent various shades of gray.  \n",
        "\n",
        "This is a multi-class classification problem with 10 output classes, one for each digit."
      ]
    },
    {
      "cell_type": "markdown",
      "metadata": {
        "id": "tX_umRMMsa3z",
        "colab_type": "text"
      },
      "source": [
        "## Use the right version of TensorFlow\n",
        "\n",
        "The following hidden code cell ensures that the Colab will run on TensorFlow 2.X."
      ]
    },
    {
      "cell_type": "code",
      "metadata": {
        "id": "lM75uNH-sTv2",
        "colab_type": "code",
        "cellView": "form",
        "colab": {}
      },
      "source": [
        "#@title Run on TensorFlow 2.x\n",
        "%tensorflow_version 2.x\n",
        "from __future__ import absolute_import, division, print_function, unicode_literals"
      ],
      "execution_count": 0,
      "outputs": []
    },
    {
      "cell_type": "markdown",
      "metadata": {
        "id": "xchnxAsaKKqO",
        "colab_type": "text"
      },
      "source": [
        "## Import relevant modules\n",
        "\n",
        "The following hidden code cell imports the necessary code to run the code in the rest of this Colaboratory."
      ]
    },
    {
      "cell_type": "code",
      "metadata": {
        "id": "9n9_cTveKmse",
        "colab_type": "code",
        "cellView": "form",
        "colab": {}
      },
      "source": [
        "#@title Import relevant modules\n",
        "import numpy as np\n",
        "import pandas as pd\n",
        "import tensorflow as tf\n",
        "from tensorflow.keras import layers\n",
        "from matplotlib import pyplot as plt\n",
        "\n",
        "# The following lines adjust the granularity of reporting. \n",
        "pd.options.display.max_rows = 10\n",
        "pd.options.display.float_format = \"{:.1f}\".format\n",
        "\n",
        "# The following line improves formatting when ouputting NumPy arrays.\n",
        "np.set_printoptions(linewidth = 200)"
      ],
      "execution_count": 0,
      "outputs": []
    },
    {
      "cell_type": "markdown",
      "metadata": {
        "id": "X_TaJhU4KcuY",
        "colab_type": "text"
      },
      "source": [
        "## Load the dataset\n",
        "\n",
        "`tf.keras` provides a set of convenience functions for loading well-known datasets. Each of these convenience functions does the following:\n",
        "\n",
        "* Loads both the training set and the test set.\n",
        "* Separates each set into features and labels.\n",
        "\n",
        "The relevant convenience function for MNIST is called `mnist.load_data()`:"
      ]
    },
    {
      "cell_type": "code",
      "metadata": {
        "id": "JZlvdpyYKx7V",
        "colab_type": "code",
        "colab": {}
      },
      "source": [
        "(x_train, y_train),(x_test, y_test) = tf.keras.datasets.mnist.load_data()\n"
      ],
      "execution_count": 0,
      "outputs": []
    },
    {
      "cell_type": "markdown",
      "metadata": {
        "id": "SfQkr3hxJGXU",
        "colab_type": "text"
      },
      "source": [
        "Notice that `mnist.load_data()` returned four separate values:\n",
        "\n",
        "* `x_train` contains the training set's features.\n",
        "* `y_train` contains the training set's labels.\n",
        "* `x_test` contains the test set's features.\n",
        "* `y_test` contains the test set's labels.\n",
        "\n",
        "**Note:** The MNIST .csv training set is already shuffled."
      ]
    },
    {
      "cell_type": "markdown",
      "metadata": {
        "id": "71vsSUM7pdmu",
        "colab_type": "text"
      },
      "source": [
        "## View the dataset\n",
        "\n",
        "The .csv file for the California Housing Dataset contains column names (for example, `latitude`, `longitude`, `population`). By contrast, the .csv file for MNIST does not contain column names. Instead of column names, you use ordinal numbers to access different subsets of the MNIST dataset. In fact, it is probably best to think of `x_train` and `x_test` as three-dimensional NumPy arrays:  \n",
        "\n"
      ]
    },
    {
      "cell_type": "code",
      "metadata": {
        "id": "IoOhpjkeCL8Q",
        "colab_type": "code",
        "colab": {}
      },
      "source": [
        "# Output example #2917 of the training set.\n",
        "x_train[2917]"
      ],
      "execution_count": 0,
      "outputs": []
    },
    {
      "cell_type": "markdown",
      "metadata": {
        "id": "LNJrJKUwvZMR",
        "colab_type": "text"
      },
      "source": [
        "Alternatively, you can call `matplotlib.pyplot.imshow` to interpret the preceding numeric array as an image. "
      ]
    },
    {
      "cell_type": "code",
      "metadata": {
        "id": "siRC8a1hJvmq",
        "colab_type": "code",
        "colab": {}
      },
      "source": [
        "# Use false colors to visualize the array.\n",
        "plt.imshow(x_train[2917])"
      ],
      "execution_count": 0,
      "outputs": []
    },
    {
      "cell_type": "code",
      "metadata": {
        "id": "V-he9IcihDxb",
        "colab_type": "code",
        "colab": {}
      },
      "source": [
        "# Output row #10 of example #2917.\n",
        "x_train[2917][10]"
      ],
      "execution_count": 0,
      "outputs": []
    },
    {
      "cell_type": "code",
      "metadata": {
        "id": "DUEWipalhQ8J",
        "colab_type": "code",
        "colab": {}
      },
      "source": [
        "# Output pixel #16 of row #10 of example #2900.\n",
        "x_train[2917][10][16]"
      ],
      "execution_count": 0,
      "outputs": []
    },
    {
      "cell_type": "markdown",
      "metadata": {
        "id": "8ldP-5z1B2vL",
        "colab_type": "text"
      },
      "source": [
        "## Task 1: Normalize feature values\n",
        "\n",
        "Complete the following code cell to map each feature value from its current representation (an integer between 0 and 255) to a floating-point value between 0 and 1.0. Store the floating-point values in `x_train_normalized` and `x_test_normalized`."
      ]
    },
    {
      "cell_type": "code",
      "metadata": {
        "id": "4YQljE-wizDw",
        "colab_type": "code",
        "colab": {}
      },
      "source": [
        "x_train_normalized = x_train / 255.0\n",
        "x_test_normalized = x_test / 255.0\n",
        "print(x_train_normalized[2900][10]) # Output a normalized row"
      ],
      "execution_count": 0,
      "outputs": []
    },
    {
      "cell_type": "code",
      "metadata": {
        "id": "g8HC-TDgB1D1",
        "colab_type": "code",
        "cellView": "both",
        "colab": {}
      },
      "source": [
        "#@title Double-click to see a solution to Task 1. \n",
        "\n",
        "x_train_normalized = x_train / 255.0\n",
        "x_test_normalized = x_test / 255.0\n",
        "print(x_train_normalized[2900][12]) # Output a normalized row"
      ],
      "execution_count": 0,
      "outputs": []
    },
    {
      "cell_type": "markdown",
      "metadata": {
        "id": "ZBWRF6CStuNA",
        "colab_type": "text"
      },
      "source": [
        "## Define a plotting function\n",
        "\n",
        "The following function plots an accuracy curve:"
      ]
    },
    {
      "cell_type": "code",
      "metadata": {
        "id": "QF0BFRXTOeR3",
        "colab_type": "code",
        "cellView": "both",
        "colab": {}
      },
      "source": [
        "#@title Define the plotting function\n",
        "def plot_curve(epochs, hist, list_of_metrics):\n",
        "  \"\"\"Plot a curve of one or more classification metrics vs. epoch.\"\"\"  \n",
        "  # list_of_metrics should be one of the names shown in:\n",
        "  # https://www.tensorflow.org/tutorials/structured_data/imbalanced_data#define_the_model_and_metrics  \n",
        "\n",
        "  plt.figure()\n",
        "  plt.xlabel(\"Epoch\")\n",
        "  plt.ylabel(\"Value\")\n",
        "\n",
        "  for m in list_of_metrics:\n",
        "    x = hist[m]\n",
        "    plt.plot(epochs[1:], x[1:], label=m)\n",
        "\n",
        "  plt.legend()\n",
        "\n",
        "print(\"Loaded the plot_curve function.\")"
      ],
      "execution_count": 0,
      "outputs": []
    },
    {
      "cell_type": "markdown",
      "metadata": {
        "id": "3014ezH3C7jT",
        "colab_type": "text"
      },
      "source": [
        "## Create a deep neural net model\n",
        "\n",
        "The `create_model` function defines the topography of the deep neural net, specifying the following:\n",
        "\n",
        "* The number of [layers](https://developers.google.com/machine-learning/glossary/#layer) in the deep neural net.\n",
        "* The number of [nodes](https://developers.google.com/machine-learning/glossary/#node) in each layer.\n",
        "* Any [regularization](https://developers.google.com/machine-learning/glossary/#regularization) layers.\n",
        "\n",
        "The `create_model` function also defines the [activation function](https://developers.google.com/machine-learning/glossary/#activation_function) of each layer.  The activation function of the output layer is [softmax](https://developers.google.com/machine-learning/glossary/#softmax), which will yield 10 different outputs for each example. Each of the 10 outputs provides the probability that the input example is a certain digit.\n",
        "\n",
        "**Note:** Unlike several of the recent Colabs, this exercise does not define feature columns or a feature layer.  Instead, the model will train on the NumPy array."
      ]
    },
    {
      "cell_type": "code",
      "metadata": {
        "id": "pedD5GhlDC-y",
        "colab_type": "code",
        "cellView": "both",
        "colab": {}
      },
      "source": [
        "def create_model(my_learning_rate):\n",
        "  \"\"\"Create and compile a deep neural net.\"\"\"\n",
        "  \n",
        "  # All models in this course are sequential.\n",
        "  model = tf.keras.models.Sequential()\n",
        "\n",
        "  # The features are stored in a two-dimensional 28X28 array. \n",
        "  # Flatten that two-dimensional array into a a one-dimensional \n",
        "  # 784-element array.\n",
        "  model.add(tf.keras.layers.Flatten(input_shape=(28, 28)))\n",
        "\n",
        "  # Define the first hidden layer.   \n",
        "  model.add(tf.keras.layers.Dense(units=32, activation='relu'))\n",
        "  \n",
        "  # Define a dropout regularization layer. \n",
        "  model.add(tf.keras.layers.Dropout(rate=0.2))\n",
        "\n",
        "  # Define the output layer. The units parameter is set to 10 because\n",
        "  # the model must choose among 10 possible output values (representing\n",
        "  # the digits from 0 to 9, inclusive).\n",
        "  #\n",
        "  # Don't change this layer.\n",
        "  model.add(tf.keras.layers.Dense(units=10, activation='softmax'))     \n",
        "                           \n",
        "  # Construct the layers into a model that TensorFlow can execute.  \n",
        "  # Notice that the loss function for multi-class classification\n",
        "  # is different than the loss function for binary classification.  \n",
        "  model.compile(optimizer=tf.keras.optimizers.Adam(lr=my_learning_rate),\n",
        "                loss=\"sparse_categorical_crossentropy\",\n",
        "                metrics=['accuracy'])\n",
        "  \n",
        "  return model    \n",
        "\n",
        "\n",
        "def train_model(model, train_features, train_label, epochs,\n",
        "                batch_size=None, validation_split=0.1):\n",
        "  \"\"\"Train the model by feeding it data.\"\"\"\n",
        "\n",
        "  history = model.fit(x=train_features, y=train_label, batch_size=batch_size,\n",
        "                      epochs=epochs, shuffle=True, \n",
        "                      validation_split=validation_split)\n",
        " \n",
        "  # To track the progression of training, gather a snapshot\n",
        "  # of the model's metrics at each epoch. \n",
        "  epochs = history.epoch\n",
        "  hist = pd.DataFrame(history.history)\n",
        "\n",
        "  return epochs, hist    "
      ],
      "execution_count": 0,
      "outputs": []
    },
    {
      "cell_type": "markdown",
      "metadata": {
        "id": "D-IXYVfvM4gD",
        "colab_type": "text"
      },
      "source": [
        "## Invoke the previous functions\n",
        "\n",
        "Run the following code cell to invoke the preceding functions and actually train the model on the training set. \n",
        "\n",
        "**Note:** Due to several factors (for example, more examples and a more complex neural network) training MNIST might take longer than training the California Housing Dataset. Be patient."
      ]
    },
    {
      "cell_type": "code",
      "metadata": {
        "colab_type": "code",
        "cellView": "both",
        "id": "RfFufrwiRt_j",
        "colab": {
          "base_uri": "https://localhost:8080/",
          "height": 1000
        },
        "outputId": "040644ab-021f-4aff-f450-acee65b845ce"
      },
      "source": [
        "# The following variables are the hyperparameters.\n",
        "learning_rate = 0.003\n",
        "epochs = 50\n",
        "batch_size = 4000\n",
        "validation_split = 0.2\n",
        "\n",
        "# Establish the model's topography.\n",
        "my_model = create_model(learning_rate)\n",
        "\n",
        "# Train the model on the normalized training set.\n",
        "epochs, hist = train_model(my_model, x_train_normalized, y_train, \n",
        "                           epochs, batch_size, validation_split)\n",
        "\n",
        "# Plot a graph of the metric vs. epochs.\n",
        "list_of_metrics_to_plot = ['accuracy']\n",
        "plot_curve(epochs, hist, list_of_metrics_to_plot)\n",
        "\n",
        "# Evaluate against the test set.\n",
        "print(\"\\n Evaluate the new model against the test set:\")\n",
        "my_model.evaluate(x=x_test_normalized, y=y_test, batch_size=batch_size)"
      ],
      "execution_count": 23,
      "outputs": [
        {
          "output_type": "stream",
          "text": [
            "Epoch 1/50\n",
            "12/12 [==============================] - 0s 39ms/step - loss: 1.6788 - accuracy: 0.4762 - val_loss: 0.9344 - val_accuracy: 0.7875\n",
            "Epoch 2/50\n",
            "12/12 [==============================] - 0s 32ms/step - loss: 0.8533 - accuracy: 0.7500 - val_loss: 0.5068 - val_accuracy: 0.8696\n",
            "Epoch 3/50\n",
            "12/12 [==============================] - 0s 33ms/step - loss: 0.6070 - accuracy: 0.8200 - val_loss: 0.3951 - val_accuracy: 0.8975\n",
            "Epoch 4/50\n",
            "12/12 [==============================] - 0s 32ms/step - loss: 0.5046 - accuracy: 0.8536 - val_loss: 0.3398 - val_accuracy: 0.9090\n",
            "Epoch 5/50\n",
            "12/12 [==============================] - 0s 33ms/step - loss: 0.4507 - accuracy: 0.8689 - val_loss: 0.3081 - val_accuracy: 0.9172\n",
            "Epoch 6/50\n",
            "12/12 [==============================] - 0s 34ms/step - loss: 0.4110 - accuracy: 0.8824 - val_loss: 0.2857 - val_accuracy: 0.9238\n",
            "Epoch 7/50\n",
            "12/12 [==============================] - 0s 32ms/step - loss: 0.3864 - accuracy: 0.8886 - val_loss: 0.2691 - val_accuracy: 0.9280\n",
            "Epoch 8/50\n",
            "12/12 [==============================] - 0s 33ms/step - loss: 0.3635 - accuracy: 0.8941 - val_loss: 0.2538 - val_accuracy: 0.9307\n",
            "Epoch 9/50\n",
            "12/12 [==============================] - 0s 33ms/step - loss: 0.3451 - accuracy: 0.8993 - val_loss: 0.2423 - val_accuracy: 0.9337\n",
            "Epoch 10/50\n",
            "12/12 [==============================] - 0s 33ms/step - loss: 0.3330 - accuracy: 0.9041 - val_loss: 0.2336 - val_accuracy: 0.9375\n",
            "Epoch 11/50\n",
            "12/12 [==============================] - 0s 34ms/step - loss: 0.3221 - accuracy: 0.9047 - val_loss: 0.2249 - val_accuracy: 0.9387\n",
            "Epoch 12/50\n",
            "12/12 [==============================] - 0s 33ms/step - loss: 0.3099 - accuracy: 0.9097 - val_loss: 0.2189 - val_accuracy: 0.9398\n",
            "Epoch 13/50\n",
            "12/12 [==============================] - 0s 33ms/step - loss: 0.2983 - accuracy: 0.9117 - val_loss: 0.2109 - val_accuracy: 0.9421\n",
            "Epoch 14/50\n",
            "12/12 [==============================] - 0s 33ms/step - loss: 0.2887 - accuracy: 0.9152 - val_loss: 0.2054 - val_accuracy: 0.9426\n",
            "Epoch 15/50\n",
            "12/12 [==============================] - 0s 33ms/step - loss: 0.2812 - accuracy: 0.9174 - val_loss: 0.2008 - val_accuracy: 0.9443\n",
            "Epoch 16/50\n",
            "12/12 [==============================] - 0s 33ms/step - loss: 0.2768 - accuracy: 0.9194 - val_loss: 0.1959 - val_accuracy: 0.9444\n",
            "Epoch 17/50\n",
            "12/12 [==============================] - 0s 32ms/step - loss: 0.2716 - accuracy: 0.9200 - val_loss: 0.1919 - val_accuracy: 0.9457\n",
            "Epoch 18/50\n",
            "12/12 [==============================] - 0s 34ms/step - loss: 0.2650 - accuracy: 0.9220 - val_loss: 0.1884 - val_accuracy: 0.9482\n",
            "Epoch 19/50\n",
            "12/12 [==============================] - 0s 33ms/step - loss: 0.2607 - accuracy: 0.9236 - val_loss: 0.1845 - val_accuracy: 0.9481\n",
            "Epoch 20/50\n",
            "12/12 [==============================] - 0s 34ms/step - loss: 0.2543 - accuracy: 0.9249 - val_loss: 0.1810 - val_accuracy: 0.9492\n",
            "Epoch 21/50\n",
            "12/12 [==============================] - 0s 33ms/step - loss: 0.2496 - accuracy: 0.9260 - val_loss: 0.1780 - val_accuracy: 0.9503\n",
            "Epoch 22/50\n",
            "12/12 [==============================] - 0s 33ms/step - loss: 0.2443 - accuracy: 0.9282 - val_loss: 0.1752 - val_accuracy: 0.9498\n",
            "Epoch 23/50\n",
            "12/12 [==============================] - 0s 33ms/step - loss: 0.2396 - accuracy: 0.9285 - val_loss: 0.1734 - val_accuracy: 0.9512\n",
            "Epoch 24/50\n",
            "12/12 [==============================] - 0s 34ms/step - loss: 0.2340 - accuracy: 0.9302 - val_loss: 0.1698 - val_accuracy: 0.9510\n",
            "Epoch 25/50\n",
            "12/12 [==============================] - 0s 32ms/step - loss: 0.2325 - accuracy: 0.9303 - val_loss: 0.1676 - val_accuracy: 0.9517\n",
            "Epoch 26/50\n",
            "12/12 [==============================] - 0s 33ms/step - loss: 0.2274 - accuracy: 0.9322 - val_loss: 0.1644 - val_accuracy: 0.9527\n",
            "Epoch 27/50\n",
            "12/12 [==============================] - 0s 34ms/step - loss: 0.2244 - accuracy: 0.9329 - val_loss: 0.1631 - val_accuracy: 0.9537\n",
            "Epoch 28/50\n",
            "12/12 [==============================] - 0s 32ms/step - loss: 0.2215 - accuracy: 0.9325 - val_loss: 0.1616 - val_accuracy: 0.9538\n",
            "Epoch 29/50\n",
            "12/12 [==============================] - 0s 33ms/step - loss: 0.2164 - accuracy: 0.9352 - val_loss: 0.1588 - val_accuracy: 0.9552\n",
            "Epoch 30/50\n",
            "12/12 [==============================] - 0s 35ms/step - loss: 0.2134 - accuracy: 0.9367 - val_loss: 0.1582 - val_accuracy: 0.9560\n",
            "Epoch 31/50\n",
            "12/12 [==============================] - 0s 33ms/step - loss: 0.2157 - accuracy: 0.9350 - val_loss: 0.1552 - val_accuracy: 0.9563\n",
            "Epoch 32/50\n",
            "12/12 [==============================] - 0s 34ms/step - loss: 0.2118 - accuracy: 0.9370 - val_loss: 0.1547 - val_accuracy: 0.9574\n",
            "Epoch 33/50\n",
            "12/12 [==============================] - 0s 31ms/step - loss: 0.2059 - accuracy: 0.9376 - val_loss: 0.1536 - val_accuracy: 0.9563\n",
            "Epoch 34/50\n",
            "12/12 [==============================] - 0s 34ms/step - loss: 0.2055 - accuracy: 0.9380 - val_loss: 0.1514 - val_accuracy: 0.9569\n",
            "Epoch 35/50\n",
            "12/12 [==============================] - 0s 33ms/step - loss: 0.2034 - accuracy: 0.9389 - val_loss: 0.1501 - val_accuracy: 0.9578\n",
            "Epoch 36/50\n",
            "12/12 [==============================] - 0s 33ms/step - loss: 0.1993 - accuracy: 0.9395 - val_loss: 0.1490 - val_accuracy: 0.9589\n",
            "Epoch 37/50\n",
            "12/12 [==============================] - 0s 32ms/step - loss: 0.1957 - accuracy: 0.9407 - val_loss: 0.1471 - val_accuracy: 0.9578\n",
            "Epoch 38/50\n",
            "12/12 [==============================] - 0s 33ms/step - loss: 0.1945 - accuracy: 0.9416 - val_loss: 0.1459 - val_accuracy: 0.9590\n",
            "Epoch 39/50\n",
            "12/12 [==============================] - 0s 33ms/step - loss: 0.1921 - accuracy: 0.9416 - val_loss: 0.1450 - val_accuracy: 0.9594\n",
            "Epoch 40/50\n",
            "12/12 [==============================] - 0s 33ms/step - loss: 0.1927 - accuracy: 0.9415 - val_loss: 0.1441 - val_accuracy: 0.9594\n",
            "Epoch 41/50\n",
            "12/12 [==============================] - 0s 33ms/step - loss: 0.1902 - accuracy: 0.9421 - val_loss: 0.1442 - val_accuracy: 0.9596\n",
            "Epoch 42/50\n",
            "12/12 [==============================] - 0s 33ms/step - loss: 0.1884 - accuracy: 0.9423 - val_loss: 0.1434 - val_accuracy: 0.9602\n",
            "Epoch 43/50\n",
            "12/12 [==============================] - 0s 34ms/step - loss: 0.1848 - accuracy: 0.9449 - val_loss: 0.1414 - val_accuracy: 0.9604\n",
            "Epoch 44/50\n",
            "12/12 [==============================] - 0s 33ms/step - loss: 0.1860 - accuracy: 0.9443 - val_loss: 0.1400 - val_accuracy: 0.9607\n",
            "Epoch 45/50\n",
            "12/12 [==============================] - 0s 32ms/step - loss: 0.1824 - accuracy: 0.9440 - val_loss: 0.1401 - val_accuracy: 0.9603\n",
            "Epoch 46/50\n",
            "12/12 [==============================] - 0s 32ms/step - loss: 0.1817 - accuracy: 0.9444 - val_loss: 0.1390 - val_accuracy: 0.9607\n",
            "Epoch 47/50\n",
            "12/12 [==============================] - 0s 33ms/step - loss: 0.1791 - accuracy: 0.9449 - val_loss: 0.1383 - val_accuracy: 0.9617\n",
            "Epoch 48/50\n",
            "12/12 [==============================] - 0s 33ms/step - loss: 0.1805 - accuracy: 0.9452 - val_loss: 0.1384 - val_accuracy: 0.9607\n",
            "Epoch 49/50\n",
            "12/12 [==============================] - 0s 33ms/step - loss: 0.1770 - accuracy: 0.9454 - val_loss: 0.1389 - val_accuracy: 0.9609\n",
            "Epoch 50/50\n",
            "12/12 [==============================] - 0s 32ms/step - loss: 0.1753 - accuracy: 0.9464 - val_loss: 0.1367 - val_accuracy: 0.9607\n",
            "\n",
            " Evaluate the new model against the test set:\n",
            "3/3 [==============================] - 0s 5ms/step - loss: 0.1352 - accuracy: 0.9591\n"
          ],
          "name": "stdout"
        },
        {
          "output_type": "execute_result",
          "data": {
            "text/plain": [
              "[0.13523469865322113, 0.9591000080108643]"
            ]
          },
          "metadata": {
            "tags": []
          },
          "execution_count": 23
        },
        {
          "output_type": "display_data",
          "data": {
            "image/png": "[encoded data removed]",
            "text/plain": [
              "<Figure size 432x288 with 1 Axes>"
            ]
          },
          "metadata": {
            "tags": [],
            "needs_background": "light"
          }
        }
      ]
    },
    {
      "cell_type": "code",
      "metadata": {
        "id": "nj3v5EKQFY8s",
        "colab_type": "code",
        "cellView": "both",
        "colab": {}
      },
      "source": [
        "def create_model(my_learning_rate):\n",
        "  \"\"\"Create and compile a deep neural net.\"\"\"\n",
        "  \n",
        "  # All models in this course are sequential.\n",
        "  model = tf.keras.models.Sequential()\n",
        "\n",
        "  # The features are stored in a two-dimensional 28X28 array. \n",
        "  # Flatten that two-dimensional array into a a one-dimensional \n",
        "  # 784-element array.\n",
        "  model.add(tf.keras.layers.Flatten(input_shape=(28, 28)))\n",
        "\n",
        "  # Define the first hidden layer.   \n",
        "  model.add(tf.keras.layers.Dense(units=32, activation='relu'))\n",
        "  \n",
        "  # Define a dropout regularization layer. \n",
        "  model.add(tf.keras.layers.Dropout(rate=0.2))\n",
        "  # Define the first hidden layer.   \n",
        "  model.add(tf.keras.layers.Dense(units=32, activation='relu'))\n",
        "  \n",
        "  # Define a dropout regularization layer. \n",
        "  model.add(tf.keras.layers.Dropout(rate=0.2))\n",
        "\n",
        "  # Define the output layer. The units parameter is set to 10 because\n",
        "  # the model must choose among 10 possible output values (representing\n",
        "  # the digits from 0 to 9, inclusive).\n",
        "  #\n",
        "  # Don't change this layer.\n",
        "  model.add(tf.keras.layers.Dense(units=10, activation='softmax'))     \n",
        "                           \n",
        "  # Construct the layers into a model that TensorFlow can execute.  \n",
        "  # Notice that the loss function for multi-class classification\n",
        "  # is different than the loss function for binary classification.  \n",
        "  model.compile(optimizer=tf.keras.optimizers.Adam(lr=my_learning_rate),\n",
        "                loss=\"sparse_categorical_crossentropy\",\n",
        "                metrics=['accuracy'])\n",
        "  \n",
        "  return model    \n",
        "\n",
        "\n",
        "def train_model(model, train_features, train_label, epochs,\n",
        "                batch_size=None, validation_split=0.1):\n",
        "  \"\"\"Train the model by feeding it data.\"\"\"\n",
        "\n",
        "  history = model.fit(x=train_features, y=train_label, batch_size=batch_size,\n",
        "                      epochs=epochs, shuffle=True, \n",
        "                      validation_split=validation_split)\n",
        " \n",
        "  # To track the progression of training, gather a snapshot\n",
        "  # of the model's metrics at each epoch. \n",
        "  epochs = history.epoch\n",
        "  hist = pd.DataFrame(history.history)\n",
        "\n",
        "  return epochs, hist\n",
        "  \n",
        "# The following variables are the hyperparameters.\n",
        "learning_rate = 0.003\n",
        "epochs = 50\n",
        "batch_size = 4000\n",
        "validation_split = 0.2\n",
        "\n",
        "# Establish the model's topography.\n",
        "my_model = create_model(learning_rate)\n",
        "\n",
        "# Train the model on the normalized training set.\n",
        "epochs, hist = train_model(my_model, x_train_normalized, y_train, \n",
        "                           epochs, batch_size, validation_split)\n",
        "\n",
        "# Plot a graph of the metric vs. epochs.\n",
        "list_of_metrics_to_plot = ['accuracy']\n",
        "plot_curve(epochs, hist, list_of_metrics_to_plot)\n",
        "\n",
        "# Evaluate against the test set.\n",
        "print(\"\\n Evaluate the new model against the test set:\")\n",
        "my_model.evaluate(x=x_test_normalized, y=y_test, batch_size=batch_size)"
      ],
      "execution_count": 0,
      "outputs": []
    },
    {
      "cell_type": "code",
      "metadata": {
        "colab_type": "code",
        "cellView": "both",
        "id": "q0g6b4t0R8U1",
        "colab": {
          "base_uri": "https://localhost:8080/",
          "height": 1000
        },
        "outputId": "56707269-cb9e-4433-c335-1f0c1beaf5b7"
      },
      "source": [
        "def create_model(my_learning_rate):\n",
        "  \"\"\"Create and compile a deep neural net.\"\"\"\n",
        "  \n",
        "  # All models in this course are sequential.\n",
        "  model = tf.keras.models.Sequential()\n",
        "\n",
        "  # The features are stored in a two-dimensional 28X28 array. \n",
        "  # Flatten that two-dimensional array into a a one-dimensional \n",
        "  # 784-element array.\n",
        "  model.add(tf.keras.layers.Flatten(input_shape=(28, 28)))\n",
        "\n",
        "  # Define the first hidden layer.\n",
        "  model.add(tf.keras.layers.Dense(units=32, activation='relu'))\n",
        "  # Define a dropout regularization layer.\n",
        "  model.add(tf.keras.layers.Dropout(rate=0.2))\n",
        "  # Define the first hidden layer.\n",
        "  model.add(tf.keras.layers.Dense(units=32, activation='relu'))\n",
        "  # Define a dropout regularization layer. \n",
        "  model.add(tf.keras.layers.Dropout(rate=0.2))\n",
        "  # Define the first hidden layer.\n",
        "  model.add(tf.keras.layers.Dense(units=32, activation='relu'))\n",
        "  # Define a dropout regularization layer. \n",
        "  model.add(tf.keras.layers.Dropout(rate=0.2))\n",
        "\n",
        "  # Define the output layer. The units parameter is set to 10 because\n",
        "  # the model must choose among 10 possible output values (representing\n",
        "  # the digits from 0 to 9, inclusive).\n",
        "  #\n",
        "  # Don't change this layer.\n",
        "  model.add(tf.keras.layers.Dense(units=10, activation='softmax'))     \n",
        "                           \n",
        "  # Construct the layers into a model that TensorFlow can execute.  \n",
        "  # Notice that the loss function for multi-class classification\n",
        "  # is different than the loss function for binary classification.  \n",
        "  model.compile(optimizer=tf.keras.optimizers.Adam(lr=my_learning_rate),\n",
        "                loss=\"sparse_categorical_crossentropy\",\n",
        "                metrics=['accuracy'])\n",
        "  \n",
        "  return model    \n",
        "\n",
        "\n",
        "def train_model(model, train_features, train_label, epochs,\n",
        "                batch_size=None, validation_split=0.1):\n",
        "  \"\"\"Train the model by feeding it data.\"\"\"\n",
        "\n",
        "  history = model.fit(x=train_features, y=train_label, batch_size=batch_size,\n",
        "                      epochs=epochs, shuffle=True, \n",
        "                      validation_split=validation_split)\n",
        " \n",
        "  # To track the progression of training, gather a snapshot\n",
        "  # of the model's metrics at each epoch. \n",
        "  epochs = history.epoch\n",
        "  hist = pd.DataFrame(history.history)\n",
        "\n",
        "  return epochs, hist\n",
        "  \n",
        "# The following variables are the hyperparameters.\n",
        "learning_rate = 0.003\n",
        "epochs = 50\n",
        "batch_size = 4000\n",
        "validation_split = 0.2\n",
        "\n",
        "# Establish the model's topography.\n",
        "my_model = create_model(learning_rate)\n",
        "\n",
        "# Train the model on the normalized training set.\n",
        "epochs, hist = train_model(my_model, x_train_normalized, y_train, \n",
        "                           epochs, batch_size, validation_split)\n",
        "\n",
        "# Plot a graph of the metric vs. epochs.\n",
        "list_of_metrics_to_plot = ['accuracy']\n",
        "plot_curve(epochs, hist, list_of_metrics_to_plot)\n",
        "\n",
        "# Evaluate against the test set.\n",
        "print(\"\\n Evaluate the new model against the test set:\")\n",
        "my_model.evaluate(x=x_test_normalized, y=y_test, batch_size=batch_size)"
      ],
      "execution_count": 21,
      "outputs": [
        {
          "output_type": "stream",
          "text": [
            "Epoch 1/50\n",
            "12/12 [==============================] - 1s 45ms/step - loss: 1.9905 - accuracy: 0.3192 - val_loss: 1.3168 - val_accuracy: 0.6142\n",
            "Epoch 2/50\n",
            "12/12 [==============================] - 0s 38ms/step - loss: 1.3332 - accuracy: 0.5450 - val_loss: 0.7386 - val_accuracy: 0.7944\n",
            "Epoch 3/50\n",
            "12/12 [==============================] - 0s 39ms/step - loss: 0.9645 - accuracy: 0.6744 - val_loss: 0.4990 - val_accuracy: 0.8515\n",
            "Epoch 4/50\n",
            "12/12 [==============================] - 0s 39ms/step - loss: 0.7570 - accuracy: 0.7514 - val_loss: 0.3979 - val_accuracy: 0.8840\n",
            "Epoch 5/50\n",
            "12/12 [==============================] - 0s 39ms/step - loss: 0.6398 - accuracy: 0.7991 - val_loss: 0.3285 - val_accuracy: 0.9071\n",
            "Epoch 6/50\n",
            "12/12 [==============================] - 0s 38ms/step - loss: 0.5617 - accuracy: 0.8308 - val_loss: 0.2846 - val_accuracy: 0.9169\n",
            "Epoch 7/50\n",
            "12/12 [==============================] - 0s 39ms/step - loss: 0.5029 - accuracy: 0.8514 - val_loss: 0.2576 - val_accuracy: 0.9253\n",
            "Epoch 8/50\n",
            "12/12 [==============================] - 0s 37ms/step - loss: 0.4638 - accuracy: 0.8648 - val_loss: 0.2385 - val_accuracy: 0.9301\n",
            "Epoch 9/50\n",
            "12/12 [==============================] - 0s 38ms/step - loss: 0.4354 - accuracy: 0.8730 - val_loss: 0.2234 - val_accuracy: 0.9347\n",
            "Epoch 10/50\n",
            "12/12 [==============================] - 0s 37ms/step - loss: 0.4091 - accuracy: 0.8806 - val_loss: 0.2135 - val_accuracy: 0.9381\n",
            "Epoch 11/50\n",
            "12/12 [==============================] - 0s 38ms/step - loss: 0.3947 - accuracy: 0.8859 - val_loss: 0.2024 - val_accuracy: 0.9409\n",
            "Epoch 12/50\n",
            "12/12 [==============================] - 0s 37ms/step - loss: 0.3678 - accuracy: 0.8937 - val_loss: 0.1946 - val_accuracy: 0.9435\n",
            "Epoch 13/50\n",
            "12/12 [==============================] - 0s 41ms/step - loss: 0.3601 - accuracy: 0.8961 - val_loss: 0.1861 - val_accuracy: 0.9465\n",
            "Epoch 14/50\n",
            "12/12 [==============================] - 0s 38ms/step - loss: 0.3428 - accuracy: 0.9004 - val_loss: 0.1850 - val_accuracy: 0.9463\n",
            "Epoch 15/50\n",
            "12/12 [==============================] - 0s 39ms/step - loss: 0.3357 - accuracy: 0.9020 - val_loss: 0.1795 - val_accuracy: 0.9467\n",
            "Epoch 16/50\n",
            "12/12 [==============================] - 0s 39ms/step - loss: 0.3236 - accuracy: 0.9070 - val_loss: 0.1734 - val_accuracy: 0.9492\n",
            "Epoch 17/50\n",
            "12/12 [==============================] - 0s 39ms/step - loss: 0.3147 - accuracy: 0.9096 - val_loss: 0.1711 - val_accuracy: 0.9511\n",
            "Epoch 18/50\n",
            "12/12 [==============================] - 0s 37ms/step - loss: 0.3082 - accuracy: 0.9127 - val_loss: 0.1685 - val_accuracy: 0.9518\n",
            "Epoch 19/50\n",
            "12/12 [==============================] - 0s 38ms/step - loss: 0.3041 - accuracy: 0.9140 - val_loss: 0.1695 - val_accuracy: 0.9501\n",
            "Epoch 20/50\n",
            "12/12 [==============================] - 0s 38ms/step - loss: 0.2986 - accuracy: 0.9142 - val_loss: 0.1649 - val_accuracy: 0.9539\n",
            "Epoch 21/50\n",
            "12/12 [==============================] - 0s 38ms/step - loss: 0.2885 - accuracy: 0.9162 - val_loss: 0.1636 - val_accuracy: 0.9536\n",
            "Epoch 22/50\n",
            "12/12 [==============================] - 0s 38ms/step - loss: 0.2858 - accuracy: 0.9181 - val_loss: 0.1611 - val_accuracy: 0.9545\n",
            "Epoch 23/50\n",
            "12/12 [==============================] - 0s 38ms/step - loss: 0.2784 - accuracy: 0.9205 - val_loss: 0.1606 - val_accuracy: 0.9544\n",
            "Epoch 24/50\n",
            "12/12 [==============================] - 0s 38ms/step - loss: 0.2760 - accuracy: 0.9210 - val_loss: 0.1585 - val_accuracy: 0.9548\n",
            "Epoch 25/50\n",
            "12/12 [==============================] - 0s 37ms/step - loss: 0.2695 - accuracy: 0.9231 - val_loss: 0.1561 - val_accuracy: 0.9557\n",
            "Epoch 26/50\n",
            "12/12 [==============================] - 0s 37ms/step - loss: 0.2630 - accuracy: 0.9235 - val_loss: 0.1546 - val_accuracy: 0.9569\n",
            "Epoch 27/50\n",
            "12/12 [==============================] - 0s 40ms/step - loss: 0.2590 - accuracy: 0.9255 - val_loss: 0.1536 - val_accuracy: 0.9559\n",
            "Epoch 28/50\n",
            "12/12 [==============================] - 0s 38ms/step - loss: 0.2605 - accuracy: 0.9255 - val_loss: 0.1526 - val_accuracy: 0.9567\n",
            "Epoch 29/50\n",
            "12/12 [==============================] - 0s 37ms/step - loss: 0.2549 - accuracy: 0.9273 - val_loss: 0.1516 - val_accuracy: 0.9578\n",
            "Epoch 30/50\n",
            "12/12 [==============================] - 0s 38ms/step - loss: 0.2505 - accuracy: 0.9286 - val_loss: 0.1489 - val_accuracy: 0.9588\n",
            "Epoch 31/50\n",
            "12/12 [==============================] - 0s 38ms/step - loss: 0.2478 - accuracy: 0.9280 - val_loss: 0.1471 - val_accuracy: 0.9594\n",
            "Epoch 32/50\n",
            "12/12 [==============================] - 0s 37ms/step - loss: 0.2447 - accuracy: 0.9302 - val_loss: 0.1460 - val_accuracy: 0.9592\n",
            "Epoch 33/50\n",
            "12/12 [==============================] - 0s 38ms/step - loss: 0.2436 - accuracy: 0.9298 - val_loss: 0.1466 - val_accuracy: 0.9579\n",
            "Epoch 34/50\n",
            "12/12 [==============================] - 0s 41ms/step - loss: 0.2386 - accuracy: 0.9310 - val_loss: 0.1491 - val_accuracy: 0.9576\n",
            "Epoch 35/50\n",
            "12/12 [==============================] - 0s 38ms/step - loss: 0.2374 - accuracy: 0.9314 - val_loss: 0.1450 - val_accuracy: 0.9595\n",
            "Epoch 36/50\n",
            "12/12 [==============================] - 0s 38ms/step - loss: 0.2374 - accuracy: 0.9333 - val_loss: 0.1454 - val_accuracy: 0.9595\n",
            "Epoch 37/50\n",
            "12/12 [==============================] - 0s 38ms/step - loss: 0.2340 - accuracy: 0.9323 - val_loss: 0.1458 - val_accuracy: 0.9586\n",
            "Epoch 38/50\n",
            "12/12 [==============================] - 0s 38ms/step - loss: 0.2313 - accuracy: 0.9335 - val_loss: 0.1477 - val_accuracy: 0.9597\n",
            "Epoch 39/50\n",
            "12/12 [==============================] - 0s 37ms/step - loss: 0.2257 - accuracy: 0.9358 - val_loss: 0.1472 - val_accuracy: 0.9592\n",
            "Epoch 40/50\n",
            "12/12 [==============================] - 0s 37ms/step - loss: 0.2278 - accuracy: 0.9359 - val_loss: 0.1448 - val_accuracy: 0.9594\n",
            "Epoch 41/50\n",
            "12/12 [==============================] - 0s 38ms/step - loss: 0.2245 - accuracy: 0.9352 - val_loss: 0.1452 - val_accuracy: 0.9591\n",
            "Epoch 42/50\n",
            "12/12 [==============================] - 0s 39ms/step - loss: 0.2251 - accuracy: 0.9342 - val_loss: 0.1440 - val_accuracy: 0.9597\n",
            "Epoch 43/50\n",
            "12/12 [==============================] - 0s 37ms/step - loss: 0.2225 - accuracy: 0.9358 - val_loss: 0.1434 - val_accuracy: 0.9588\n",
            "Epoch 44/50\n",
            "12/12 [==============================] - 0s 38ms/step - loss: 0.2164 - accuracy: 0.9380 - val_loss: 0.1448 - val_accuracy: 0.9588\n",
            "Epoch 45/50\n",
            "12/12 [==============================] - 0s 38ms/step - loss: 0.2198 - accuracy: 0.9367 - val_loss: 0.1445 - val_accuracy: 0.9604\n",
            "Epoch 46/50\n",
            "12/12 [==============================] - 0s 39ms/step - loss: 0.2158 - accuracy: 0.9385 - val_loss: 0.1416 - val_accuracy: 0.9602\n",
            "Epoch 47/50\n",
            "12/12 [==============================] - 0s 38ms/step - loss: 0.2148 - accuracy: 0.9385 - val_loss: 0.1425 - val_accuracy: 0.9602\n",
            "Epoch 48/50\n",
            "12/12 [==============================] - 0s 38ms/step - loss: 0.2081 - accuracy: 0.9408 - val_loss: 0.1413 - val_accuracy: 0.9608\n",
            "Epoch 49/50\n",
            "12/12 [==============================] - 0s 38ms/step - loss: 0.2124 - accuracy: 0.9399 - val_loss: 0.1428 - val_accuracy: 0.9607\n",
            "Epoch 50/50\n",
            "12/12 [==============================] - 0s 37ms/step - loss: 0.2116 - accuracy: 0.9405 - val_loss: 0.1440 - val_accuracy: 0.9590\n",
            "\n",
            " Evaluate the new model against the test set:\n",
            "3/3 [==============================] - 0s 5ms/step - loss: 0.1545 - accuracy: 0.9568\n"
          ],
          "name": "stdout"
        },
        {
          "output_type": "execute_result",
          "data": {
            "text/plain": [
              "[0.15451927483081818, 0.9567999839782715]"
            ]
          },
          "metadata": {
            "tags": []
          },
          "execution_count": 21
        },
        {
          "output_type": "display_data",
          "data": {
            "image/png": "[encoded data removed]",
            "text/plain": [
              "<Figure size 432x288 with 1 Axes>"
            ]
          },
          "metadata": {
            "tags": [],
            "needs_background": "light"
          }
        }
      ]
    },
    {
      "cell_type": "code",
      "metadata": {
        "colab_type": "code",
        "cellView": "both",
        "outputId": "af784d82-cbc3-440f-eef2-195b37c680d2",
        "id": "wLwzKV-0Se1g",
        "colab": {
          "base_uri": "https://localhost:8080/",
          "height": 1000
        }
      },
      "source": [
        "def create_model(my_learning_rate):\n",
        "  \"\"\"Create and compile a deep neural net.\"\"\"\n",
        "  \n",
        "  # All models in this course are sequential.\n",
        "  model = tf.keras.models.Sequential()\n",
        "\n",
        "  # The features are stored in a two-dimensional 28X28 array. \n",
        "  # Flatten that two-dimensional array into a a one-dimensional \n",
        "  # 784-element array.\n",
        "  model.add(tf.keras.layers.Flatten(input_shape=(28, 28)))\n",
        "\n",
        "  # Define the first hidden layer.\n",
        "  model.add(tf.keras.layers.Dense(units=300, activation='relu'))\n",
        "  # Define a dropout regularization layer.\n",
        "  model.add(tf.keras.layers.Dropout(rate=0.2))\n",
        "  # Define the first hidden layer.\n",
        "  model.add(tf.keras.layers.Dense(units=150, activation='relu'))\n",
        "  # Define a dropout regularization layer. \n",
        "  model.add(tf.keras.layers.Dropout(rate=0.2))\n",
        "  # Define the first hidden layer.\n",
        "  model.add(tf.keras.layers.Dense(units=32, activation='relu'))\n",
        "  # Define a dropout regularization layer. \n",
        "  model.add(tf.keras.layers.Dropout(rate=0.2))\n",
        "\n",
        "  # Define the output layer. The units parameter is set to 10 because\n",
        "  # the model must choose among 10 possible output values (representing\n",
        "  # the digits from 0 to 9, inclusive).\n",
        "  #\n",
        "  # Don't change this layer.\n",
        "  model.add(tf.keras.layers.Dense(units=10, activation='softmax'))     \n",
        "                           \n",
        "  # Construct the layers into a model that TensorFlow can execute.  \n",
        "  # Notice that the loss function for multi-class classification\n",
        "  # is different than the loss function for binary classification.  \n",
        "  model.compile(optimizer=tf.keras.optimizers.Adam(lr=my_learning_rate),\n",
        "                loss=\"sparse_categorical_crossentropy\",\n",
        "                metrics=['accuracy'])\n",
        "  \n",
        "  return model    \n",
        "\n",
        "\n",
        "def train_model(model, train_features, train_label, epochs,\n",
        "                batch_size=None, validation_split=0.1):\n",
        "  \"\"\"Train the model by feeding it data.\"\"\"\n",
        "\n",
        "  history = model.fit(x=train_features, y=train_label, batch_size=batch_size,\n",
        "                      epochs=epochs, shuffle=True, \n",
        "                      validation_split=validation_split)\n",
        " \n",
        "  # To track the progression of training, gather a snapshot\n",
        "  # of the model's metrics at each epoch. \n",
        "  epochs = history.epoch\n",
        "  hist = pd.DataFrame(history.history)\n",
        "\n",
        "  return epochs, hist\n",
        "  \n",
        "# The following variables are the hyperparameters.\n",
        "learning_rate = 0.003\n",
        "epochs = 50\n",
        "batch_size = 4000\n",
        "validation_split = 0.2\n",
        "\n",
        "# Establish the model's topography.\n",
        "my_model = create_model(learning_rate)\n",
        "\n",
        "# Train the model on the normalized training set.\n",
        "epochs, hist = train_model(my_model, x_train_normalized, y_train, \n",
        "                           epochs, batch_size, validation_split)\n",
        "\n",
        "# Plot a graph of the metric vs. epochs.\n",
        "list_of_metrics_to_plot = ['accuracy']\n",
        "plot_curve(epochs, hist, list_of_metrics_to_plot)\n",
        "\n",
        "# Evaluate against the test set.\n",
        "print(\"\\n Evaluate the new model against the test set:\")\n",
        "my_model.evaluate(x=x_test_normalized, y=y_test, batch_size=batch_size)"
      ],
      "execution_count": 25,
      "outputs": [
        {
          "output_type": "stream",
          "text": [
            "Epoch 1/100\n",
            "12/12 [==============================] - 2s 138ms/step - loss: 1.4001 - accuracy: 0.5329 - val_loss: 0.4342 - val_accuracy: 0.8826\n",
            "Epoch 2/100\n",
            "12/12 [==============================] - 2s 134ms/step - loss: 0.5335 - accuracy: 0.8415 - val_loss: 0.2626 - val_accuracy: 0.9227\n",
            "Epoch 3/100\n",
            "12/12 [==============================] - 2s 133ms/step - loss: 0.3444 - accuracy: 0.9017 - val_loss: 0.1965 - val_accuracy: 0.9405\n",
            "Epoch 4/100\n",
            "12/12 [==============================] - 2s 132ms/step - loss: 0.2639 - accuracy: 0.9269 - val_loss: 0.1652 - val_accuracy: 0.9518\n",
            "Epoch 5/100\n",
            "12/12 [==============================] - 2s 128ms/step - loss: 0.2166 - accuracy: 0.9398 - val_loss: 0.1394 - val_accuracy: 0.9592\n",
            "Epoch 6/100\n",
            "12/12 [==============================] - 2s 130ms/step - loss: 0.1807 - accuracy: 0.9495 - val_loss: 0.1256 - val_accuracy: 0.9629\n",
            "Epoch 7/100\n",
            "12/12 [==============================] - 2s 129ms/step - loss: 0.1527 - accuracy: 0.9579 - val_loss: 0.1157 - val_accuracy: 0.9665\n",
            "Epoch 8/100\n",
            "12/12 [==============================] - 2s 128ms/step - loss: 0.1349 - accuracy: 0.9612 - val_loss: 0.1104 - val_accuracy: 0.9675\n",
            "Epoch 9/100\n",
            "12/12 [==============================] - 2s 129ms/step - loss: 0.1206 - accuracy: 0.9664 - val_loss: 0.1039 - val_accuracy: 0.9694\n",
            "Epoch 10/100\n",
            "12/12 [==============================] - 2s 129ms/step - loss: 0.1076 - accuracy: 0.9701 - val_loss: 0.1004 - val_accuracy: 0.9709\n",
            "Epoch 11/100\n",
            "12/12 [==============================] - 2s 135ms/step - loss: 0.0989 - accuracy: 0.9719 - val_loss: 0.0999 - val_accuracy: 0.9707\n",
            "Epoch 12/100\n",
            "12/12 [==============================] - 2s 137ms/step - loss: 0.0873 - accuracy: 0.9753 - val_loss: 0.0952 - val_accuracy: 0.9737\n",
            "Epoch 13/100\n",
            "12/12 [==============================] - 2s 134ms/step - loss: 0.0804 - accuracy: 0.9774 - val_loss: 0.0935 - val_accuracy: 0.9737\n",
            "Epoch 14/100\n",
            "12/12 [==============================] - 2s 135ms/step - loss: 0.0721 - accuracy: 0.9790 - val_loss: 0.0957 - val_accuracy: 0.9729\n",
            "Epoch 15/100\n",
            "12/12 [==============================] - 2s 133ms/step - loss: 0.0652 - accuracy: 0.9808 - val_loss: 0.0911 - val_accuracy: 0.9738\n",
            "Epoch 16/100\n",
            "12/12 [==============================] - 2s 133ms/step - loss: 0.0600 - accuracy: 0.9827 - val_loss: 0.0905 - val_accuracy: 0.9751\n",
            "Epoch 17/100\n",
            "12/12 [==============================] - 2s 134ms/step - loss: 0.0578 - accuracy: 0.9830 - val_loss: 0.0869 - val_accuracy: 0.9753\n",
            "Epoch 18/100\n",
            "12/12 [==============================] - 3s 238ms/step - loss: 0.0512 - accuracy: 0.9851 - val_loss: 0.0883 - val_accuracy: 0.9760\n",
            "Epoch 19/100\n",
            "12/12 [==============================] - 3s 234ms/step - loss: 0.0450 - accuracy: 0.9874 - val_loss: 0.0881 - val_accuracy: 0.9768\n",
            "Epoch 20/100\n",
            "12/12 [==============================] - 3s 220ms/step - loss: 0.0435 - accuracy: 0.9871 - val_loss: 0.0881 - val_accuracy: 0.9778\n",
            "Epoch 21/100\n",
            "12/12 [==============================] - 2s 133ms/step - loss: 0.0408 - accuracy: 0.9879 - val_loss: 0.0902 - val_accuracy: 0.9765\n",
            "Epoch 22/100\n",
            "12/12 [==============================] - 2s 135ms/step - loss: 0.0381 - accuracy: 0.9892 - val_loss: 0.0870 - val_accuracy: 0.9767\n",
            "Epoch 23/100\n",
            "12/12 [==============================] - 2s 134ms/step - loss: 0.0359 - accuracy: 0.9897 - val_loss: 0.0870 - val_accuracy: 0.9787\n",
            "Epoch 24/100\n",
            "12/12 [==============================] - 2s 134ms/step - loss: 0.0307 - accuracy: 0.9909 - val_loss: 0.0916 - val_accuracy: 0.9778\n",
            "Epoch 25/100\n",
            "12/12 [==============================] - 2s 134ms/step - loss: 0.0297 - accuracy: 0.9913 - val_loss: 0.0935 - val_accuracy: 0.9781\n",
            "Epoch 26/100\n",
            "12/12 [==============================] - 2s 134ms/step - loss: 0.0318 - accuracy: 0.9905 - val_loss: 0.0877 - val_accuracy: 0.9777\n",
            "Epoch 27/100\n",
            "12/12 [==============================] - 2s 139ms/step - loss: 0.0279 - accuracy: 0.9917 - val_loss: 0.0935 - val_accuracy: 0.9774\n",
            "Epoch 28/100\n",
            "12/12 [==============================] - 2s 136ms/step - loss: 0.0267 - accuracy: 0.9917 - val_loss: 0.0932 - val_accuracy: 0.9782\n",
            "Epoch 29/100\n",
            "12/12 [==============================] - 2s 133ms/step - loss: 0.0241 - accuracy: 0.9924 - val_loss: 0.0880 - val_accuracy: 0.9793\n",
            "Epoch 30/100\n",
            "12/12 [==============================] - 2s 134ms/step - loss: 0.0235 - accuracy: 0.9929 - val_loss: 0.0918 - val_accuracy: 0.9795\n",
            "Epoch 31/100\n",
            "12/12 [==============================] - 2s 134ms/step - loss: 0.0229 - accuracy: 0.9933 - val_loss: 0.0933 - val_accuracy: 0.9792\n",
            "Epoch 32/100\n",
            "12/12 [==============================] - 2s 133ms/step - loss: 0.0221 - accuracy: 0.9935 - val_loss: 0.0917 - val_accuracy: 0.9793\n",
            "Epoch 33/100\n",
            "12/12 [==============================] - 2s 137ms/step - loss: 0.0192 - accuracy: 0.9942 - val_loss: 0.0927 - val_accuracy: 0.9797\n",
            "Epoch 34/100\n",
            "12/12 [==============================] - 2s 134ms/step - loss: 0.0221 - accuracy: 0.9936 - val_loss: 0.0908 - val_accuracy: 0.9801\n",
            "Epoch 35/100\n",
            "12/12 [==============================] - 2s 134ms/step - loss: 0.0208 - accuracy: 0.9934 - val_loss: 0.0871 - val_accuracy: 0.9813\n",
            "Epoch 36/100\n",
            "12/12 [==============================] - 2s 135ms/step - loss: 0.0179 - accuracy: 0.9948 - val_loss: 0.0948 - val_accuracy: 0.9795\n",
            "Epoch 37/100\n",
            "12/12 [==============================] - 2s 136ms/step - loss: 0.0191 - accuracy: 0.9938 - val_loss: 0.0988 - val_accuracy: 0.9787\n",
            "Epoch 38/100\n",
            "12/12 [==============================] - 2s 135ms/step - loss: 0.0177 - accuracy: 0.9950 - val_loss: 0.0913 - val_accuracy: 0.9809\n",
            "Epoch 39/100\n",
            "12/12 [==============================] - 2s 137ms/step - loss: 0.0190 - accuracy: 0.9940 - val_loss: 0.0948 - val_accuracy: 0.9790\n",
            "Epoch 40/100\n",
            "12/12 [==============================] - 2s 136ms/step - loss: 0.0172 - accuracy: 0.9951 - val_loss: 0.0954 - val_accuracy: 0.9795\n",
            "Epoch 41/100\n",
            "12/12 [==============================] - 2s 135ms/step - loss: 0.0168 - accuracy: 0.9954 - val_loss: 0.1039 - val_accuracy: 0.9785\n",
            "Epoch 42/100\n",
            "12/12 [==============================] - 2s 137ms/step - loss: 0.0180 - accuracy: 0.9944 - val_loss: 0.0998 - val_accuracy: 0.9796\n",
            "Epoch 43/100\n",
            "12/12 [==============================] - 2s 136ms/step - loss: 0.0170 - accuracy: 0.9950 - val_loss: 0.1003 - val_accuracy: 0.9797\n",
            "Epoch 44/100\n",
            "12/12 [==============================] - 2s 135ms/step - loss: 0.0167 - accuracy: 0.9950 - val_loss: 0.0997 - val_accuracy: 0.9801\n",
            "Epoch 45/100\n",
            "12/12 [==============================] - 2s 140ms/step - loss: 0.0176 - accuracy: 0.9948 - val_loss: 0.0991 - val_accuracy: 0.9794\n",
            "Epoch 46/100\n",
            "12/12 [==============================] - 2s 138ms/step - loss: 0.0150 - accuracy: 0.9953 - val_loss: 0.0975 - val_accuracy: 0.9801\n",
            "Epoch 47/100\n",
            "12/12 [==============================] - 2s 134ms/step - loss: 0.0165 - accuracy: 0.9955 - val_loss: 0.1024 - val_accuracy: 0.9799\n",
            "Epoch 48/100\n",
            "12/12 [==============================] - 2s 133ms/step - loss: 0.0139 - accuracy: 0.9961 - val_loss: 0.1005 - val_accuracy: 0.9800\n",
            "Epoch 49/100\n",
            "12/12 [==============================] - 2s 137ms/step - loss: 0.0137 - accuracy: 0.9961 - val_loss: 0.0940 - val_accuracy: 0.9797\n",
            "Epoch 50/100\n",
            "12/12 [==============================] - 2s 134ms/step - loss: 0.0130 - accuracy: 0.9962 - val_loss: 0.1035 - val_accuracy: 0.9804\n",
            "Epoch 51/100\n",
            "12/12 [==============================] - 2s 136ms/step - loss: 0.0121 - accuracy: 0.9962 - val_loss: 0.1030 - val_accuracy: 0.9812\n",
            "Epoch 52/100\n",
            "12/12 [==============================] - 2s 136ms/step - loss: 0.0122 - accuracy: 0.9965 - val_loss: 0.1068 - val_accuracy: 0.9806\n",
            "Epoch 53/100\n",
            "12/12 [==============================] - 2s 135ms/step - loss: 0.0119 - accuracy: 0.9964 - val_loss: 0.1009 - val_accuracy: 0.9811\n",
            "Epoch 54/100\n",
            "12/12 [==============================] - 2s 133ms/step - loss: 0.0126 - accuracy: 0.9965 - val_loss: 0.0955 - val_accuracy: 0.9811\n",
            "Epoch 55/100\n",
            "12/12 [==============================] - 2s 135ms/step - loss: 0.0126 - accuracy: 0.9960 - val_loss: 0.0991 - val_accuracy: 0.9809\n",
            "Epoch 56/100\n",
            "12/12 [==============================] - 2s 134ms/step - loss: 0.0114 - accuracy: 0.9964 - val_loss: 0.1040 - val_accuracy: 0.9812\n",
            "Epoch 57/100\n",
            "12/12 [==============================] - 2s 135ms/step - loss: 0.0119 - accuracy: 0.9965 - val_loss: 0.1033 - val_accuracy: 0.9809\n",
            "Epoch 58/100\n",
            "12/12 [==============================] - 2s 137ms/step - loss: 0.0102 - accuracy: 0.9971 - val_loss: 0.1101 - val_accuracy: 0.9798\n",
            "Epoch 59/100\n",
            "12/12 [==============================] - 2s 134ms/step - loss: 0.0109 - accuracy: 0.9964 - val_loss: 0.1027 - val_accuracy: 0.9818\n",
            "Epoch 60/100\n",
            "12/12 [==============================] - 2s 135ms/step - loss: 0.0103 - accuracy: 0.9968 - val_loss: 0.1052 - val_accuracy: 0.9805\n",
            "Epoch 61/100\n",
            "12/12 [==============================] - 2s 136ms/step - loss: 0.0111 - accuracy: 0.9968 - val_loss: 0.1036 - val_accuracy: 0.9806\n",
            "Epoch 62/100\n",
            "12/12 [==============================] - 2s 136ms/step - loss: 0.0113 - accuracy: 0.9966 - val_loss: 0.1043 - val_accuracy: 0.9805\n",
            "Epoch 63/100\n",
            "12/12 [==============================] - 2s 132ms/step - loss: 0.0110 - accuracy: 0.9968 - val_loss: 0.1065 - val_accuracy: 0.9808\n",
            "Epoch 64/100\n",
            "12/12 [==============================] - 2s 140ms/step - loss: 0.0114 - accuracy: 0.9968 - val_loss: 0.1051 - val_accuracy: 0.9812\n",
            "Epoch 65/100\n",
            "12/12 [==============================] - 2s 134ms/step - loss: 0.0119 - accuracy: 0.9965 - val_loss: 0.1001 - val_accuracy: 0.9808\n",
            "Epoch 66/100\n",
            "12/12 [==============================] - 2s 133ms/step - loss: 0.0109 - accuracy: 0.9967 - val_loss: 0.1015 - val_accuracy: 0.9815\n",
            "Epoch 67/100\n",
            "12/12 [==============================] - 2s 134ms/step - loss: 0.0119 - accuracy: 0.9961 - val_loss: 0.1067 - val_accuracy: 0.9790\n",
            "Epoch 68/100\n",
            "12/12 [==============================] - 2s 135ms/step - loss: 0.0114 - accuracy: 0.9969 - val_loss: 0.1003 - val_accuracy: 0.9803\n",
            "Epoch 69/100\n",
            "12/12 [==============================] - 2s 135ms/step - loss: 0.0104 - accuracy: 0.9973 - val_loss: 0.1069 - val_accuracy: 0.9812\n",
            "Epoch 70/100\n",
            "12/12 [==============================] - 2s 134ms/step - loss: 0.0097 - accuracy: 0.9973 - val_loss: 0.1099 - val_accuracy: 0.9808\n",
            "Epoch 71/100\n",
            "12/12 [==============================] - 2s 136ms/step - loss: 0.0102 - accuracy: 0.9970 - val_loss: 0.1066 - val_accuracy: 0.9807\n",
            "Epoch 72/100\n",
            "12/12 [==============================] - 2s 134ms/step - loss: 0.0095 - accuracy: 0.9973 - val_loss: 0.1102 - val_accuracy: 0.9810\n",
            "Epoch 73/100\n",
            "12/12 [==============================] - 2s 135ms/step - loss: 0.0103 - accuracy: 0.9970 - val_loss: 0.1037 - val_accuracy: 0.9811\n",
            "Epoch 74/100\n",
            "12/12 [==============================] - 2s 136ms/step - loss: 0.0099 - accuracy: 0.9968 - val_loss: 0.1121 - val_accuracy: 0.9801\n",
            "Epoch 75/100\n",
            "12/12 [==============================] - 2s 135ms/step - loss: 0.0107 - accuracy: 0.9969 - val_loss: 0.1068 - val_accuracy: 0.9805\n",
            "Epoch 76/100\n",
            "12/12 [==============================] - 2s 136ms/step - loss: 0.0112 - accuracy: 0.9965 - val_loss: 0.1112 - val_accuracy: 0.9807\n",
            "Epoch 77/100\n",
            "12/12 [==============================] - 2s 136ms/step - loss: 0.0102 - accuracy: 0.9971 - val_loss: 0.1075 - val_accuracy: 0.9805\n",
            "Epoch 78/100\n",
            "12/12 [==============================] - 2s 135ms/step - loss: 0.0104 - accuracy: 0.9968 - val_loss: 0.1126 - val_accuracy: 0.9801\n",
            "Epoch 79/100\n",
            "12/12 [==============================] - 2s 136ms/step - loss: 0.0093 - accuracy: 0.9972 - val_loss: 0.1096 - val_accuracy: 0.9803\n",
            "Epoch 80/100\n",
            "12/12 [==============================] - 2s 138ms/step - loss: 0.0091 - accuracy: 0.9974 - val_loss: 0.1064 - val_accuracy: 0.9807\n",
            "Epoch 81/100\n",
            "12/12 [==============================] - 2s 136ms/step - loss: 0.0104 - accuracy: 0.9971 - val_loss: 0.1161 - val_accuracy: 0.9799\n",
            "Epoch 82/100\n",
            "12/12 [==============================] - 2s 135ms/step - loss: 0.0088 - accuracy: 0.9973 - val_loss: 0.1093 - val_accuracy: 0.9814\n",
            "Epoch 83/100\n",
            "12/12 [==============================] - 2s 138ms/step - loss: 0.0091 - accuracy: 0.9971 - val_loss: 0.1112 - val_accuracy: 0.9802\n",
            "Epoch 84/100\n",
            "12/12 [==============================] - 2s 144ms/step - loss: 0.0090 - accuracy: 0.9975 - val_loss: 0.1080 - val_accuracy: 0.9804\n",
            "Epoch 85/100\n",
            "12/12 [==============================] - 2s 135ms/step - loss: 0.0089 - accuracy: 0.9973 - val_loss: 0.1117 - val_accuracy: 0.9818\n",
            "Epoch 86/100\n",
            "12/12 [==============================] - 2s 134ms/step - loss: 0.0087 - accuracy: 0.9976 - val_loss: 0.1126 - val_accuracy: 0.9810\n",
            "Epoch 87/100\n",
            "12/12 [==============================] - 2s 135ms/step - loss: 0.0076 - accuracy: 0.9977 - val_loss: 0.1189 - val_accuracy: 0.9812\n",
            "Epoch 88/100\n",
            "12/12 [==============================] - 2s 135ms/step - loss: 0.0080 - accuracy: 0.9977 - val_loss: 0.1192 - val_accuracy: 0.9806\n",
            "Epoch 89/100\n",
            "12/12 [==============================] - 2s 135ms/step - loss: 0.0091 - accuracy: 0.9975 - val_loss: 0.1160 - val_accuracy: 0.9806\n",
            "Epoch 90/100\n",
            "12/12 [==============================] - 2s 135ms/step - loss: 0.0090 - accuracy: 0.9977 - val_loss: 0.1148 - val_accuracy: 0.9808\n",
            "Epoch 91/100\n",
            "12/12 [==============================] - 2s 136ms/step - loss: 0.0076 - accuracy: 0.9977 - val_loss: 0.1134 - val_accuracy: 0.9809\n",
            "Epoch 92/100\n",
            "12/12 [==============================] - 2s 136ms/step - loss: 0.0082 - accuracy: 0.9975 - val_loss: 0.1193 - val_accuracy: 0.9798\n",
            "Epoch 93/100\n",
            "12/12 [==============================] - 2s 135ms/step - loss: 0.0071 - accuracy: 0.9980 - val_loss: 0.1177 - val_accuracy: 0.9812\n",
            "Epoch 94/100\n",
            "12/12 [==============================] - 2s 135ms/step - loss: 0.0074 - accuracy: 0.9978 - val_loss: 0.1168 - val_accuracy: 0.9791\n",
            "Epoch 95/100\n",
            "12/12 [==============================] - 2s 135ms/step - loss: 0.0077 - accuracy: 0.9978 - val_loss: 0.1177 - val_accuracy: 0.9818\n",
            "Epoch 96/100\n",
            "12/12 [==============================] - 2s 140ms/step - loss: 0.0083 - accuracy: 0.9975 - val_loss: 0.1225 - val_accuracy: 0.9799\n",
            "Epoch 97/100\n",
            "12/12 [==============================] - 2s 140ms/step - loss: 0.0095 - accuracy: 0.9972 - val_loss: 0.1116 - val_accuracy: 0.9805\n",
            "Epoch 98/100\n",
            "12/12 [==============================] - 2s 135ms/step - loss: 0.0072 - accuracy: 0.9980 - val_loss: 0.1118 - val_accuracy: 0.9808\n",
            "Epoch 99/100\n",
            "12/12 [==============================] - 2s 134ms/step - loss: 0.0074 - accuracy: 0.9980 - val_loss: 0.1266 - val_accuracy: 0.9800\n",
            "Epoch 100/100\n",
            "12/12 [==============================] - 2s 133ms/step - loss: 0.0068 - accuracy: 0.9981 - val_loss: 0.1105 - val_accuracy: 0.9814\n",
            "\n",
            " Evaluate the new model against the test set:\n",
            "3/3 [==============================] - 0s 23ms/step - loss: 0.1141 - accuracy: 0.9814\n"
          ],
          "name": "stdout"
        },
        {
          "output_type": "execute_result",
          "data": {
            "text/plain": [
              "[0.11414625495672226, 0.9814000129699707]"
            ]
          },
          "metadata": {
            "tags": []
          },
          "execution_count": 25
        },
        {
          "output_type": "display_data",
          "data": {
            "image/png": "[encoded data removed]",
            "text/plain": [
              "<Figure size 432x288 with 1 Axes>"
            ]
          },
          "metadata": {
            "tags": [],
            "needs_background": "light"
          }
        }
      ]
    },
    {
      "cell_type": "markdown",
      "metadata": {
        "id": "Y5IKmk7D49_n",
        "colab_type": "text"
      },
      "source": [
        "## Task 2: Optimize the model\n",
        "\n",
        "Experiment with the following:\n",
        "\n",
        "* number of hidden layers \n",
        "* number of nodes in each layer\n",
        "* dropout regularization rate\n",
        "\n",
        "What trends did you discover?  Can you reach at least 98% accuracy against the test set? \n",
        "\n",
        "\n"
      ]
    },
    {
      "cell_type": "code",
      "metadata": {
        "id": "wYG5qXpP5a9n",
        "colab_type": "code",
        "cellView": "both",
        "colab": {}
      },
      "source": [
        "\n",
        "# It would take much too long to experiment \n",
        "# fully with topography and dropout regularization \n",
        "# rate. In the real world, you would\n",
        "# also experiment with learning rate, batch size, \n",
        "# and number of epochs.  Since you only have a \n",
        "# few minutes, searching for trends can be helpful.\n",
        "# Here is what we discovered:\n",
        "#   * Adding more nodes (at least until 256 nodes) \n",
        "#     to the first hidden layer improved accuracy.\n",
        "#   * Adding a second hidden layer generally \n",
        "#     improved accuracy.\n",
        "#   * When the model contains a lot of nodes, \n",
        "#     the model overfits unless the dropout rate \n",
        "#     is at least 0.5. \n",
        "\n",
        "# We reached 98% test accuracy with the \n",
        "# following configuration:\n",
        "#   * One hidden layer of 256 nodes; no second \n",
        "      hidden layer.\n",
        "#   * dropout regularization rate of 0.4\n",
        "\n",
        "# We reached 98.2% test accuracy with the \n",
        "# following configuration:\n",
        "#   * First hidden layer of 256 nodes; \n",
        "#     second hidden layer of 128 nodes.\n",
        "#   * dropout regularization rate of 0.2\n"
      ],
      "execution_count": 0,
      "outputs": []
    }
  ]
}