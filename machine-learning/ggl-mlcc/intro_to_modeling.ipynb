{
  "nbformat": 4,
  "nbformat_minor": 0,
  "metadata": {
    "colab": {
      "name": "intro_to_modeling.ipynb",
      "provenance": [],
      "collapsed_sections": [],
      "include_colab_link": true
    },
    "kernelspec": {
      "display_name": "Python 3",
      "name": "python3"
    }
  },
  "cells": [
    {
      "cell_type": "markdown",
      "metadata": {
        "id": "view-in-github",
        "colab_type": "text"
      },
      "source": [
        "<a href=\"https://colab.research.google.com/github/IanEdington/learn/blob/master/machine-learning/ggl-mlcc/intro_to_modeling.ipynb\" target=\"_parent\"><img src=\"https://colab.research.google.com/assets/colab-badge.svg\" alt=\"Open In Colab\"/></a>"
      ]
    },
    {
      "cell_type": "markdown",
      "metadata": {
        "colab_type": "text",
        "id": "LY0SJUCSY305"
      },
      "source": [
        "#### Copyright 2018 Google LLC."
      ]
    },
    {
      "cell_type": "code",
      "metadata": {
        "colab_type": "code",
        "id": "8Q1hsKyBZDVu",
        "colab": {}
      },
      "source": [
        "# Licensed under the Apache License, Version 2.0 (the \"License\");\n",
        "# you may not use this file except in compliance with the License.\n",
        "# You may obtain a copy of the License at\n",
        "#\n",
        "# https://www.apache.org/licenses/LICENSE-2.0\n",
        "#\n",
        "# Unless required by applicable law or agreed to in writing, software\n",
        "# distributed under the License is distributed on an \"AS IS\" BASIS,\n",
        "# WITHOUT WARRANTIES OR CONDITIONS OF ANY KIND, either express or implied.\n",
        "# See the License for the specific language governing permissions and\n",
        "# limitations under the License."
      ],
      "execution_count": 0,
      "outputs": []
    },
    {
      "cell_type": "markdown",
      "metadata": {
        "colab_type": "text",
        "id": "y5tftaRtUcm7"
      },
      "source": [
        "#Intro to Modeling\n",
        "\n",
        "\n",
        "**Learning Objectives:**\n",
        "* Become familiar with pandas for handling small datasets\n",
        "* Use the tf.Estimator and Feature Column API to experiment with feature transformations\n",
        "* Use visualizations and run experiments to understand the value of feature transformations\n",
        "\n",
        "Please **make a copy** of this Colab notebook before starting this lab. To do so, choose **File**->**Save a copy in Drive**."
      ]
    },
    {
      "cell_type": "markdown",
      "metadata": {
        "colab_type": "text",
        "id": "TT_bZ9E0ZWaN"
      },
      "source": [
        "## Setup\n",
        "\n",
        "Let's start by importing our dependencies."
      ]
    },
    {
      "cell_type": "code",
      "metadata": {
        "cellView": "both",
        "colab_type": "code",
        "id": "wZ_T2SgDVKUH",
        "outputId": "b7e57ef4-9b03-4165-8800-40ed21966175",
        "colab": {
          "base_uri": "https://localhost:8080/",
          "height": 89
        }
      },
      "source": [
        "%reset -f\n",
        "import numpy as np\n",
        "import pandas as pd\n",
        "import math\n",
        "\n",
        "import tensorflow.compat.v1 as tf\n",
        "tf.disable_v2_behavior()"
      ],
      "execution_count": 2,
      "outputs": [
        {
          "output_type": "stream",
          "text": [
            "WARNING:tensorflow:From /usr/local/lib/python3.6/dist-packages/tensorflow/python/compat/v2_compat.py:96: disable_resource_variables (from tensorflow.python.ops.variable_scope) is deprecated and will be removed in a future version.\n",
            "Instructions for updating:\n",
            "non-resource variables are not supported in the long term\n"
          ],
          "name": "stdout"
        }
      ]
    },
    {
      "cell_type": "markdown",
      "metadata": {
        "colab_type": "text",
        "id": "Sx4-PWE-VaD_"
      },
      "source": [
        "## Pandas, a helpful data analysis library for in-memory dataset\n",
        "\n",
        "We use a package called [Pandas](http://pandas.pydata.org/) for reading in our data, exploring our data and doing some basic processing. It is really helpful for datasets that fit in memory! And it has some nice integrations, as you will see.\n",
        "\n",
        "First we set up some options to control how items are displayed and the maximum number of rows to show when displaying a table.  Feel free to change this setup to whatever you'd like."
      ]
    },
    {
      "cell_type": "code",
      "metadata": {
        "colab_type": "code",
        "id": "hKUIMcPCVRqv",
        "colab": {}
      },
      "source": [
        "# Set pandas output display to have one digit for decimal places and limit it to\n",
        "# printing 15 rows.\n",
        "pd.options.display.float_format = '{:.2f}'.format\n",
        "pd.options.display.max_rows = 15"
      ],
      "execution_count": 0,
      "outputs": []
    },
    {
      "cell_type": "markdown",
      "metadata": {
        "colab_type": "text",
        "id": "H_fTMztUVelY"
      },
      "source": [
        "### Load the dataset with pandas\n",
        "The car data set we will be using in this lab is provided as a comma separated file without a header row.  In order for each column to have a meaningful header name we must provide it.  We get the information about the columns from the [Automobile Data Set](https://archive.ics.uci.edu/ml/datasets/automobile).\n",
        "\n",
        "We will use the features of the car, to try to predict its price.\n"
      ]
    },
    {
      "cell_type": "code",
      "metadata": {
        "cellView": "code",
        "colab_type": "code",
        "id": "Y38V73EgVYwt",
        "outputId": "2dd9ae3d-f306-43a4-de1c-ef6a6de0619e",
        "colab": {
          "base_uri": "https://localhost:8080/",
          "height": 35
        }
      },
      "source": [
        "# Provide the names for the columns since the CSV file with the data does\n",
        "# not have a header row.\n",
        "feature_names = ['symboling', 'normalized-losses', 'make', 'fuel-type',\n",
        "        'aspiration', 'num-doors', 'body-style', 'drive-wheels',\n",
        "        'engine-location', 'wheel-base', 'length', 'width', 'height', 'weight',\n",
        "        'engine-type', 'num-cylinders', 'engine-size', 'fuel-system', 'bore',\n",
        "        'stroke', 'compression-ratio', 'horsepower', 'peak-rpm', 'city-mpg',\n",
        "        'highway-mpg', 'price']\n",
        "\n",
        "\n",
        "# Load in the data from a CSV file that is comma separated.\n",
        "car_data = pd.read_csv('https://storage.googleapis.com/mledu-datasets/cars_data.csv',\n",
        "                        sep=',', names=feature_names, header=None, encoding='latin-1')\n",
        "\n",
        "\n",
        "# We'll then randomize the data, just to be sure not to get any pathological\n",
        "# ordering effects that might harm the performance of Stochastic Gradient\n",
        "# Descent.\n",
        "car_data = car_data.reindex(np.random.permutation(car_data.index))\n",
        "\n",
        "print(\"Data set loaded. Num examples: \", len(car_data))"
      ],
      "execution_count": 4,
      "outputs": [
        {
          "output_type": "stream",
          "text": [
            "Data set loaded. Num examples:  205\n"
          ],
          "name": "stdout"
        }
      ]
    },
    {
      "cell_type": "markdown",
      "metadata": {
        "colab_type": "text",
        "id": "nAHZBtDlkmGa"
      },
      "source": [
        "This is a really small dataset! Only 205 examples.\n",
        "\n",
        "For simplicity in this codelab, we do not split the data further into training and validation. But you MUST do this on real datasets, or else you will overfit to your single dataset."
      ]
    },
    {
      "cell_type": "markdown",
      "metadata": {
        "colab_type": "text",
        "id": "aQ1HxLrOVqZk"
      },
      "source": [
        "## Task 0: Use pandas to explore and prepare the data\n",
        "\n",
        "- Use Pandas to inspect the data and manually curate a list of numeric_feature_names and categorical_feature_names.\n",
        "\n",
        "\n",
        "Useful functions:\n",
        "- `type()` called on any Python object describes the type of the object\n",
        "- `dataframe[4:7]` pulls out rows 4, 5, 6 in a Pandas dataframe\n",
        "- `dataframe[['mycol1', 'mycol2']]` pulls out the two requested columns into a new Pandas dataframe\n",
        "- `dataframe['mycol1']` returns a Pandas series -- not a dataframe!\n",
        "- `dataframe.describe()` prints out statistics for each dataframe column"
      ]
    },
    {
      "cell_type": "code",
      "metadata": {
        "colab_type": "code",
        "id": "TfeHYeMf7PwQ",
        "outputId": "80253d7d-f343-439a-a70f-4c34e5eecddd",
        "colab": {
          "base_uri": "https://localhost:8080/",
          "height": 178
        }
      },
      "source": [
        "car_data[4:7]"
      ],
      "execution_count": 5,
      "outputs": [
        {
          "output_type": "execute_result",
          "data": {
            "text/html": [
              "<div>\n",
              "<style scoped>\n",
              "    .dataframe tbody tr th:only-of-type {\n",
              "        vertical-align: middle;\n",
              "    }\n",
              "\n",
              "    .dataframe tbody tr th {\n",
              "        vertical-align: top;\n",
              "    }\n",
              "\n",
              "    .dataframe thead th {\n",
              "        text-align: right;\n",
              "    }\n",
              "</style>\n",
              "<table border=\"1\" class=\"dataframe\">\n",
              "  <thead>\n",
              "    <tr style=\"text-align: right;\">\n",
              "      <th></th>\n",
              "      <th>symboling</th>\n",
              "      <th>normalized-losses</th>\n",
              "      <th>make</th>\n",
              "      <th>fuel-type</th>\n",
              "      <th>aspiration</th>\n",
              "      <th>num-doors</th>\n",
              "      <th>body-style</th>\n",
              "      <th>drive-wheels</th>\n",
              "      <th>engine-location</th>\n",
              "      <th>wheel-base</th>\n",
              "      <th>length</th>\n",
              "      <th>width</th>\n",
              "      <th>height</th>\n",
              "      <th>weight</th>\n",
              "      <th>engine-type</th>\n",
              "      <th>num-cylinders</th>\n",
              "      <th>engine-size</th>\n",
              "      <th>fuel-system</th>\n",
              "      <th>bore</th>\n",
              "      <th>stroke</th>\n",
              "      <th>compression-ratio</th>\n",
              "      <th>horsepower</th>\n",
              "      <th>peak-rpm</th>\n",
              "      <th>city-mpg</th>\n",
              "      <th>highway-mpg</th>\n",
              "      <th>price</th>\n",
              "    </tr>\n",
              "  </thead>\n",
              "  <tbody>\n",
              "    <tr>\n",
              "      <th>173</th>\n",
              "      <td>-1</td>\n",
              "      <td>65</td>\n",
              "      <td>toyota</td>\n",
              "      <td>gas</td>\n",
              "      <td>std</td>\n",
              "      <td>four</td>\n",
              "      <td>sedan</td>\n",
              "      <td>fwd</td>\n",
              "      <td>front</td>\n",
              "      <td>102.40</td>\n",
              "      <td>175.60</td>\n",
              "      <td>66.50</td>\n",
              "      <td>54.90</td>\n",
              "      <td>2326</td>\n",
              "      <td>ohc</td>\n",
              "      <td>four</td>\n",
              "      <td>122</td>\n",
              "      <td>mpfi</td>\n",
              "      <td>3.31</td>\n",
              "      <td>3.54</td>\n",
              "      <td>8.70</td>\n",
              "      <td>92</td>\n",
              "      <td>4200</td>\n",
              "      <td>29</td>\n",
              "      <td>34</td>\n",
              "      <td>8948</td>\n",
              "    </tr>\n",
              "    <tr>\n",
              "      <th>183</th>\n",
              "      <td>2</td>\n",
              "      <td>122</td>\n",
              "      <td>volkswagen</td>\n",
              "      <td>gas</td>\n",
              "      <td>std</td>\n",
              "      <td>two</td>\n",
              "      <td>sedan</td>\n",
              "      <td>fwd</td>\n",
              "      <td>front</td>\n",
              "      <td>97.30</td>\n",
              "      <td>171.70</td>\n",
              "      <td>65.50</td>\n",
              "      <td>55.70</td>\n",
              "      <td>2209</td>\n",
              "      <td>ohc</td>\n",
              "      <td>four</td>\n",
              "      <td>109</td>\n",
              "      <td>mpfi</td>\n",
              "      <td>3.19</td>\n",
              "      <td>3.40</td>\n",
              "      <td>9.00</td>\n",
              "      <td>85</td>\n",
              "      <td>5250</td>\n",
              "      <td>27</td>\n",
              "      <td>34</td>\n",
              "      <td>7975</td>\n",
              "    </tr>\n",
              "    <tr>\n",
              "      <th>137</th>\n",
              "      <td>2</td>\n",
              "      <td>104</td>\n",
              "      <td>saab</td>\n",
              "      <td>gas</td>\n",
              "      <td>turbo</td>\n",
              "      <td>four</td>\n",
              "      <td>sedan</td>\n",
              "      <td>fwd</td>\n",
              "      <td>front</td>\n",
              "      <td>99.10</td>\n",
              "      <td>186.60</td>\n",
              "      <td>66.50</td>\n",
              "      <td>56.10</td>\n",
              "      <td>2847</td>\n",
              "      <td>dohc</td>\n",
              "      <td>four</td>\n",
              "      <td>121</td>\n",
              "      <td>mpfi</td>\n",
              "      <td>3.54</td>\n",
              "      <td>3.07</td>\n",
              "      <td>9.00</td>\n",
              "      <td>160</td>\n",
              "      <td>5500</td>\n",
              "      <td>19</td>\n",
              "      <td>26</td>\n",
              "      <td>18620</td>\n",
              "    </tr>\n",
              "  </tbody>\n",
              "</table>\n",
              "</div>"
            ],
            "text/plain": [
              "     symboling normalized-losses        make  ... city-mpg highway-mpg  price\n",
              "173         -1                65      toyota  ...       29          34   8948\n",
              "183          2               122  volkswagen  ...       27          34   7975\n",
              "137          2               104        saab  ...       19          26  18620\n",
              "\n",
              "[3 rows x 26 columns]"
            ]
          },
          "metadata": {
            "tags": []
          },
          "execution_count": 5
        }
      ]
    },
    {
      "cell_type": "code",
      "metadata": {
        "id": "9cMbVUmxmbYj",
        "colab_type": "code",
        "outputId": "cb0b44ab-38e5-4ca2-c93a-a61758b56407",
        "colab": {
          "base_uri": "https://localhost:8080/",
          "height": 957
        }
      },
      "source": [
        "for c in car_data.columns:\n",
        "  print(\"c: \", c, \" \\t\\t type: \", type(car_data[c][1]))\n",
        "car_data.hist()"
      ],
      "execution_count": 6,
      "outputs": [
        {
          "output_type": "stream",
          "text": [
            "c:  symboling  \t\t type:  <class 'numpy.int64'>\n",
            "c:  normalized-losses  \t\t type:  <class 'str'>\n",
            "c:  make  \t\t type:  <class 'str'>\n",
            "c:  fuel-type  \t\t type:  <class 'str'>\n",
            "c:  aspiration  \t\t type:  <class 'str'>\n",
            "c:  num-doors  \t\t type:  <class 'str'>\n",
            "c:  body-style  \t\t type:  <class 'str'>\n",
            "c:  drive-wheels  \t\t type:  <class 'str'>\n",
            "c:  engine-location  \t\t type:  <class 'str'>\n",
            "c:  wheel-base  \t\t type:  <class 'numpy.float64'>\n",
            "c:  length  \t\t type:  <class 'numpy.float64'>\n",
            "c:  width  \t\t type:  <class 'numpy.float64'>\n",
            "c:  height  \t\t type:  <class 'numpy.float64'>\n",
            "c:  weight  \t\t type:  <class 'numpy.int64'>\n",
            "c:  engine-type  \t\t type:  <class 'str'>\n",
            "c:  num-cylinders  \t\t type:  <class 'str'>\n",
            "c:  engine-size  \t\t type:  <class 'numpy.int64'>\n",
            "c:  fuel-system  \t\t type:  <class 'str'>\n",
            "c:  bore  \t\t type:  <class 'str'>\n",
            "c:  stroke  \t\t type:  <class 'str'>\n",
            "c:  compression-ratio  \t\t type:  <class 'numpy.float64'>\n",
            "c:  horsepower  \t\t type:  <class 'str'>\n",
            "c:  peak-rpm  \t\t type:  <class 'str'>\n",
            "c:  city-mpg  \t\t type:  <class 'numpy.int64'>\n",
            "c:  highway-mpg  \t\t type:  <class 'numpy.int64'>\n",
            "c:  price  \t\t type:  <class 'str'>\n"
          ],
          "name": "stdout"
        },
        {
          "output_type": "execute_result",
          "data": {
            "text/plain": [
              "array([[<matplotlib.axes._subplots.AxesSubplot object at 0x7fac898d70b8>,\n",
              "        <matplotlib.axes._subplots.AxesSubplot object at 0x7fac898a8358>,\n",
              "        <matplotlib.axes._subplots.AxesSubplot object at 0x7fac8985c5c0>],\n",
              "       [<matplotlib.axes._subplots.AxesSubplot object at 0x7fac8980d828>,\n",
              "        <matplotlib.axes._subplots.AxesSubplot object at 0x7fac8983fa90>,\n",
              "        <matplotlib.axes._subplots.AxesSubplot object at 0x7fac897eecf8>],\n",
              "       [<matplotlib.axes._subplots.AxesSubplot object at 0x7fac897ae208>,\n",
              "        <matplotlib.axes._subplots.AxesSubplot object at 0x7fac89761550>,\n",
              "        <matplotlib.axes._subplots.AxesSubplot object at 0x7fac897615c0>],\n",
              "       [<matplotlib.axes._subplots.AxesSubplot object at 0x7fac89743c88>,\n",
              "        <matplotlib.axes._subplots.AxesSubplot object at 0x7fac896f4fd0>,\n",
              "        <matplotlib.axes._subplots.AxesSubplot object at 0x7fac896b33c8>]],\n",
              "      dtype=object)"
            ]
          },
          "metadata": {
            "tags": []
          },
          "execution_count": 6
        },
        {
          "output_type": "display_data",
          "data": {
            "image/png": "[encoded data removed]",
            "text/plain": [
              "<Figure size 432x288 with 12 Axes>"
            ]
          },
          "metadata": {
            "tags": [],
            "needs_background": "light"
          }
        }
      ]
    },
    {
      "cell_type": "markdown",
      "metadata": {
        "id": "g0EunQS1zo0A",
        "colab_type": "text"
      },
      "source": [
        ""
      ]
    },
    {
      "cell_type": "code",
      "metadata": {
        "id": "T5MT3jY3w80Z",
        "colab_type": "code",
        "colab": {}
      },
      "source": [
        "numeric_feature_names = []\n",
        "categorical_feature_names = []"
      ],
      "execution_count": 0,
      "outputs": []
    },
    {
      "cell_type": "code",
      "metadata": {
        "id": "zLJS_xYtz15t",
        "colab_type": "code",
        "colab": {}
      },
      "source": [
        "def look_at_feature(feature):\n",
        "  feature.hist()\n",
        "  print(feature.head())\n",
        "  print(feature.tail())\n",
        "  return feature.describe()"
      ],
      "execution_count": 0,
      "outputs": []
    },
    {
      "cell_type": "code",
      "metadata": {
        "id": "Ns60hcYDxR9u",
        "colab_type": "code",
        "colab": {
          "base_uri": "https://localhost:8080/",
          "height": 468
        },
        "outputId": "e8c9c984-d719-4d3d-de26-1a618b960a63"
      },
      "source": [
        "for c in car_data.columns:\n",
        "  print(f\"look_at_feature(car_data[\\\"{c}\\\"])\")"
      ],
      "execution_count": 9,
      "outputs": [
        {
          "output_type": "stream",
          "text": [
            "look_at_feature(car_data[\"symboling\"])\n",
            "look_at_feature(car_data[\"normalized-losses\"])\n",
            "look_at_feature(car_data[\"make\"])\n",
            "look_at_feature(car_data[\"fuel-type\"])\n",
            "look_at_feature(car_data[\"aspiration\"])\n",
            "look_at_feature(car_data[\"num-doors\"])\n",
            "look_at_feature(car_data[\"body-style\"])\n",
            "look_at_feature(car_data[\"drive-wheels\"])\n",
            "look_at_feature(car_data[\"engine-location\"])\n",
            "look_at_feature(car_data[\"wheel-base\"])\n",
            "look_at_feature(car_data[\"length\"])\n",
            "look_at_feature(car_data[\"width\"])\n",
            "look_at_feature(car_data[\"height\"])\n",
            "look_at_feature(car_data[\"weight\"])\n",
            "look_at_feature(car_data[\"engine-type\"])\n",
            "look_at_feature(car_data[\"num-cylinders\"])\n",
            "look_at_feature(car_data[\"engine-size\"])\n",
            "look_at_feature(car_data[\"fuel-system\"])\n",
            "look_at_feature(car_data[\"bore\"])\n",
            "look_at_feature(car_data[\"stroke\"])\n",
            "look_at_feature(car_data[\"compression-ratio\"])\n",
            "look_at_feature(car_data[\"horsepower\"])\n",
            "look_at_feature(car_data[\"peak-rpm\"])\n",
            "look_at_feature(car_data[\"city-mpg\"])\n",
            "look_at_feature(car_data[\"highway-mpg\"])\n",
            "look_at_feature(car_data[\"price\"])\n"
          ],
          "name": "stdout"
        }
      ]
    },
    {
      "cell_type": "code",
      "metadata": {
        "id": "UJ8o23MNxaTQ",
        "colab_type": "code",
        "colab": {
          "base_uri": "https://localhost:8080/",
          "height": 632
        },
        "outputId": "01b5c934-21f7-461b-ee9d-4ba16c94cfe4"
      },
      "source": [
        "numeric_feature_names.append(\"symboling\")\n",
        "look_at_feature(car_data[\"symboling\"])"
      ],
      "execution_count": 10,
      "outputs": [
        {
          "output_type": "stream",
          "text": [
            "201   -1\n",
            "55     3\n",
            "46     2\n",
            "126    3\n",
            "173   -1\n",
            "Name: symboling, dtype: int64\n",
            "70    -1\n",
            "102    0\n",
            "26     1\n",
            "7      1\n",
            "68    -1\n",
            "Name: symboling, dtype: int64\n"
          ],
          "name": "stdout"
        },
        {
          "output_type": "execute_result",
          "data": {
            "text/plain": [
              "count   205.00\n",
              "mean      0.83\n",
              "std       1.25\n",
              "min      -2.00\n",
              "25%       0.00\n",
              "50%       1.00\n",
              "75%       2.00\n",
              "max       3.00\n",
              "Name: symboling, dtype: float64"
            ]
          },
          "metadata": {
            "tags": []
          },
          "execution_count": 10
        },
        {
          "output_type": "display_data",
          "data": {
            "image/png": "[encoded data removed]",
            "text/plain": [
              "<Figure size 432x288 with 1 Axes>"
            ]
          },
          "metadata": {
            "tags": [],
            "needs_background": "light"
          }
        }
      ]
    },
    {
      "cell_type": "code",
      "metadata": {
        "id": "XyB1ljwv0b1R",
        "colab_type": "code",
        "colab": {
          "base_uri": "https://localhost:8080/",
          "height": 560
        },
        "outputId": "a4037219-3fa3-4365-cfb2-3b6ae36a14ef"
      },
      "source": [
        "numeric_feature_names.append(\"normalized-losses\")\n",
        "look_at_feature(car_data[\"normalized-losses\"])"
      ],
      "execution_count": 11,
      "outputs": [
        {
          "output_type": "stream",
          "text": [
            "201     95\n",
            "55     150\n",
            "46       ?\n",
            "126      ?\n",
            "173     65\n",
            "Name: normalized-losses, dtype: object\n",
            "70      93\n",
            "102    108\n",
            "26     148\n",
            "7        ?\n",
            "68      93\n",
            "Name: normalized-losses, dtype: object\n"
          ],
          "name": "stdout"
        },
        {
          "output_type": "execute_result",
          "data": {
            "text/plain": [
              "count     205\n",
              "unique     52\n",
              "top         ?\n",
              "freq       41\n",
              "Name: normalized-losses, dtype: object"
            ]
          },
          "metadata": {
            "tags": []
          },
          "execution_count": 11
        },
        {
          "output_type": "display_data",
          "data": {
            "image/png": "[encoded data removed]",
            "text/plain": [
              "<Figure size 432x288 with 1 Axes>"
            ]
          },
          "metadata": {
            "tags": [],
            "needs_background": "light"
          }
        }
      ]
    },
    {
      "cell_type": "code",
      "metadata": {
        "id": "3puyHGboysFv",
        "colab_type": "code",
        "colab": {
          "base_uri": "https://localhost:8080/",
          "height": 560
        },
        "outputId": "dfe47755-7a9a-484e-b3ef-8b2273d08f4e"
      },
      "source": [
        "categorical_feature_names.append(\"make\")\n",
        "look_at_feature(car_data[\"make\"])\n"
      ],
      "execution_count": 12,
      "outputs": [
        {
          "output_type": "stream",
          "text": [
            "201      volvo\n",
            "55       mazda\n",
            "46       isuzu\n",
            "126    porsche\n",
            "173     toyota\n",
            "Name: make, dtype: object\n",
            "70     mercedes-benz\n",
            "102           nissan\n",
            "26             dodge\n",
            "7               audi\n",
            "68     mercedes-benz\n",
            "Name: make, dtype: object\n"
          ],
          "name": "stdout"
        },
        {
          "output_type": "execute_result",
          "data": {
            "text/plain": [
              "count        205\n",
              "unique        22\n",
              "top       toyota\n",
              "freq          32\n",
              "Name: make, dtype: object"
            ]
          },
          "metadata": {
            "tags": []
          },
          "execution_count": 12
        },
        {
          "output_type": "display_data",
          "data": {
            "image/png": "[encoded data removed]",
            "text/plain": [
              "<Figure size 432x288 with 1 Axes>"
            ]
          },
          "metadata": {
            "tags": [],
            "needs_background": "light"
          }
        }
      ]
    },
    {
      "cell_type": "code",
      "metadata": {
        "id": "SoO3KX3zywBW",
        "colab_type": "code",
        "colab": {
          "base_uri": "https://localhost:8080/",
          "height": 560
        },
        "outputId": "03458e7b-b5a8-4f0a-e5f9-3825ab98cfbb"
      },
      "source": [
        "categorical_feature_names.append(\"fuel-type\")\n",
        "\n",
        "look_at_feature(car_data[\"fuel-type\"])\n"
      ],
      "execution_count": 13,
      "outputs": [
        {
          "output_type": "stream",
          "text": [
            "201    gas\n",
            "55     gas\n",
            "46     gas\n",
            "126    gas\n",
            "173    gas\n",
            "Name: fuel-type, dtype: object\n",
            "70     diesel\n",
            "102       gas\n",
            "26        gas\n",
            "7         gas\n",
            "68     diesel\n",
            "Name: fuel-type, dtype: object\n"
          ],
          "name": "stdout"
        },
        {
          "output_type": "execute_result",
          "data": {
            "text/plain": [
              "count     205\n",
              "unique      2\n",
              "top       gas\n",
              "freq      185\n",
              "Name: fuel-type, dtype: object"
            ]
          },
          "metadata": {
            "tags": []
          },
          "execution_count": 13
        },
        {
          "output_type": "display_data",
          "data": {
            "image/png": "[encoded data removed]",
            "text/plain": [
              "<Figure size 432x288 with 1 Axes>"
            ]
          },
          "metadata": {
            "tags": [],
            "needs_background": "light"
          }
        }
      ]
    },
    {
      "cell_type": "code",
      "metadata": {
        "id": "LKVVQie8yy8b",
        "colab_type": "code",
        "colab": {
          "base_uri": "https://localhost:8080/",
          "height": 560
        },
        "outputId": "1c632dc8-9583-494a-b639-5d4937416d82"
      },
      "source": [
        "categorical_feature_names.append(\"aspiration\")\n",
        "\n",
        "look_at_feature(car_data[\"aspiration\"])\n"
      ],
      "execution_count": 14,
      "outputs": [
        {
          "output_type": "stream",
          "text": [
            "201    turbo\n",
            "55       std\n",
            "46       std\n",
            "126      std\n",
            "173      std\n",
            "Name: aspiration, dtype: object\n",
            "70     turbo\n",
            "102      std\n",
            "26       std\n",
            "7        std\n",
            "68     turbo\n",
            "Name: aspiration, dtype: object\n"
          ],
          "name": "stdout"
        },
        {
          "output_type": "execute_result",
          "data": {
            "text/plain": [
              "count     205\n",
              "unique      2\n",
              "top       std\n",
              "freq      168\n",
              "Name: aspiration, dtype: object"
            ]
          },
          "metadata": {
            "tags": []
          },
          "execution_count": 14
        },
        {
          "output_type": "display_data",
          "data": {
            "image/png": "[encoded data removed]",
            "text/plain": [
              "<Figure size 432x288 with 1 Axes>"
            ]
          },
          "metadata": {
            "tags": [],
            "needs_background": "light"
          }
        }
      ]
    },
    {
      "cell_type": "code",
      "metadata": {
        "id": "-68Sxq28y1Mp",
        "colab_type": "code",
        "colab": {
          "base_uri": "https://localhost:8080/",
          "height": 560
        },
        "outputId": "a466aa9c-e57f-4720-e073-8c630fda411a"
      },
      "source": [
        "categorical_feature_names.append(\"num-doors\")\n",
        "\n",
        "look_at_feature(car_data[\"num-doors\"])\n"
      ],
      "execution_count": 15,
      "outputs": [
        {
          "output_type": "stream",
          "text": [
            "201    four\n",
            "55      two\n",
            "46      two\n",
            "126     two\n",
            "173    four\n",
            "Name: num-doors, dtype: object\n",
            "70     four\n",
            "102    four\n",
            "26     four\n",
            "7      four\n",
            "68     four\n",
            "Name: num-doors, dtype: object\n"
          ],
          "name": "stdout"
        },
        {
          "output_type": "execute_result",
          "data": {
            "text/plain": [
              "count      205\n",
              "unique       3\n",
              "top       four\n",
              "freq       114\n",
              "Name: num-doors, dtype: object"
            ]
          },
          "metadata": {
            "tags": []
          },
          "execution_count": 15
        },
        {
          "output_type": "display_data",
          "data": {
            "image/png": "[encoded data removed]",
            "text/plain": [
              "<Figure size 432x288 with 1 Axes>"
            ]
          },
          "metadata": {
            "tags": [],
            "needs_background": "light"
          }
        }
      ]
    },
    {
      "cell_type": "code",
      "metadata": {
        "id": "day_m9yly2_8",
        "colab_type": "code",
        "colab": {
          "base_uri": "https://localhost:8080/",
          "height": 563
        },
        "outputId": "ac32d34b-07ec-42b8-d04d-0d135a43617e"
      },
      "source": [
        "categorical_feature_names.append(\"body-style\")\n",
        "look_at_feature(car_data[\"body-style\"])\n"
      ],
      "execution_count": 16,
      "outputs": [
        {
          "output_type": "stream",
          "text": [
            "201        sedan\n",
            "55     hatchback\n",
            "46     hatchback\n",
            "126      hardtop\n",
            "173        sedan\n",
            "Name: body-style, dtype: object\n",
            "70     sedan\n",
            "102    wagon\n",
            "26     sedan\n",
            "7      wagon\n",
            "68     wagon\n",
            "Name: body-style, dtype: object\n"
          ],
          "name": "stdout"
        },
        {
          "output_type": "execute_result",
          "data": {
            "text/plain": [
              "count       205\n",
              "unique        5\n",
              "top       sedan\n",
              "freq         96\n",
              "Name: body-style, dtype: object"
            ]
          },
          "metadata": {
            "tags": []
          },
          "execution_count": 16
        },
        {
          "output_type": "display_data",
          "data": {
            "image/png": "[encoded data removed]",
            "text/plain": [
              "<Figure size 432x288 with 1 Axes>"
            ]
          },
          "metadata": {
            "tags": [],
            "needs_background": "light"
          }
        }
      ]
    },
    {
      "cell_type": "code",
      "metadata": {
        "id": "iCMGG9yGy4yv",
        "colab_type": "code",
        "colab": {
          "base_uri": "https://localhost:8080/",
          "height": 560
        },
        "outputId": "6bca379e-e53c-4bd6-9bb7-b795c01f234f"
      },
      "source": [
        "categorical_feature_names.append(\"drive-wheels\")\n",
        "\n",
        "look_at_feature(car_data[\"drive-wheels\"])\n"
      ],
      "execution_count": 17,
      "outputs": [
        {
          "output_type": "stream",
          "text": [
            "201    rwd\n",
            "55     rwd\n",
            "46     rwd\n",
            "126    rwd\n",
            "173    fwd\n",
            "Name: drive-wheels, dtype: object\n",
            "70     rwd\n",
            "102    fwd\n",
            "26     fwd\n",
            "7      fwd\n",
            "68     rwd\n",
            "Name: drive-wheels, dtype: object\n"
          ],
          "name": "stdout"
        },
        {
          "output_type": "execute_result",
          "data": {
            "text/plain": [
              "count     205\n",
              "unique      3\n",
              "top       fwd\n",
              "freq      120\n",
              "Name: drive-wheels, dtype: object"
            ]
          },
          "metadata": {
            "tags": []
          },
          "execution_count": 17
        },
        {
          "output_type": "display_data",
          "data": {
            "image/png": "[encoded data removed]",
            "text/plain": [
              "<Figure size 432x288 with 1 Axes>"
            ]
          },
          "metadata": {
            "tags": [],
            "needs_background": "light"
          }
        }
      ]
    },
    {
      "cell_type": "code",
      "metadata": {
        "id": "NowSIejdy7G_",
        "colab_type": "code",
        "colab": {
          "base_uri": "https://localhost:8080/",
          "height": 560
        },
        "outputId": "49d1dedf-816b-4248-c134-f76d4da40c06"
      },
      "source": [
        "categorical_feature_names.append(\"engine-locations\")\n",
        "\n",
        "look_at_feature(car_data[\"engine-location\"])\n"
      ],
      "execution_count": 18,
      "outputs": [
        {
          "output_type": "stream",
          "text": [
            "201    front\n",
            "55     front\n",
            "46     front\n",
            "126     rear\n",
            "173    front\n",
            "Name: engine-location, dtype: object\n",
            "70     front\n",
            "102    front\n",
            "26     front\n",
            "7      front\n",
            "68     front\n",
            "Name: engine-location, dtype: object\n"
          ],
          "name": "stdout"
        },
        {
          "output_type": "execute_result",
          "data": {
            "text/plain": [
              "count       205\n",
              "unique        2\n",
              "top       front\n",
              "freq        202\n",
              "Name: engine-location, dtype: object"
            ]
          },
          "metadata": {
            "tags": []
          },
          "execution_count": 18
        },
        {
          "output_type": "display_data",
          "data": {
            "image/png": "[encoded data removed]",
            "text/plain": [
              "<Figure size 432x288 with 1 Axes>"
            ]
          },
          "metadata": {
            "tags": [],
            "needs_background": "light"
          }
        }
      ]
    },
    {
      "cell_type": "code",
      "metadata": {
        "id": "5ByGwVO5y83t",
        "colab_type": "code",
        "colab": {
          "base_uri": "https://localhost:8080/",
          "height": 629
        },
        "outputId": "f9d87604-3be8-4769-984e-12841569e15e"
      },
      "source": [
        "\n",
        "numeric_feature_names.append(\"wheel-bases\")\n",
        "look_at_feature(car_data[\"wheel-base\"])\n"
      ],
      "execution_count": 19,
      "outputs": [
        {
          "output_type": "stream",
          "text": [
            "201   109.10\n",
            "55     95.30\n",
            "46     96.00\n",
            "126    89.50\n",
            "173   102.40\n",
            "Name: wheel-base, dtype: float64\n",
            "70    115.60\n",
            "102   100.40\n",
            "26     93.70\n",
            "7     105.80\n",
            "68    110.00\n",
            "Name: wheel-base, dtype: float64\n"
          ],
          "name": "stdout"
        },
        {
          "output_type": "execute_result",
          "data": {
            "text/plain": [
              "count   205.00\n",
              "mean     98.76\n",
              "std       6.02\n",
              "min      86.60\n",
              "25%      94.50\n",
              "50%      97.00\n",
              "75%     102.40\n",
              "max     120.90\n",
              "Name: wheel-base, dtype: float64"
            ]
          },
          "metadata": {
            "tags": []
          },
          "execution_count": 19
        },
        {
          "output_type": "display_data",
          "data": {
            "image/png": "[encoded data removed]",
            "text/plain": [
              "<Figure size 432x288 with 1 Axes>"
            ]
          },
          "metadata": {
            "tags": [],
            "needs_background": "light"
          }
        }
      ]
    },
    {
      "cell_type": "code",
      "metadata": {
        "id": "H_EV7sVCy-7D",
        "colab_type": "code",
        "colab": {
          "base_uri": "https://localhost:8080/",
          "height": 629
        },
        "outputId": "e144e106-fcf2-486a-9e05-a5e6d7377696"
      },
      "source": [
        "\n",
        "numeric_feature_names.append(\"length\")\n",
        "look_at_feature(car_data[\"length\"])\n"
      ],
      "execution_count": 20,
      "outputs": [
        {
          "output_type": "stream",
          "text": [
            "201   188.80\n",
            "55    169.00\n",
            "46    172.60\n",
            "126   168.90\n",
            "173   175.60\n",
            "Name: length, dtype: float64\n",
            "70    202.60\n",
            "102   184.60\n",
            "26    157.30\n",
            "7     192.70\n",
            "68    190.90\n",
            "Name: length, dtype: float64\n"
          ],
          "name": "stdout"
        },
        {
          "output_type": "execute_result",
          "data": {
            "text/plain": [
              "count   205.00\n",
              "mean    174.05\n",
              "std      12.34\n",
              "min     141.10\n",
              "25%     166.30\n",
              "50%     173.20\n",
              "75%     183.10\n",
              "max     208.10\n",
              "Name: length, dtype: float64"
            ]
          },
          "metadata": {
            "tags": []
          },
          "execution_count": 20
        },
        {
          "output_type": "display_data",
          "data": {
            "image/png": "[encoded data removed]",
            "text/plain": [
              "<Figure size 432x288 with 1 Axes>"
            ]
          },
          "metadata": {
            "tags": [],
            "needs_background": "light"
          }
        }
      ]
    },
    {
      "cell_type": "code",
      "metadata": {
        "id": "LCEYiOR7zAcq",
        "colab_type": "code",
        "colab": {
          "base_uri": "https://localhost:8080/",
          "height": 629
        },
        "outputId": "8bdf284e-134e-4d40-e202-3137f182db24"
      },
      "source": [
        "\n",
        "numeric_feature_names.append(\"width\")\n",
        "look_at_feature(car_data[\"width\"])\n"
      ],
      "execution_count": 21,
      "outputs": [
        {
          "output_type": "stream",
          "text": [
            "201   68.80\n",
            "55    65.70\n",
            "46    65.20\n",
            "126   65.00\n",
            "173   66.50\n",
            "Name: width, dtype: float64\n",
            "70    71.70\n",
            "102   66.50\n",
            "26    63.80\n",
            "7     71.40\n",
            "68    70.30\n",
            "Name: width, dtype: float64\n"
          ],
          "name": "stdout"
        },
        {
          "output_type": "execute_result",
          "data": {
            "text/plain": [
              "count   205.00\n",
              "mean     65.91\n",
              "std       2.15\n",
              "min      60.30\n",
              "25%      64.10\n",
              "50%      65.50\n",
              "75%      66.90\n",
              "max      72.30\n",
              "Name: width, dtype: float64"
            ]
          },
          "metadata": {
            "tags": []
          },
          "execution_count": 21
        },
        {
          "output_type": "display_data",
          "data": {
            "image/png": "[encoded data removed]",
            "text/plain": [
              "<Figure size 432x288 with 1 Axes>"
            ]
          },
          "metadata": {
            "tags": [],
            "needs_background": "light"
          }
        }
      ]
    },
    {
      "cell_type": "code",
      "metadata": {
        "id": "Xmt0qgf2zB1-",
        "colab_type": "code",
        "colab": {
          "base_uri": "https://localhost:8080/",
          "height": 629
        },
        "outputId": "e3c4f520-d96c-4d47-a6f2-50f38e384200"
      },
      "source": [
        "\n",
        "numeric_feature_names.append(\"height\")\n",
        "look_at_feature(car_data[\"height\"])\n"
      ],
      "execution_count": 22,
      "outputs": [
        {
          "output_type": "stream",
          "text": [
            "201   55.50\n",
            "55    49.60\n",
            "46    51.40\n",
            "126   51.60\n",
            "173   54.90\n",
            "Name: height, dtype: float64\n",
            "70    56.30\n",
            "102   56.10\n",
            "26    50.60\n",
            "7     55.70\n",
            "68    58.70\n",
            "Name: height, dtype: float64\n"
          ],
          "name": "stdout"
        },
        {
          "output_type": "execute_result",
          "data": {
            "text/plain": [
              "count   205.00\n",
              "mean     53.72\n",
              "std       2.44\n",
              "min      47.80\n",
              "25%      52.00\n",
              "50%      54.10\n",
              "75%      55.50\n",
              "max      59.80\n",
              "Name: height, dtype: float64"
            ]
          },
          "metadata": {
            "tags": []
          },
          "execution_count": 22
        },
        {
          "output_type": "display_data",
          "data": {
            "image/png": "[encoded data removed]",
            "text/plain": [
              "<Figure size 432x288 with 1 Axes>"
            ]
          },
          "metadata": {
            "tags": [],
            "needs_background": "light"
          }
        }
      ]
    },
    {
      "cell_type": "code",
      "metadata": {
        "id": "ZOr20pRNzGml",
        "colab_type": "code",
        "colab": {
          "base_uri": "https://localhost:8080/",
          "height": 629
        },
        "outputId": "4a5c2b93-5602-4c79-9877-f73579d0d29c"
      },
      "source": [
        "\n",
        "numeric_feature_names.append(\"weight\")\n",
        "look_at_feature(car_data[\"weight\"])\n"
      ],
      "execution_count": 23,
      "outputs": [
        {
          "output_type": "stream",
          "text": [
            "201    3049\n",
            "55     2380\n",
            "46     2734\n",
            "126    2756\n",
            "173    2326\n",
            "Name: weight, dtype: int64\n",
            "70     3770\n",
            "102    3296\n",
            "26     1989\n",
            "7      2954\n",
            "68     3750\n",
            "Name: weight, dtype: int64\n"
          ],
          "name": "stdout"
        },
        {
          "output_type": "execute_result",
          "data": {
            "text/plain": [
              "count    205.00\n",
              "mean    2555.57\n",
              "std      520.68\n",
              "min     1488.00\n",
              "25%     2145.00\n",
              "50%     2414.00\n",
              "75%     2935.00\n",
              "max     4066.00\n",
              "Name: weight, dtype: float64"
            ]
          },
          "metadata": {
            "tags": []
          },
          "execution_count": 23
        },
        {
          "output_type": "display_data",
          "data": {
            "image/png": "[encoded data removed]",
            "text/plain": [
              "<Figure size 432x288 with 1 Axes>"
            ]
          },
          "metadata": {
            "tags": [],
            "needs_background": "light"
          }
        }
      ]
    },
    {
      "cell_type": "code",
      "metadata": {
        "id": "yRNKl0I0zIOW",
        "colab_type": "code",
        "colab": {
          "base_uri": "https://localhost:8080/",
          "height": 560
        },
        "outputId": "cc1a6e1b-7d28-440c-b665-a69008af9eb4"
      },
      "source": [
        "\n",
        "categorical_feature_names.append(\"engine-type\")\n",
        "look_at_feature(car_data[\"engine-type\"])\n"
      ],
      "execution_count": 24,
      "outputs": [
        {
          "output_type": "stream",
          "text": [
            "201      ohc\n",
            "55     rotor\n",
            "46       ohc\n",
            "126     ohcf\n",
            "173      ohc\n",
            "Name: engine-type, dtype: object\n",
            "70      ohc\n",
            "102    ohcv\n",
            "26      ohc\n",
            "7       ohc\n",
            "68      ohc\n",
            "Name: engine-type, dtype: object\n"
          ],
          "name": "stdout"
        },
        {
          "output_type": "execute_result",
          "data": {
            "text/plain": [
              "count     205\n",
              "unique      7\n",
              "top       ohc\n",
              "freq      148\n",
              "Name: engine-type, dtype: object"
            ]
          },
          "metadata": {
            "tags": []
          },
          "execution_count": 24
        },
        {
          "output_type": "display_data",
          "data": {
            "image/png": "[encoded data removed]",
            "text/plain": [
              "<Figure size 432x288 with 1 Axes>"
            ]
          },
          "metadata": {
            "tags": [],
            "needs_background": "light"
          }
        }
      ]
    },
    {
      "cell_type": "code",
      "metadata": {
        "id": "TuohRhwjzKFZ",
        "colab_type": "code",
        "colab": {
          "base_uri": "https://localhost:8080/",
          "height": 560
        },
        "outputId": "cf16fefb-9e65-4a6c-af34-bbae2e655172"
      },
      "source": [
        "\n",
        "categorical_feature_names.append(\"num-cylinders\")\n",
        "look_at_feature(car_data[\"num-cylinders\"])\n"
      ],
      "execution_count": 25,
      "outputs": [
        {
          "output_type": "stream",
          "text": [
            "201    four\n",
            "55      two\n",
            "46     four\n",
            "126     six\n",
            "173    four\n",
            "Name: num-cylinders, dtype: object\n",
            "70     five\n",
            "102     six\n",
            "26     four\n",
            "7      five\n",
            "68     five\n",
            "Name: num-cylinders, dtype: object\n"
          ],
          "name": "stdout"
        },
        {
          "output_type": "execute_result",
          "data": {
            "text/plain": [
              "count      205\n",
              "unique       7\n",
              "top       four\n",
              "freq       159\n",
              "Name: num-cylinders, dtype: object"
            ]
          },
          "metadata": {
            "tags": []
          },
          "execution_count": 25
        },
        {
          "output_type": "display_data",
          "data": {
            "image/png": "[encoded data removed]",
            "text/plain": [
              "<Figure size 432x288 with 1 Axes>"
            ]
          },
          "metadata": {
            "tags": [],
            "needs_background": "light"
          }
        }
      ]
    },
    {
      "cell_type": "code",
      "metadata": {
        "id": "vdlUuuPczLZI",
        "colab_type": "code",
        "colab": {
          "base_uri": "https://localhost:8080/",
          "height": 629
        },
        "outputId": "acdc5258-9c9b-47dd-f706-3500b66c72c5"
      },
      "source": [
        "\n",
        "numeric_feature_names.append(\"engine-size\")\n",
        "look_at_feature(car_data[\"engine-size\"])\n"
      ],
      "execution_count": 26,
      "outputs": [
        {
          "output_type": "stream",
          "text": [
            "201    141\n",
            "55      70\n",
            "46     119\n",
            "126    194\n",
            "173    122\n",
            "Name: engine-size, dtype: int64\n",
            "70     183\n",
            "102    181\n",
            "26      90\n",
            "7      136\n",
            "68     183\n",
            "Name: engine-size, dtype: int64\n"
          ],
          "name": "stdout"
        },
        {
          "output_type": "execute_result",
          "data": {
            "text/plain": [
              "count   205.00\n",
              "mean    126.91\n",
              "std      41.64\n",
              "min      61.00\n",
              "25%      97.00\n",
              "50%     120.00\n",
              "75%     141.00\n",
              "max     326.00\n",
              "Name: engine-size, dtype: float64"
            ]
          },
          "metadata": {
            "tags": []
          },
          "execution_count": 26
        },
        {
          "output_type": "display_data",
          "data": {
            "image/png": "[encoded data removed]",
            "text/plain": [
              "<Figure size 432x288 with 1 Axes>"
            ]
          },
          "metadata": {
            "tags": [],
            "needs_background": "light"
          }
        }
      ]
    },
    {
      "cell_type": "code",
      "metadata": {
        "id": "XAiGtL1WzMyR",
        "colab_type": "code",
        "colab": {
          "base_uri": "https://localhost:8080/",
          "height": 560
        },
        "outputId": "aa51b82d-274d-46ac-8a2b-f60e8edb4387"
      },
      "source": [
        "\n",
        "categorical_feature_names.append(\"fuel-system\")\n",
        "look_at_feature(car_data[\"fuel-system\"])\n"
      ],
      "execution_count": 27,
      "outputs": [
        {
          "output_type": "stream",
          "text": [
            "201    mpfi\n",
            "55     4bbl\n",
            "46     spfi\n",
            "126    mpfi\n",
            "173    mpfi\n",
            "Name: fuel-system, dtype: object\n",
            "70      idi\n",
            "102    mpfi\n",
            "26     2bbl\n",
            "7      mpfi\n",
            "68      idi\n",
            "Name: fuel-system, dtype: object\n"
          ],
          "name": "stdout"
        },
        {
          "output_type": "execute_result",
          "data": {
            "text/plain": [
              "count      205\n",
              "unique       8\n",
              "top       mpfi\n",
              "freq        94\n",
              "Name: fuel-system, dtype: object"
            ]
          },
          "metadata": {
            "tags": []
          },
          "execution_count": 27
        },
        {
          "output_type": "display_data",
          "data": {
            "image/png": "[encoded data removed]",
            "text/plain": [
              "<Figure size 432x288 with 1 Axes>"
            ]
          },
          "metadata": {
            "tags": [],
            "needs_background": "light"
          }
        }
      ]
    },
    {
      "cell_type": "code",
      "metadata": {
        "id": "SqfjydTQzOA-",
        "colab_type": "code",
        "colab": {
          "base_uri": "https://localhost:8080/",
          "height": 560
        },
        "outputId": "db3d8d1f-e391-4656-a1ce-2a409ded5f53"
      },
      "source": [
        "\n",
        "numeric_feature_names.append(\"bore\")\n",
        "look_at_feature(car_data[\"bore\"])\n"
      ],
      "execution_count": 28,
      "outputs": [
        {
          "output_type": "stream",
          "text": [
            "201    3.78\n",
            "55        ?\n",
            "46     3.43\n",
            "126    3.74\n",
            "173    3.31\n",
            "Name: bore, dtype: object\n",
            "70     3.58\n",
            "102    3.43\n",
            "26     2.97\n",
            "7      3.19\n",
            "68     3.58\n",
            "Name: bore, dtype: object\n"
          ],
          "name": "stdout"
        },
        {
          "output_type": "execute_result",
          "data": {
            "text/plain": [
              "count      205\n",
              "unique      39\n",
              "top       3.62\n",
              "freq        23\n",
              "Name: bore, dtype: object"
            ]
          },
          "metadata": {
            "tags": []
          },
          "execution_count": 28
        },
        {
          "output_type": "display_data",
          "data": {
            "image/png": "[encoded data removed]",
            "text/plain": [
              "<Figure size 432x288 with 1 Axes>"
            ]
          },
          "metadata": {
            "tags": [],
            "needs_background": "light"
          }
        }
      ]
    },
    {
      "cell_type": "code",
      "metadata": {
        "id": "BGsRdVgdzPq6",
        "colab_type": "code",
        "colab": {
          "base_uri": "https://localhost:8080/",
          "height": 560
        },
        "outputId": "ce676027-1fc9-4daf-9dcd-573b1a3a6225"
      },
      "source": [
        "\n",
        "numeric_feature_names.append(\"stroke\")\n",
        "look_at_feature(car_data[\"stroke\"])\n"
      ],
      "execution_count": 29,
      "outputs": [
        {
          "output_type": "stream",
          "text": [
            "201    3.15\n",
            "55        ?\n",
            "46     3.23\n",
            "126    2.90\n",
            "173    3.54\n",
            "Name: stroke, dtype: object\n",
            "70     3.64\n",
            "102    3.27\n",
            "26     3.23\n",
            "7      3.40\n",
            "68     3.64\n",
            "Name: stroke, dtype: object\n"
          ],
          "name": "stdout"
        },
        {
          "output_type": "execute_result",
          "data": {
            "text/plain": [
              "count      205\n",
              "unique      37\n",
              "top       3.40\n",
              "freq        20\n",
              "Name: stroke, dtype: object"
            ]
          },
          "metadata": {
            "tags": []
          },
          "execution_count": 29
        },
        {
          "output_type": "display_data",
          "data": {
            "image/png": "[encoded data removed]",
            "text/plain": [
              "<Figure size 432x288 with 1 Axes>"
            ]
          },
          "metadata": {
            "tags": [],
            "needs_background": "light"
          }
        }
      ]
    },
    {
      "cell_type": "code",
      "metadata": {
        "id": "gdUV4cOdzRZZ",
        "colab_type": "code",
        "colab": {
          "base_uri": "https://localhost:8080/",
          "height": 629
        },
        "outputId": "2d2dd9f4-925d-4322-8915-7b689d39ce43"
      },
      "source": [
        "\n",
        "numeric_feature_names.append(\"compression-ratio\")\n",
        "look_at_feature(car_data[\"compression-ratio\"])\n"
      ],
      "execution_count": 30,
      "outputs": [
        {
          "output_type": "stream",
          "text": [
            "201   8.70\n",
            "55    9.40\n",
            "46    9.20\n",
            "126   9.50\n",
            "173   8.70\n",
            "Name: compression-ratio, dtype: float64\n",
            "70    21.50\n",
            "102    9.00\n",
            "26     9.40\n",
            "7      8.50\n",
            "68    21.50\n",
            "Name: compression-ratio, dtype: float64\n"
          ],
          "name": "stdout"
        },
        {
          "output_type": "execute_result",
          "data": {
            "text/plain": [
              "count   205.00\n",
              "mean     10.14\n",
              "std       3.97\n",
              "min       7.00\n",
              "25%       8.60\n",
              "50%       9.00\n",
              "75%       9.40\n",
              "max      23.00\n",
              "Name: compression-ratio, dtype: float64"
            ]
          },
          "metadata": {
            "tags": []
          },
          "execution_count": 30
        },
        {
          "output_type": "display_data",
          "data": {
            "image/png": "[encoded data removed]",
            "text/plain": [
              "<Figure size 432x288 with 1 Axes>"
            ]
          },
          "metadata": {
            "tags": [],
            "needs_background": "light"
          }
        }
      ]
    },
    {
      "cell_type": "code",
      "metadata": {
        "id": "5CGfLb5BzSb3",
        "colab_type": "code",
        "colab": {
          "base_uri": "https://localhost:8080/",
          "height": 563
        },
        "outputId": "e8537e17-9e6d-496d-bedb-463e21ed7270"
      },
      "source": [
        "\n",
        "numeric_feature_names.append(\"horsepower\")\n",
        "look_at_feature(car_data[\"horsepower\"])\n"
      ],
      "execution_count": 31,
      "outputs": [
        {
          "output_type": "stream",
          "text": [
            "201    160\n",
            "55     101\n",
            "46      90\n",
            "126    207\n",
            "173     92\n",
            "Name: horsepower, dtype: object\n",
            "70     123\n",
            "102    152\n",
            "26      68\n",
            "7      110\n",
            "68     123\n",
            "Name: horsepower, dtype: object\n"
          ],
          "name": "stdout"
        },
        {
          "output_type": "execute_result",
          "data": {
            "text/plain": [
              "count     205\n",
              "unique     60\n",
              "top        68\n",
              "freq       19\n",
              "Name: horsepower, dtype: object"
            ]
          },
          "metadata": {
            "tags": []
          },
          "execution_count": 31
        },
        {
          "output_type": "display_data",
          "data": {
            "image/png": "[encoded data removed]",
            "text/plain": [
              "<Figure size 432x288 with 1 Axes>"
            ]
          },
          "metadata": {
            "tags": [],
            "needs_background": "light"
          }
        }
      ]
    },
    {
      "cell_type": "code",
      "metadata": {
        "id": "-MzdqZ5BzTrj",
        "colab_type": "code",
        "colab": {
          "base_uri": "https://localhost:8080/",
          "height": 560
        },
        "outputId": "84d090a5-2439-4768-d965-1ab62457fad0"
      },
      "source": [
        "\n",
        "numeric_feature_names.append(\"peak-rpm\")\n",
        "look_at_feature(car_data[\"peak-rpm\"])\n"
      ],
      "execution_count": 32,
      "outputs": [
        {
          "output_type": "stream",
          "text": [
            "201    5300\n",
            "55     6000\n",
            "46     5000\n",
            "126    5900\n",
            "173    4200\n",
            "Name: peak-rpm, dtype: object\n",
            "70     4350\n",
            "102    5200\n",
            "26     5500\n",
            "7      5500\n",
            "68     4350\n",
            "Name: peak-rpm, dtype: object\n"
          ],
          "name": "stdout"
        },
        {
          "output_type": "execute_result",
          "data": {
            "text/plain": [
              "count      205\n",
              "unique      24\n",
              "top       5500\n",
              "freq        37\n",
              "Name: peak-rpm, dtype: object"
            ]
          },
          "metadata": {
            "tags": []
          },
          "execution_count": 32
        },
        {
          "output_type": "display_data",
          "data": {
            "image/png": "[encoded data removed]",
            "text/plain": [
              "<Figure size 432x288 with 1 Axes>"
            ]
          },
          "metadata": {
            "tags": [],
            "needs_background": "light"
          }
        }
      ]
    },
    {
      "cell_type": "code",
      "metadata": {
        "id": "pY1s4KFbzUpA",
        "colab_type": "code",
        "colab": {
          "base_uri": "https://localhost:8080/",
          "height": 629
        },
        "outputId": "1726677f-bec8-4098-99db-129723b52e93"
      },
      "source": [
        "\n",
        "numeric_feature_names.append(\"city-mpg\")\n",
        "look_at_feature(car_data[\"city-mpg\"])"
      ],
      "execution_count": 33,
      "outputs": [
        {
          "output_type": "stream",
          "text": [
            "201    19\n",
            "55     17\n",
            "46     24\n",
            "126    17\n",
            "173    29\n",
            "Name: city-mpg, dtype: int64\n",
            "70     22\n",
            "102    17\n",
            "26     31\n",
            "7      19\n",
            "68     22\n",
            "Name: city-mpg, dtype: int64\n"
          ],
          "name": "stdout"
        },
        {
          "output_type": "execute_result",
          "data": {
            "text/plain": [
              "count   205.00\n",
              "mean     25.22\n",
              "std       6.54\n",
              "min      13.00\n",
              "25%      19.00\n",
              "50%      24.00\n",
              "75%      30.00\n",
              "max      49.00\n",
              "Name: city-mpg, dtype: float64"
            ]
          },
          "metadata": {
            "tags": []
          },
          "execution_count": 33
        },
        {
          "output_type": "display_data",
          "data": {
            "image/png": "[encoded data removed]",
            "text/plain": [
              "<Figure size 432x288 with 1 Axes>"
            ]
          },
          "metadata": {
            "tags": [],
            "needs_background": "light"
          }
        }
      ]
    },
    {
      "cell_type": "code",
      "metadata": {
        "id": "zkfHxx3IzVpY",
        "colab_type": "code",
        "colab": {
          "base_uri": "https://localhost:8080/",
          "height": 629
        },
        "outputId": "cf26ab5a-5369-4bfa-80e7-c9d30a4409e9"
      },
      "source": [
        "numeric_feature_names.append(\"highway-mpg\")\n",
        "look_at_feature(car_data[\"highway-mpg\"])\n"
      ],
      "execution_count": 34,
      "outputs": [
        {
          "output_type": "stream",
          "text": [
            "201    25\n",
            "55     23\n",
            "46     29\n",
            "126    25\n",
            "173    34\n",
            "Name: highway-mpg, dtype: int64\n",
            "70     25\n",
            "102    22\n",
            "26     38\n",
            "7      25\n",
            "68     25\n",
            "Name: highway-mpg, dtype: int64\n"
          ],
          "name": "stdout"
        },
        {
          "output_type": "execute_result",
          "data": {
            "text/plain": [
              "count   205.00\n",
              "mean     30.75\n",
              "std       6.89\n",
              "min      16.00\n",
              "25%      25.00\n",
              "50%      30.00\n",
              "75%      34.00\n",
              "max      54.00\n",
              "Name: highway-mpg, dtype: float64"
            ]
          },
          "metadata": {
            "tags": []
          },
          "execution_count": 34
        },
        {
          "output_type": "display_data",
          "data": {
            "image/png": "[encoded data removed]",
            "text/plain": [
              "<Figure size 432x288 with 1 Axes>"
            ]
          },
          "metadata": {
            "tags": [],
            "needs_background": "light"
          }
        }
      ]
    },
    {
      "cell_type": "code",
      "metadata": {
        "cellView": "both",
        "colab_type": "code",
        "id": "VsOUrVozoe9u",
        "outputId": "4982b3c5-5cbf-4242-a13b-31336eb7ff89",
        "colab": {
          "base_uri": "https://localhost:8080/",
          "height": 107
        }
      },
      "source": [
        "print(numeric_feature_names)\n",
        "print(len(numeric_feature_names))\n",
        "print(categorical_feature_names)\n",
        "print(len(categorical_feature_names))\n",
        "# The correct solution will pass these assert statements.\n",
        "assert len(numeric_feature_names) == 15\n",
        "assert len(categorical_feature_names) == 10"
      ],
      "execution_count": 35,
      "outputs": [
        {
          "output_type": "stream",
          "text": [
            "['symboling', 'normalized-losses', 'wheel-bases', 'length', 'width', 'height', 'weight', 'engine-size', 'bore', 'stroke', 'compression-ratio', 'horsepower', 'peak-rpm', 'city-mpg', 'highway-mpg']\n",
            "15\n",
            "['make', 'fuel-type', 'aspiration', 'num-doors', 'body-style', 'drive-wheels', 'engine-locations', 'engine-type', 'num-cylinders', 'fuel-system']\n",
            "10\n"
          ],
          "name": "stdout"
        }
      ]
    },
    {
      "cell_type": "code",
      "metadata": {
        "cellView": "both",
        "colab_type": "code",
        "id": "lLFkHgBm8O1Y",
        "colab": {}
      },
      "source": [
        "#@title Solution (to view code, from cell's menu, select Form -> Show Code)\n",
        "LABEL = \"price\"\n",
        "numeric_feature_names = ['symboling', 'normalized-losses', 'wheel-base',\n",
        "        'length', 'width', 'height', 'weight', 'engine-size', 'horsepower',\n",
        "        'peak-rpm', 'city-mpg', 'highway-mpg', 'bore', 'stroke',\n",
        "         'compression-ratio']\n",
        "\n",
        "categorical_feature_names = list(set(feature_names) - set(numeric_feature_names) - set([LABEL]))\n",
        "\n",
        "assert len(numeric_feature_names) == 15\n",
        "assert len(categorical_feature_names) == 10"
      ],
      "execution_count": 0,
      "outputs": []
    },
    {
      "cell_type": "code",
      "metadata": {
        "colab_type": "code",
        "id": "nabeQFGBpDEN",
        "colab": {
          "base_uri": "https://localhost:8080/",
          "height": 453
        },
        "outputId": "384bf82f-8f5c-4bbf-d112-f00912b6d59d"
      },
      "source": [
        "# Run to inspect numeric features.\n",
        "car_data[numeric_feature_names]"
      ],
      "execution_count": 39,
      "outputs": [
        {
          "output_type": "execute_result",
          "data": {
            "text/html": [
              "<div>\n",
              "<style scoped>\n",
              "    .dataframe tbody tr th:only-of-type {\n",
              "        vertical-align: middle;\n",
              "    }\n",
              "\n",
              "    .dataframe tbody tr th {\n",
              "        vertical-align: top;\n",
              "    }\n",
              "\n",
              "    .dataframe thead th {\n",
              "        text-align: right;\n",
              "    }\n",
              "</style>\n",
              "<table border=\"1\" class=\"dataframe\">\n",
              "  <thead>\n",
              "    <tr style=\"text-align: right;\">\n",
              "      <th></th>\n",
              "      <th>symboling</th>\n",
              "      <th>normalized-losses</th>\n",
              "      <th>wheel-base</th>\n",
              "      <th>length</th>\n",
              "      <th>width</th>\n",
              "      <th>height</th>\n",
              "      <th>weight</th>\n",
              "      <th>engine-size</th>\n",
              "      <th>horsepower</th>\n",
              "      <th>peak-rpm</th>\n",
              "      <th>city-mpg</th>\n",
              "      <th>highway-mpg</th>\n",
              "      <th>bore</th>\n",
              "      <th>stroke</th>\n",
              "      <th>compression-ratio</th>\n",
              "    </tr>\n",
              "  </thead>\n",
              "  <tbody>\n",
              "    <tr>\n",
              "      <th>201</th>\n",
              "      <td>-1</td>\n",
              "      <td>95</td>\n",
              "      <td>109.10</td>\n",
              "      <td>188.80</td>\n",
              "      <td>68.80</td>\n",
              "      <td>55.50</td>\n",
              "      <td>3049</td>\n",
              "      <td>141</td>\n",
              "      <td>160</td>\n",
              "      <td>5300</td>\n",
              "      <td>19</td>\n",
              "      <td>25</td>\n",
              "      <td>3.78</td>\n",
              "      <td>3.15</td>\n",
              "      <td>8.70</td>\n",
              "    </tr>\n",
              "    <tr>\n",
              "      <th>55</th>\n",
              "      <td>3</td>\n",
              "      <td>150</td>\n",
              "      <td>95.30</td>\n",
              "      <td>169.00</td>\n",
              "      <td>65.70</td>\n",
              "      <td>49.60</td>\n",
              "      <td>2380</td>\n",
              "      <td>70</td>\n",
              "      <td>101</td>\n",
              "      <td>6000</td>\n",
              "      <td>17</td>\n",
              "      <td>23</td>\n",
              "      <td>?</td>\n",
              "      <td>?</td>\n",
              "      <td>9.40</td>\n",
              "    </tr>\n",
              "    <tr>\n",
              "      <th>46</th>\n",
              "      <td>2</td>\n",
              "      <td>?</td>\n",
              "      <td>96.00</td>\n",
              "      <td>172.60</td>\n",
              "      <td>65.20</td>\n",
              "      <td>51.40</td>\n",
              "      <td>2734</td>\n",
              "      <td>119</td>\n",
              "      <td>90</td>\n",
              "      <td>5000</td>\n",
              "      <td>24</td>\n",
              "      <td>29</td>\n",
              "      <td>3.43</td>\n",
              "      <td>3.23</td>\n",
              "      <td>9.20</td>\n",
              "    </tr>\n",
              "    <tr>\n",
              "      <th>126</th>\n",
              "      <td>3</td>\n",
              "      <td>?</td>\n",
              "      <td>89.50</td>\n",
              "      <td>168.90</td>\n",
              "      <td>65.00</td>\n",
              "      <td>51.60</td>\n",
              "      <td>2756</td>\n",
              "      <td>194</td>\n",
              "      <td>207</td>\n",
              "      <td>5900</td>\n",
              "      <td>17</td>\n",
              "      <td>25</td>\n",
              "      <td>3.74</td>\n",
              "      <td>2.90</td>\n",
              "      <td>9.50</td>\n",
              "    </tr>\n",
              "    <tr>\n",
              "      <th>173</th>\n",
              "      <td>-1</td>\n",
              "      <td>65</td>\n",
              "      <td>102.40</td>\n",
              "      <td>175.60</td>\n",
              "      <td>66.50</td>\n",
              "      <td>54.90</td>\n",
              "      <td>2326</td>\n",
              "      <td>122</td>\n",
              "      <td>92</td>\n",
              "      <td>4200</td>\n",
              "      <td>29</td>\n",
              "      <td>34</td>\n",
              "      <td>3.31</td>\n",
              "      <td>3.54</td>\n",
              "      <td>8.70</td>\n",
              "    </tr>\n",
              "    <tr>\n",
              "      <th>...</th>\n",
              "      <td>...</td>\n",
              "      <td>...</td>\n",
              "      <td>...</td>\n",
              "      <td>...</td>\n",
              "      <td>...</td>\n",
              "      <td>...</td>\n",
              "      <td>...</td>\n",
              "      <td>...</td>\n",
              "      <td>...</td>\n",
              "      <td>...</td>\n",
              "      <td>...</td>\n",
              "      <td>...</td>\n",
              "      <td>...</td>\n",
              "      <td>...</td>\n",
              "      <td>...</td>\n",
              "    </tr>\n",
              "    <tr>\n",
              "      <th>70</th>\n",
              "      <td>-1</td>\n",
              "      <td>93</td>\n",
              "      <td>115.60</td>\n",
              "      <td>202.60</td>\n",
              "      <td>71.70</td>\n",
              "      <td>56.30</td>\n",
              "      <td>3770</td>\n",
              "      <td>183</td>\n",
              "      <td>123</td>\n",
              "      <td>4350</td>\n",
              "      <td>22</td>\n",
              "      <td>25</td>\n",
              "      <td>3.58</td>\n",
              "      <td>3.64</td>\n",
              "      <td>21.50</td>\n",
              "    </tr>\n",
              "    <tr>\n",
              "      <th>102</th>\n",
              "      <td>0</td>\n",
              "      <td>108</td>\n",
              "      <td>100.40</td>\n",
              "      <td>184.60</td>\n",
              "      <td>66.50</td>\n",
              "      <td>56.10</td>\n",
              "      <td>3296</td>\n",
              "      <td>181</td>\n",
              "      <td>152</td>\n",
              "      <td>5200</td>\n",
              "      <td>17</td>\n",
              "      <td>22</td>\n",
              "      <td>3.43</td>\n",
              "      <td>3.27</td>\n",
              "      <td>9.00</td>\n",
              "    </tr>\n",
              "    <tr>\n",
              "      <th>26</th>\n",
              "      <td>1</td>\n",
              "      <td>148</td>\n",
              "      <td>93.70</td>\n",
              "      <td>157.30</td>\n",
              "      <td>63.80</td>\n",
              "      <td>50.60</td>\n",
              "      <td>1989</td>\n",
              "      <td>90</td>\n",
              "      <td>68</td>\n",
              "      <td>5500</td>\n",
              "      <td>31</td>\n",
              "      <td>38</td>\n",
              "      <td>2.97</td>\n",
              "      <td>3.23</td>\n",
              "      <td>9.40</td>\n",
              "    </tr>\n",
              "    <tr>\n",
              "      <th>7</th>\n",
              "      <td>1</td>\n",
              "      <td>?</td>\n",
              "      <td>105.80</td>\n",
              "      <td>192.70</td>\n",
              "      <td>71.40</td>\n",
              "      <td>55.70</td>\n",
              "      <td>2954</td>\n",
              "      <td>136</td>\n",
              "      <td>110</td>\n",
              "      <td>5500</td>\n",
              "      <td>19</td>\n",
              "      <td>25</td>\n",
              "      <td>3.19</td>\n",
              "      <td>3.40</td>\n",
              "      <td>8.50</td>\n",
              "    </tr>\n",
              "    <tr>\n",
              "      <th>68</th>\n",
              "      <td>-1</td>\n",
              "      <td>93</td>\n",
              "      <td>110.00</td>\n",
              "      <td>190.90</td>\n",
              "      <td>70.30</td>\n",
              "      <td>58.70</td>\n",
              "      <td>3750</td>\n",
              "      <td>183</td>\n",
              "      <td>123</td>\n",
              "      <td>4350</td>\n",
              "      <td>22</td>\n",
              "      <td>25</td>\n",
              "      <td>3.58</td>\n",
              "      <td>3.64</td>\n",
              "      <td>21.50</td>\n",
              "    </tr>\n",
              "  </tbody>\n",
              "</table>\n",
              "<p>205 rows × 15 columns</p>\n",
              "</div>"
            ],
            "text/plain": [
              "     symboling normalized-losses  wheel-base  ...  bore  stroke  compression-ratio\n",
              "201         -1                95      109.10  ...  3.78    3.15               8.70\n",
              "55           3               150       95.30  ...     ?       ?               9.40\n",
              "46           2                 ?       96.00  ...  3.43    3.23               9.20\n",
              "126          3                 ?       89.50  ...  3.74    2.90               9.50\n",
              "173         -1                65      102.40  ...  3.31    3.54               8.70\n",
              "..         ...               ...         ...  ...   ...     ...                ...\n",
              "70          -1                93      115.60  ...  3.58    3.64              21.50\n",
              "102          0               108      100.40  ...  3.43    3.27               9.00\n",
              "26           1               148       93.70  ...  2.97    3.23               9.40\n",
              "7            1                 ?      105.80  ...  3.19    3.40               8.50\n",
              "68          -1                93      110.00  ...  3.58    3.64              21.50\n",
              "\n",
              "[205 rows x 15 columns]"
            ]
          },
          "metadata": {
            "tags": []
          },
          "execution_count": 39
        }
      ]
    },
    {
      "cell_type": "code",
      "metadata": {
        "colab_type": "code",
        "id": "b1ss9Q7mpiBy",
        "colab": {
          "base_uri": "https://localhost:8080/",
          "height": 487
        },
        "outputId": "be94ec4d-3150-4b6b-a3b5-b09c9eb99c04"
      },
      "source": [
        "# Run to inspect categorical features.\n",
        "car_data[categorical_feature_names]"
      ],
      "execution_count": 40,
      "outputs": [
        {
          "output_type": "execute_result",
          "data": {
            "text/html": [
              "<div>\n",
              "<style scoped>\n",
              "    .dataframe tbody tr th:only-of-type {\n",
              "        vertical-align: middle;\n",
              "    }\n",
              "\n",
              "    .dataframe tbody tr th {\n",
              "        vertical-align: top;\n",
              "    }\n",
              "\n",
              "    .dataframe thead th {\n",
              "        text-align: right;\n",
              "    }\n",
              "</style>\n",
              "<table border=\"1\" class=\"dataframe\">\n",
              "  <thead>\n",
              "    <tr style=\"text-align: right;\">\n",
              "      <th></th>\n",
              "      <th>num-doors</th>\n",
              "      <th>engine-location</th>\n",
              "      <th>body-style</th>\n",
              "      <th>fuel-system</th>\n",
              "      <th>drive-wheels</th>\n",
              "      <th>engine-type</th>\n",
              "      <th>aspiration</th>\n",
              "      <th>fuel-type</th>\n",
              "      <th>make</th>\n",
              "      <th>num-cylinders</th>\n",
              "    </tr>\n",
              "  </thead>\n",
              "  <tbody>\n",
              "    <tr>\n",
              "      <th>201</th>\n",
              "      <td>four</td>\n",
              "      <td>front</td>\n",
              "      <td>sedan</td>\n",
              "      <td>mpfi</td>\n",
              "      <td>rwd</td>\n",
              "      <td>ohc</td>\n",
              "      <td>turbo</td>\n",
              "      <td>gas</td>\n",
              "      <td>volvo</td>\n",
              "      <td>four</td>\n",
              "    </tr>\n",
              "    <tr>\n",
              "      <th>55</th>\n",
              "      <td>two</td>\n",
              "      <td>front</td>\n",
              "      <td>hatchback</td>\n",
              "      <td>4bbl</td>\n",
              "      <td>rwd</td>\n",
              "      <td>rotor</td>\n",
              "      <td>std</td>\n",
              "      <td>gas</td>\n",
              "      <td>mazda</td>\n",
              "      <td>two</td>\n",
              "    </tr>\n",
              "    <tr>\n",
              "      <th>46</th>\n",
              "      <td>two</td>\n",
              "      <td>front</td>\n",
              "      <td>hatchback</td>\n",
              "      <td>spfi</td>\n",
              "      <td>rwd</td>\n",
              "      <td>ohc</td>\n",
              "      <td>std</td>\n",
              "      <td>gas</td>\n",
              "      <td>isuzu</td>\n",
              "      <td>four</td>\n",
              "    </tr>\n",
              "    <tr>\n",
              "      <th>126</th>\n",
              "      <td>two</td>\n",
              "      <td>rear</td>\n",
              "      <td>hardtop</td>\n",
              "      <td>mpfi</td>\n",
              "      <td>rwd</td>\n",
              "      <td>ohcf</td>\n",
              "      <td>std</td>\n",
              "      <td>gas</td>\n",
              "      <td>porsche</td>\n",
              "      <td>six</td>\n",
              "    </tr>\n",
              "    <tr>\n",
              "      <th>173</th>\n",
              "      <td>four</td>\n",
              "      <td>front</td>\n",
              "      <td>sedan</td>\n",
              "      <td>mpfi</td>\n",
              "      <td>fwd</td>\n",
              "      <td>ohc</td>\n",
              "      <td>std</td>\n",
              "      <td>gas</td>\n",
              "      <td>toyota</td>\n",
              "      <td>four</td>\n",
              "    </tr>\n",
              "    <tr>\n",
              "      <th>...</th>\n",
              "      <td>...</td>\n",
              "      <td>...</td>\n",
              "      <td>...</td>\n",
              "      <td>...</td>\n",
              "      <td>...</td>\n",
              "      <td>...</td>\n",
              "      <td>...</td>\n",
              "      <td>...</td>\n",
              "      <td>...</td>\n",
              "      <td>...</td>\n",
              "    </tr>\n",
              "    <tr>\n",
              "      <th>70</th>\n",
              "      <td>four</td>\n",
              "      <td>front</td>\n",
              "      <td>sedan</td>\n",
              "      <td>idi</td>\n",
              "      <td>rwd</td>\n",
              "      <td>ohc</td>\n",
              "      <td>turbo</td>\n",
              "      <td>diesel</td>\n",
              "      <td>mercedes-benz</td>\n",
              "      <td>five</td>\n",
              "    </tr>\n",
              "    <tr>\n",
              "      <th>102</th>\n",
              "      <td>four</td>\n",
              "      <td>front</td>\n",
              "      <td>wagon</td>\n",
              "      <td>mpfi</td>\n",
              "      <td>fwd</td>\n",
              "      <td>ohcv</td>\n",
              "      <td>std</td>\n",
              "      <td>gas</td>\n",
              "      <td>nissan</td>\n",
              "      <td>six</td>\n",
              "    </tr>\n",
              "    <tr>\n",
              "      <th>26</th>\n",
              "      <td>four</td>\n",
              "      <td>front</td>\n",
              "      <td>sedan</td>\n",
              "      <td>2bbl</td>\n",
              "      <td>fwd</td>\n",
              "      <td>ohc</td>\n",
              "      <td>std</td>\n",
              "      <td>gas</td>\n",
              "      <td>dodge</td>\n",
              "      <td>four</td>\n",
              "    </tr>\n",
              "    <tr>\n",
              "      <th>7</th>\n",
              "      <td>four</td>\n",
              "      <td>front</td>\n",
              "      <td>wagon</td>\n",
              "      <td>mpfi</td>\n",
              "      <td>fwd</td>\n",
              "      <td>ohc</td>\n",
              "      <td>std</td>\n",
              "      <td>gas</td>\n",
              "      <td>audi</td>\n",
              "      <td>five</td>\n",
              "    </tr>\n",
              "    <tr>\n",
              "      <th>68</th>\n",
              "      <td>four</td>\n",
              "      <td>front</td>\n",
              "      <td>wagon</td>\n",
              "      <td>idi</td>\n",
              "      <td>rwd</td>\n",
              "      <td>ohc</td>\n",
              "      <td>turbo</td>\n",
              "      <td>diesel</td>\n",
              "      <td>mercedes-benz</td>\n",
              "      <td>five</td>\n",
              "    </tr>\n",
              "  </tbody>\n",
              "</table>\n",
              "<p>205 rows × 10 columns</p>\n",
              "</div>"
            ],
            "text/plain": [
              "    num-doors engine-location body-style  ... fuel-type           make num-cylinders\n",
              "201      four           front      sedan  ...       gas          volvo          four\n",
              "55        two           front  hatchback  ...       gas          mazda           two\n",
              "46        two           front  hatchback  ...       gas          isuzu          four\n",
              "126       two            rear    hardtop  ...       gas        porsche           six\n",
              "173      four           front      sedan  ...       gas         toyota          four\n",
              "..        ...             ...        ...  ...       ...            ...           ...\n",
              "70       four           front      sedan  ...    diesel  mercedes-benz          five\n",
              "102      four           front      wagon  ...       gas         nissan           six\n",
              "26       four           front      sedan  ...       gas          dodge          four\n",
              "7        four           front      wagon  ...       gas           audi          five\n",
              "68       four           front      wagon  ...    diesel  mercedes-benz          five\n",
              "\n",
              "[205 rows x 10 columns]"
            ]
          },
          "metadata": {
            "tags": []
          },
          "execution_count": 40
        }
      ]
    },
    {
      "cell_type": "code",
      "metadata": {
        "colab_type": "code",
        "id": "6OjDegBgqNnu",
        "colab": {}
      },
      "source": [
        "# Coerce the numeric features to numbers. This is necessary because the model\n",
        "# crashes because not all the values are numeric.\n",
        "for feature_name in numeric_feature_names + [LABEL]:\n",
        "  car_data[feature_name] = pd.to_numeric(car_data[feature_name], errors='coerce')\n",
        "\n",
        "# Fill missing values with 0.\n",
        "# Is this an OK thing to do? You may want to come back and revisit this decision later.\n",
        "car_data.fillna(0, inplace=True)"
      ],
      "execution_count": 0,
      "outputs": []
    },
    {
      "cell_type": "markdown",
      "metadata": {
        "colab_type": "text",
        "id": "Uq-t-8GPvnCW"
      },
      "source": [
        "## Task 1: Make your best model with numeric features. No normalization allowed.\n",
        "\n",
        "Modify the model provided below to achieve the lowest eval loss. You may want to change various hyperparameters:\n",
        "- learning rate\n",
        "- choice of optimizer\n",
        "- hidden layer dimensions -- make sure your choice here makes sense given the number of training examples\n",
        "- batch size\n",
        "- num training steps\n",
        "- (anything else you can think of changing)\n",
        "\n",
        "Do not use the `normalizer_fn` arg on `numeric_column`."
      ]
    },
    {
      "cell_type": "code",
      "metadata": {
        "colab_type": "code",
        "id": "JH6KJp-4-E_Q",
        "colab": {
          "base_uri": "https://localhost:8080/",
          "height": 1000
        },
        "outputId": "a2c29623-6111-4986-e881-792cc0f13aa6"
      },
      "source": [
        "# This code \"works\", but because of bad hyperparameter choices it gets NaN loss\n",
        "# during training. Try fixing this.\n",
        "\n",
        "batch_size = 16\n",
        "\n",
        "print(numeric_feature_names)\n",
        "x_df = car_data[numeric_feature_names]\n",
        "y_series = car_data['price']\n",
        "\n",
        "# Create input_fn's so that the estimator knows how to read in your data.\n",
        "train_input_fn = tf.estimator.inputs.pandas_input_fn(\n",
        "    x=x_df,\n",
        "    y=y_series,\n",
        "    batch_size=batch_size,\n",
        "    num_epochs=None,\n",
        "    shuffle=True)\n",
        "\n",
        "eval_input_fn = tf.estimator.inputs.pandas_input_fn(\n",
        "    x=x_df,\n",
        "    y=y_series,\n",
        "    batch_size=batch_size,\n",
        "    shuffle=False)\n",
        "\n",
        "predict_input_fn = tf.estimator.inputs.pandas_input_fn(\n",
        "    x=x_df,\n",
        "    batch_size=batch_size,\n",
        "    shuffle=False)\n",
        "\n",
        "# Feature columns allow the model to parse the data, perform common\n",
        "# preprocessing, and automatically generate an input layer for the tf.Estimator.\n",
        "model_feature_columns = [\n",
        "    tf.feature_column.numeric_column(feature_name) for feature_name in numeric_feature_names\n",
        "]\n",
        "print('model_feature_columns', model_feature_columns)\n",
        "\n",
        "est = tf.estimator.DNNRegressor(\n",
        "    feature_columns=model_feature_columns,\n",
        "    hidden_units=[64],\n",
        "    optimizer=tf.train.AdagradOptimizer(learning_rate=0.01),\n",
        "  )\n",
        "\n",
        "# TRAIN\n",
        "num_print_statements = 10\n",
        "num_training_steps = 10000\n",
        "for _ in range(num_print_statements):\n",
        "  est.train(train_input_fn, steps=num_training_steps // num_print_statements)\n",
        "  scores = est.evaluate(eval_input_fn)\n",
        "  \n",
        "  # The `scores` dictionary has several metrics automatically generated by the\n",
        "  # canned Estimator.\n",
        "  # `average_loss` is the average loss for an individual example.\n",
        "  # `loss` is the summed loss for the batch.\n",
        "  # In addition to these scalar losses, you may find the visualization functions\n",
        "  # in the next cell helpful for debugging model quality.\n",
        "  print('scores', scores)\n",
        "\n"
      ],
      "execution_count": 49,
      "outputs": [
        {
          "output_type": "stream",
          "text": [
            "['symboling', 'normalized-losses', 'wheel-base', 'length', 'width', 'height', 'weight', 'engine-size', 'horsepower', 'peak-rpm', 'city-mpg', 'highway-mpg', 'bore', 'stroke', 'compression-ratio']\n",
            "model_feature_columns [NumericColumn(key='symboling', shape=(1,), default_value=None, dtype=tf.float32, normalizer_fn=None), NumericColumn(key='normalized-losses', shape=(1,), default_value=None, dtype=tf.float32, normalizer_fn=None), NumericColumn(key='wheel-base', shape=(1,), default_value=None, dtype=tf.float32, normalizer_fn=None), NumericColumn(key='length', shape=(1,), default_value=None, dtype=tf.float32, normalizer_fn=None), NumericColumn(key='width', shape=(1,), default_value=None, dtype=tf.float32, normalizer_fn=None), NumericColumn(key='height', shape=(1,), default_value=None, dtype=tf.float32, normalizer_fn=None), NumericColumn(key='weight', shape=(1,), default_value=None, dtype=tf.float32, normalizer_fn=None), NumericColumn(key='engine-size', shape=(1,), default_value=None, dtype=tf.float32, normalizer_fn=None), NumericColumn(key='horsepower', shape=(1,), default_value=None, dtype=tf.float32, normalizer_fn=None), NumericColumn(key='peak-rpm', shape=(1,), default_value=None, dtype=tf.float32, normalizer_fn=None), NumericColumn(key='city-mpg', shape=(1,), default_value=None, dtype=tf.float32, normalizer_fn=None), NumericColumn(key='highway-mpg', shape=(1,), default_value=None, dtype=tf.float32, normalizer_fn=None), NumericColumn(key='bore', shape=(1,), default_value=None, dtype=tf.float32, normalizer_fn=None), NumericColumn(key='stroke', shape=(1,), default_value=None, dtype=tf.float32, normalizer_fn=None), NumericColumn(key='compression-ratio', shape=(1,), default_value=None, dtype=tf.float32, normalizer_fn=None)]\n",
            "INFO:tensorflow:Using default config.\n",
            "WARNING:tensorflow:Using temporary folder as model directory: /tmp/tmp53d0__oo\n",
            "INFO:tensorflow:Using config: {'_model_dir': '/tmp/tmp53d0__oo', '_tf_random_seed': None, '_save_summary_steps': 100, '_save_checkpoints_steps': None, '_save_checkpoints_secs': 600, '_session_config': allow_soft_placement: true\n",
            "graph_options {\n",
            "  rewrite_options {\n",
            "    meta_optimizer_iterations: ONE\n",
            "  }\n",
            "}\n",
            ", '_keep_checkpoint_max': 5, '_keep_checkpoint_every_n_hours': 10000, '_log_step_count_steps': 100, '_train_distribute': None, '_device_fn': None, '_protocol': None, '_eval_distribute': None, '_experimental_distribute': None, '_experimental_max_worker_delay_secs': None, '_session_creation_timeout_secs': 7200, '_service': None, '_cluster_spec': ClusterSpec({}), '_task_type': 'worker', '_task_id': 0, '_global_id_in_cluster': 0, '_master': '', '_evaluation_master': '', '_is_chief': True, '_num_ps_replicas': 0, '_num_worker_replicas': 1}\n",
            "INFO:tensorflow:Calling model_fn.\n",
            "WARNING:tensorflow:From /usr/local/lib/python3.6/dist-packages/tensorflow/python/training/adagrad.py:77: calling Constant.__init__ (from tensorflow.python.ops.init_ops) with dtype is deprecated and will be removed in a future version.\n",
            "Instructions for updating:\n",
            "Call initializer instance with the dtype argument instead of passing it to the constructor\n",
            "INFO:tensorflow:Done calling model_fn.\n",
            "INFO:tensorflow:Create CheckpointSaverHook.\n",
            "INFO:tensorflow:Graph was finalized.\n",
            "INFO:tensorflow:Running local_init_op.\n",
            "INFO:tensorflow:Done running local_init_op.\n",
            "INFO:tensorflow:Calling checkpoint listeners before saving checkpoint 0...\n",
            "INFO:tensorflow:Saving checkpoints for 0 into /tmp/tmp53d0__oo/model.ckpt.\n",
            "INFO:tensorflow:Calling checkpoint listeners after saving checkpoint 0...\n",
            "INFO:tensorflow:loss = 4896848000.0, step = 1\n",
            "INFO:tensorflow:global_step/sec: 341.954\n",
            "INFO:tensorflow:loss = 563355140.0, step = 101 (0.294 sec)\n",
            "INFO:tensorflow:global_step/sec: 397.146\n",
            "INFO:tensorflow:loss = 1084054500.0, step = 201 (0.254 sec)\n",
            "INFO:tensorflow:global_step/sec: 390.106\n",
            "INFO:tensorflow:loss = 2277370600.0, step = 301 (0.263 sec)\n",
            "INFO:tensorflow:global_step/sec: 378.981\n",
            "INFO:tensorflow:loss = 455533700.0, step = 401 (0.264 sec)\n",
            "INFO:tensorflow:global_step/sec: 382.253\n",
            "INFO:tensorflow:loss = 274683000.0, step = 501 (0.261 sec)\n",
            "INFO:tensorflow:global_step/sec: 382.42\n",
            "INFO:tensorflow:loss = 715428540.0, step = 601 (0.256 sec)\n",
            "INFO:tensorflow:global_step/sec: 406.708\n",
            "INFO:tensorflow:loss = 989626100.0, step = 701 (0.250 sec)\n",
            "INFO:tensorflow:global_step/sec: 383.762\n",
            "INFO:tensorflow:loss = 625250200.0, step = 801 (0.255 sec)\n",
            "INFO:tensorflow:global_step/sec: 373.596\n",
            "INFO:tensorflow:loss = 1170916900.0, step = 901 (0.274 sec)\n",
            "WARNING:tensorflow:It seems that global step (tf.train.get_global_step) has not been increased. Current value (could be stable): 933 vs previous value: 933. You could increase the global step by passing tf.train.get_global_step() to Optimizer.apply_gradients or Optimizer.minimize.\n",
            "INFO:tensorflow:Calling checkpoint listeners before saving checkpoint 1000...\n",
            "INFO:tensorflow:Saving checkpoints for 1000 into /tmp/tmp53d0__oo/model.ckpt.\n",
            "INFO:tensorflow:Calling checkpoint listeners after saving checkpoint 1000...\n",
            "INFO:tensorflow:Loss for final step: 289045820.0.\n",
            "INFO:tensorflow:Calling model_fn.\n",
            "INFO:tensorflow:Done calling model_fn.\n",
            "INFO:tensorflow:Starting evaluation at 2020-05-21T02:15:16Z\n",
            "INFO:tensorflow:Graph was finalized.\n",
            "INFO:tensorflow:Restoring parameters from /tmp/tmp53d0__oo/model.ckpt-1000\n",
            "INFO:tensorflow:Running local_init_op.\n",
            "INFO:tensorflow:Done running local_init_op.\n",
            "INFO:tensorflow:Inference Time : 0.24549s\n",
            "INFO:tensorflow:Finished evaluation at 2020-05-21-02:15:16\n",
            "INFO:tensorflow:Saving dict for global step 1000: average_loss = 39288896.0, global_step = 1000, label/mean = 12949.43, loss = 619555650.0, prediction/mean = 13199.907\n",
            "INFO:tensorflow:Saving 'checkpoint_path' summary for global step 1000: /tmp/tmp53d0__oo/model.ckpt-1000\n",
            "scores {'average_loss': 39288896.0, 'label/mean': 12949.43, 'loss': 619555650.0, 'prediction/mean': 13199.907, 'global_step': 1000}\n",
            "INFO:tensorflow:Calling model_fn.\n",
            "INFO:tensorflow:Done calling model_fn.\n",
            "INFO:tensorflow:Create CheckpointSaverHook.\n",
            "INFO:tensorflow:Graph was finalized.\n",
            "INFO:tensorflow:Restoring parameters from /tmp/tmp53d0__oo/model.ckpt-1000\n",
            "INFO:tensorflow:Running local_init_op.\n",
            "INFO:tensorflow:Done running local_init_op.\n",
            "INFO:tensorflow:Calling checkpoint listeners before saving checkpoint 1000...\n",
            "INFO:tensorflow:Saving checkpoints for 1000 into /tmp/tmp53d0__oo/model.ckpt.\n",
            "INFO:tensorflow:Calling checkpoint listeners after saving checkpoint 1000...\n",
            "INFO:tensorflow:loss = 1071742900.0, step = 1001\n",
            "INFO:tensorflow:global_step/sec: 356.664\n",
            "INFO:tensorflow:loss = 179172510.0, step = 1101 (0.288 sec)\n",
            "INFO:tensorflow:global_step/sec: 368.126\n",
            "INFO:tensorflow:loss = 519049540.0, step = 1201 (0.268 sec)\n",
            "INFO:tensorflow:global_step/sec: 387.744\n",
            "INFO:tensorflow:loss = 625267460.0, step = 1301 (0.260 sec)\n",
            "WARNING:tensorflow:It seems that global step (tf.train.get_global_step) has not been increased. Current value (could be stable): 1309 vs previous value: 1309. You could increase the global step by passing tf.train.get_global_step() to Optimizer.apply_gradients or Optimizer.minimize.\n",
            "INFO:tensorflow:global_step/sec: 421.778\n",
            "INFO:tensorflow:loss = 574616450.0, step = 1401 (0.241 sec)\n",
            "INFO:tensorflow:global_step/sec: 388.427\n",
            "INFO:tensorflow:loss = 404086500.0, step = 1501 (0.250 sec)\n",
            "INFO:tensorflow:global_step/sec: 387.175\n",
            "INFO:tensorflow:loss = 648268500.0, step = 1601 (0.262 sec)\n",
            "INFO:tensorflow:global_step/sec: 405.897\n",
            "INFO:tensorflow:loss = 801411200.0, step = 1701 (0.249 sec)\n",
            "INFO:tensorflow:global_step/sec: 378.164\n",
            "INFO:tensorflow:loss = 775961500.0, step = 1801 (0.260 sec)\n",
            "WARNING:tensorflow:It seems that global step (tf.train.get_global_step) has not been increased. Current value (could be stable): 1833 vs previous value: 1833. You could increase the global step by passing tf.train.get_global_step() to Optimizer.apply_gradients or Optimizer.minimize.\n",
            "INFO:tensorflow:global_step/sec: 389.77\n",
            "INFO:tensorflow:loss = 127879390.0, step = 1901 (0.258 sec)\n",
            "INFO:tensorflow:Calling checkpoint listeners before saving checkpoint 2000...\n",
            "INFO:tensorflow:Saving checkpoints for 2000 into /tmp/tmp53d0__oo/model.ckpt.\n",
            "INFO:tensorflow:Calling checkpoint listeners after saving checkpoint 2000...\n",
            "INFO:tensorflow:Loss for final step: 284087970.0.\n",
            "INFO:tensorflow:Calling model_fn.\n",
            "INFO:tensorflow:Done calling model_fn.\n",
            "INFO:tensorflow:Starting evaluation at 2020-05-21T02:15:20Z\n",
            "INFO:tensorflow:Graph was finalized.\n",
            "INFO:tensorflow:Restoring parameters from /tmp/tmp53d0__oo/model.ckpt-2000\n",
            "INFO:tensorflow:Running local_init_op.\n",
            "INFO:tensorflow:Done running local_init_op.\n",
            "INFO:tensorflow:Inference Time : 0.24921s\n",
            "INFO:tensorflow:Finished evaluation at 2020-05-21-02:15:20\n",
            "INFO:tensorflow:Saving dict for global step 2000: average_loss = 31161694.0, global_step = 2000, label/mean = 12949.43, loss = 491395940.0, prediction/mean = 13164.861\n",
            "INFO:tensorflow:Saving 'checkpoint_path' summary for global step 2000: /tmp/tmp53d0__oo/model.ckpt-2000\n",
            "scores {'average_loss': 31161694.0, 'label/mean': 12949.43, 'loss': 491395940.0, 'prediction/mean': 13164.861, 'global_step': 2000}\n",
            "INFO:tensorflow:Calling model_fn.\n",
            "INFO:tensorflow:Done calling model_fn.\n",
            "INFO:tensorflow:Create CheckpointSaverHook.\n",
            "INFO:tensorflow:Graph was finalized.\n",
            "INFO:tensorflow:Restoring parameters from /tmp/tmp53d0__oo/model.ckpt-2000\n",
            "INFO:tensorflow:Running local_init_op.\n",
            "INFO:tensorflow:Done running local_init_op.\n",
            "INFO:tensorflow:Calling checkpoint listeners before saving checkpoint 2000...\n",
            "INFO:tensorflow:Saving checkpoints for 2000 into /tmp/tmp53d0__oo/model.ckpt.\n",
            "INFO:tensorflow:Calling checkpoint listeners after saving checkpoint 2000...\n",
            "INFO:tensorflow:loss = 223433170.0, step = 2001\n",
            "INFO:tensorflow:global_step/sec: 361.935\n",
            "INFO:tensorflow:loss = 522373500.0, step = 2101 (0.288 sec)\n",
            "WARNING:tensorflow:It seems that global step (tf.train.get_global_step) has not been increased. Current value (could be stable): 2102 vs previous value: 2102. You could increase the global step by passing tf.train.get_global_step() to Optimizer.apply_gradients or Optimizer.minimize.\n",
            "INFO:tensorflow:global_step/sec: 393.821\n",
            "INFO:tensorflow:loss = 658690900.0, step = 2201 (0.254 sec)\n",
            "INFO:tensorflow:global_step/sec: 393.975\n",
            "INFO:tensorflow:loss = 377696500.0, step = 2301 (0.250 sec)\n",
            "INFO:tensorflow:global_step/sec: 390.843\n",
            "INFO:tensorflow:loss = 585032700.0, step = 2401 (0.257 sec)\n",
            "INFO:tensorflow:global_step/sec: 378.849\n",
            "INFO:tensorflow:loss = 312806980.0, step = 2501 (0.255 sec)\n",
            "INFO:tensorflow:global_step/sec: 392.859\n",
            "INFO:tensorflow:loss = 1384636700.0, step = 2601 (0.259 sec)\n",
            "INFO:tensorflow:global_step/sec: 393.567\n",
            "INFO:tensorflow:loss = 413877600.0, step = 2701 (0.250 sec)\n",
            "INFO:tensorflow:global_step/sec: 388.713\n",
            "INFO:tensorflow:loss = 318537020.0, step = 2801 (0.263 sec)\n",
            "WARNING:tensorflow:It seems that global step (tf.train.get_global_step) has not been increased. Current value (could be stable): 2838 vs previous value: 2838. You could increase the global step by passing tf.train.get_global_step() to Optimizer.apply_gradients or Optimizer.minimize.\n",
            "INFO:tensorflow:global_step/sec: 366.132\n",
            "INFO:tensorflow:loss = 182670240.0, step = 2901 (0.269 sec)\n",
            "INFO:tensorflow:Calling checkpoint listeners before saving checkpoint 3000...\n",
            "INFO:tensorflow:Saving checkpoints for 3000 into /tmp/tmp53d0__oo/model.ckpt.\n",
            "INFO:tensorflow:Calling checkpoint listeners after saving checkpoint 3000...\n",
            "INFO:tensorflow:Loss for final step: 136694910.0.\n",
            "INFO:tensorflow:Calling model_fn.\n",
            "INFO:tensorflow:Done calling model_fn.\n",
            "INFO:tensorflow:Starting evaluation at 2020-05-21T02:15:24Z\n",
            "INFO:tensorflow:Graph was finalized.\n",
            "INFO:tensorflow:Restoring parameters from /tmp/tmp53d0__oo/model.ckpt-3000\n",
            "INFO:tensorflow:Running local_init_op.\n",
            "INFO:tensorflow:Done running local_init_op.\n",
            "INFO:tensorflow:Inference Time : 0.24766s\n",
            "INFO:tensorflow:Finished evaluation at 2020-05-21-02:15:24\n",
            "INFO:tensorflow:Saving dict for global step 3000: average_loss = 27645858.0, global_step = 3000, label/mean = 12949.43, loss = 435953900.0, prediction/mean = 13280.038\n",
            "INFO:tensorflow:Saving 'checkpoint_path' summary for global step 3000: /tmp/tmp53d0__oo/model.ckpt-3000\n",
            "scores {'average_loss': 27645858.0, 'label/mean': 12949.43, 'loss': 435953900.0, 'prediction/mean': 13280.038, 'global_step': 3000}\n",
            "INFO:tensorflow:Calling model_fn.\n",
            "INFO:tensorflow:Done calling model_fn.\n",
            "INFO:tensorflow:Create CheckpointSaverHook.\n",
            "INFO:tensorflow:Graph was finalized.\n",
            "INFO:tensorflow:Restoring parameters from /tmp/tmp53d0__oo/model.ckpt-3000\n",
            "INFO:tensorflow:Running local_init_op.\n",
            "INFO:tensorflow:Done running local_init_op.\n",
            "INFO:tensorflow:Calling checkpoint listeners before saving checkpoint 3000...\n",
            "INFO:tensorflow:Saving checkpoints for 3000 into /tmp/tmp53d0__oo/model.ckpt.\n",
            "INFO:tensorflow:Calling checkpoint listeners after saving checkpoint 3000...\n",
            "INFO:tensorflow:loss = 133904184.0, step = 3001\n",
            "INFO:tensorflow:global_step/sec: 350.502\n",
            "INFO:tensorflow:loss = 509694660.0, step = 3101 (0.290 sec)\n",
            "INFO:tensorflow:global_step/sec: 391.074\n",
            "INFO:tensorflow:loss = 286648260.0, step = 3201 (0.261 sec)\n",
            "INFO:tensorflow:global_step/sec: 390.974\n",
            "INFO:tensorflow:loss = 109924050.0, step = 3301 (0.254 sec)\n",
            "INFO:tensorflow:global_step/sec: 392.347\n",
            "INFO:tensorflow:loss = 225186270.0, step = 3401 (0.253 sec)\n",
            "INFO:tensorflow:global_step/sec: 390.888\n",
            "INFO:tensorflow:loss = 568884100.0, step = 3501 (0.254 sec)\n",
            "INFO:tensorflow:global_step/sec: 387.751\n",
            "INFO:tensorflow:loss = 221302940.0, step = 3601 (0.261 sec)\n",
            "INFO:tensorflow:global_step/sec: 384.381\n",
            "INFO:tensorflow:loss = 520101280.0, step = 3701 (0.256 sec)\n",
            "INFO:tensorflow:global_step/sec: 386.45\n",
            "INFO:tensorflow:loss = 427314460.0, step = 3801 (0.264 sec)\n",
            "INFO:tensorflow:global_step/sec: 391.756\n",
            "INFO:tensorflow:loss = 116008216.0, step = 3901 (0.250 sec)\n",
            "INFO:tensorflow:Calling checkpoint listeners before saving checkpoint 4000...\n",
            "INFO:tensorflow:Saving checkpoints for 4000 into /tmp/tmp53d0__oo/model.ckpt.\n",
            "INFO:tensorflow:Calling checkpoint listeners after saving checkpoint 4000...\n",
            "INFO:tensorflow:Loss for final step: 91209280.0.\n",
            "INFO:tensorflow:Calling model_fn.\n",
            "INFO:tensorflow:Done calling model_fn.\n",
            "INFO:tensorflow:Starting evaluation at 2020-05-21T02:15:28Z\n",
            "INFO:tensorflow:Graph was finalized.\n",
            "INFO:tensorflow:Restoring parameters from /tmp/tmp53d0__oo/model.ckpt-4000\n",
            "INFO:tensorflow:Running local_init_op.\n",
            "INFO:tensorflow:Done running local_init_op.\n",
            "INFO:tensorflow:Inference Time : 0.24917s\n",
            "INFO:tensorflow:Finished evaluation at 2020-05-21-02:15:28\n",
            "INFO:tensorflow:Saving dict for global step 4000: average_loss = 25898014.0, global_step = 4000, label/mean = 12949.43, loss = 408391740.0, prediction/mean = 13145.009\n",
            "INFO:tensorflow:Saving 'checkpoint_path' summary for global step 4000: /tmp/tmp53d0__oo/model.ckpt-4000\n",
            "scores {'average_loss': 25898014.0, 'label/mean': 12949.43, 'loss': 408391740.0, 'prediction/mean': 13145.009, 'global_step': 4000}\n",
            "INFO:tensorflow:Calling model_fn.\n",
            "INFO:tensorflow:Done calling model_fn.\n",
            "INFO:tensorflow:Create CheckpointSaverHook.\n",
            "INFO:tensorflow:Graph was finalized.\n",
            "INFO:tensorflow:Restoring parameters from /tmp/tmp53d0__oo/model.ckpt-4000\n",
            "INFO:tensorflow:Running local_init_op.\n",
            "INFO:tensorflow:Done running local_init_op.\n",
            "INFO:tensorflow:Calling checkpoint listeners before saving checkpoint 4000...\n",
            "INFO:tensorflow:Saving checkpoints for 4000 into /tmp/tmp53d0__oo/model.ckpt.\n",
            "INFO:tensorflow:Calling checkpoint listeners after saving checkpoint 4000...\n",
            "INFO:tensorflow:loss = 865581300.0, step = 4001\n",
            "INFO:tensorflow:global_step/sec: 370.025\n",
            "INFO:tensorflow:loss = 561215740.0, step = 4101 (0.274 sec)\n",
            "INFO:tensorflow:global_step/sec: 395.292\n",
            "INFO:tensorflow:loss = 600538000.0, step = 4201 (0.264 sec)\n",
            "INFO:tensorflow:global_step/sec: 373.665\n",
            "INFO:tensorflow:loss = 628343200.0, step = 4301 (0.259 sec)\n",
            "INFO:tensorflow:global_step/sec: 405.914\n",
            "INFO:tensorflow:loss = 511513280.0, step = 4401 (0.248 sec)\n",
            "INFO:tensorflow:global_step/sec: 381.713\n",
            "INFO:tensorflow:loss = 394284600.0, step = 4501 (0.257 sec)\n",
            "INFO:tensorflow:global_step/sec: 360.525\n",
            "INFO:tensorflow:loss = 639550660.0, step = 4601 (0.279 sec)\n",
            "INFO:tensorflow:global_step/sec: 390.122\n",
            "INFO:tensorflow:loss = 209822980.0, step = 4701 (0.262 sec)\n",
            "INFO:tensorflow:global_step/sec: 395.23\n",
            "INFO:tensorflow:loss = 779280640.0, step = 4801 (0.245 sec)\n",
            "INFO:tensorflow:global_step/sec: 384.454\n",
            "INFO:tensorflow:loss = 595022850.0, step = 4901 (0.263 sec)\n",
            "INFO:tensorflow:Calling checkpoint listeners before saving checkpoint 5000...\n",
            "INFO:tensorflow:Saving checkpoints for 5000 into /tmp/tmp53d0__oo/model.ckpt.\n",
            "INFO:tensorflow:Calling checkpoint listeners after saving checkpoint 5000...\n",
            "INFO:tensorflow:Loss for final step: 496883900.0.\n",
            "INFO:tensorflow:Calling model_fn.\n",
            "INFO:tensorflow:Done calling model_fn.\n",
            "INFO:tensorflow:Starting evaluation at 2020-05-21T02:15:32Z\n",
            "INFO:tensorflow:Graph was finalized.\n",
            "INFO:tensorflow:Restoring parameters from /tmp/tmp53d0__oo/model.ckpt-5000\n",
            "INFO:tensorflow:Running local_init_op.\n",
            "INFO:tensorflow:Done running local_init_op.\n",
            "INFO:tensorflow:Inference Time : 0.25165s\n",
            "INFO:tensorflow:Finished evaluation at 2020-05-21-02:15:32\n",
            "INFO:tensorflow:Saving dict for global step 5000: average_loss = 24949040.0, global_step = 5000, label/mean = 12949.43, loss = 393427170.0, prediction/mean = 13169.058\n",
            "INFO:tensorflow:Saving 'checkpoint_path' summary for global step 5000: /tmp/tmp53d0__oo/model.ckpt-5000\n",
            "scores {'average_loss': 24949040.0, 'label/mean': 12949.43, 'loss': 393427170.0, 'prediction/mean': 13169.058, 'global_step': 5000}\n",
            "INFO:tensorflow:Calling model_fn.\n",
            "INFO:tensorflow:Done calling model_fn.\n",
            "INFO:tensorflow:Create CheckpointSaverHook.\n",
            "INFO:tensorflow:Graph was finalized.\n",
            "INFO:tensorflow:Restoring parameters from /tmp/tmp53d0__oo/model.ckpt-5000\n",
            "INFO:tensorflow:Running local_init_op.\n",
            "INFO:tensorflow:Done running local_init_op.\n",
            "INFO:tensorflow:Calling checkpoint listeners before saving checkpoint 5000...\n",
            "INFO:tensorflow:Saving checkpoints for 5000 into /tmp/tmp53d0__oo/model.ckpt.\n",
            "INFO:tensorflow:Calling checkpoint listeners after saving checkpoint 5000...\n",
            "INFO:tensorflow:loss = 683443700.0, step = 5001\n",
            "INFO:tensorflow:global_step/sec: 352.46\n",
            "INFO:tensorflow:loss = 109655550.0, step = 5101 (0.287 sec)\n",
            "INFO:tensorflow:global_step/sec: 378.09\n",
            "INFO:tensorflow:loss = 373368060.0, step = 5201 (0.267 sec)\n",
            "INFO:tensorflow:global_step/sec: 386.18\n",
            "INFO:tensorflow:loss = 128022744.0, step = 5301 (0.255 sec)\n",
            "INFO:tensorflow:global_step/sec: 390.929\n",
            "INFO:tensorflow:loss = 883463500.0, step = 5401 (0.255 sec)\n",
            "INFO:tensorflow:global_step/sec: 400.095\n",
            "INFO:tensorflow:loss = 442179260.0, step = 5501 (0.260 sec)\n",
            "INFO:tensorflow:global_step/sec: 391.02\n",
            "INFO:tensorflow:loss = 78134380.0, step = 5601 (0.248 sec)\n",
            "INFO:tensorflow:global_step/sec: 397.667\n",
            "INFO:tensorflow:loss = 517820800.0, step = 5701 (0.258 sec)\n",
            "INFO:tensorflow:global_step/sec: 389.353\n",
            "INFO:tensorflow:loss = 176500880.0, step = 5801 (0.253 sec)\n",
            "INFO:tensorflow:global_step/sec: 386.318\n",
            "INFO:tensorflow:loss = 437184420.0, step = 5901 (0.256 sec)\n",
            "INFO:tensorflow:Calling checkpoint listeners before saving checkpoint 6000...\n",
            "INFO:tensorflow:Saving checkpoints for 6000 into /tmp/tmp53d0__oo/model.ckpt.\n",
            "INFO:tensorflow:Calling checkpoint listeners after saving checkpoint 6000...\n",
            "INFO:tensorflow:Loss for final step: 115175120.0.\n",
            "INFO:tensorflow:Calling model_fn.\n",
            "INFO:tensorflow:Done calling model_fn.\n",
            "INFO:tensorflow:Starting evaluation at 2020-05-21T02:15:36Z\n",
            "INFO:tensorflow:Graph was finalized.\n",
            "INFO:tensorflow:Restoring parameters from /tmp/tmp53d0__oo/model.ckpt-6000\n",
            "INFO:tensorflow:Running local_init_op.\n",
            "INFO:tensorflow:Done running local_init_op.\n",
            "INFO:tensorflow:Inference Time : 0.25217s\n",
            "INFO:tensorflow:Finished evaluation at 2020-05-21-02:15:36\n",
            "INFO:tensorflow:Saving dict for global step 6000: average_loss = 24361604.0, global_step = 6000, label/mean = 12949.43, loss = 384163780.0, prediction/mean = 13156.499\n",
            "INFO:tensorflow:Saving 'checkpoint_path' summary for global step 6000: /tmp/tmp53d0__oo/model.ckpt-6000\n",
            "scores {'average_loss': 24361604.0, 'label/mean': 12949.43, 'loss': 384163780.0, 'prediction/mean': 13156.499, 'global_step': 6000}\n",
            "INFO:tensorflow:Calling model_fn.\n",
            "INFO:tensorflow:Done calling model_fn.\n",
            "INFO:tensorflow:Create CheckpointSaverHook.\n",
            "INFO:tensorflow:Graph was finalized.\n",
            "INFO:tensorflow:Restoring parameters from /tmp/tmp53d0__oo/model.ckpt-6000\n",
            "INFO:tensorflow:Running local_init_op.\n",
            "INFO:tensorflow:Done running local_init_op.\n",
            "INFO:tensorflow:Calling checkpoint listeners before saving checkpoint 6000...\n",
            "INFO:tensorflow:Saving checkpoints for 6000 into /tmp/tmp53d0__oo/model.ckpt.\n",
            "INFO:tensorflow:Calling checkpoint listeners after saving checkpoint 6000...\n",
            "INFO:tensorflow:loss = 118190190.0, step = 6001\n",
            "INFO:tensorflow:global_step/sec: 362.053\n",
            "INFO:tensorflow:loss = 177447400.0, step = 6101 (0.281 sec)\n",
            "INFO:tensorflow:global_step/sec: 385.146\n",
            "INFO:tensorflow:loss = 547511400.0, step = 6201 (0.257 sec)\n",
            "INFO:tensorflow:global_step/sec: 388.228\n",
            "INFO:tensorflow:loss = 823702140.0, step = 6301 (0.257 sec)\n",
            "INFO:tensorflow:global_step/sec: 395.962\n",
            "INFO:tensorflow:loss = 537937300.0, step = 6401 (0.252 sec)\n",
            "INFO:tensorflow:global_step/sec: 375.98\n",
            "INFO:tensorflow:loss = 123233970.0, step = 6501 (0.267 sec)\n",
            "INFO:tensorflow:global_step/sec: 395.468\n",
            "INFO:tensorflow:loss = 650115600.0, step = 6601 (0.256 sec)\n",
            "INFO:tensorflow:global_step/sec: 373.128\n",
            "INFO:tensorflow:loss = 235281490.0, step = 6701 (0.272 sec)\n",
            "INFO:tensorflow:global_step/sec: 389.642\n",
            "INFO:tensorflow:loss = 731330940.0, step = 6801 (0.255 sec)\n",
            "INFO:tensorflow:global_step/sec: 387.611\n",
            "INFO:tensorflow:loss = 453933700.0, step = 6901 (0.256 sec)\n",
            "INFO:tensorflow:Calling checkpoint listeners before saving checkpoint 7000...\n",
            "INFO:tensorflow:Saving checkpoints for 7000 into /tmp/tmp53d0__oo/model.ckpt.\n",
            "INFO:tensorflow:Calling checkpoint listeners after saving checkpoint 7000...\n",
            "INFO:tensorflow:Loss for final step: 493077120.0.\n",
            "INFO:tensorflow:Calling model_fn.\n",
            "INFO:tensorflow:Done calling model_fn.\n",
            "INFO:tensorflow:Starting evaluation at 2020-05-21T02:15:40Z\n",
            "INFO:tensorflow:Graph was finalized.\n",
            "INFO:tensorflow:Restoring parameters from /tmp/tmp53d0__oo/model.ckpt-7000\n",
            "INFO:tensorflow:Running local_init_op.\n",
            "INFO:tensorflow:Done running local_init_op.\n",
            "INFO:tensorflow:Inference Time : 0.24863s\n",
            "INFO:tensorflow:Finished evaluation at 2020-05-21-02:15:40\n",
            "INFO:tensorflow:Saving dict for global step 7000: average_loss = 23963698.0, global_step = 7000, label/mean = 12949.43, loss = 377889100.0, prediction/mean = 13069.887\n",
            "INFO:tensorflow:Saving 'checkpoint_path' summary for global step 7000: /tmp/tmp53d0__oo/model.ckpt-7000\n",
            "scores {'average_loss': 23963698.0, 'label/mean': 12949.43, 'loss': 377889100.0, 'prediction/mean': 13069.887, 'global_step': 7000}\n",
            "INFO:tensorflow:Calling model_fn.\n",
            "INFO:tensorflow:Done calling model_fn.\n",
            "INFO:tensorflow:Create CheckpointSaverHook.\n",
            "INFO:tensorflow:Graph was finalized.\n",
            "INFO:tensorflow:Restoring parameters from /tmp/tmp53d0__oo/model.ckpt-7000\n",
            "INFO:tensorflow:Running local_init_op.\n",
            "INFO:tensorflow:Done running local_init_op.\n",
            "INFO:tensorflow:Calling checkpoint listeners before saving checkpoint 7000...\n",
            "INFO:tensorflow:Saving checkpoints for 7000 into /tmp/tmp53d0__oo/model.ckpt.\n",
            "INFO:tensorflow:Calling checkpoint listeners after saving checkpoint 7000...\n",
            "INFO:tensorflow:loss = 662313500.0, step = 7001\n",
            "INFO:tensorflow:global_step/sec: 368.894\n",
            "INFO:tensorflow:loss = 144936740.0, step = 7101 (0.275 sec)\n",
            "INFO:tensorflow:global_step/sec: 379.883\n",
            "INFO:tensorflow:loss = 114185410.0, step = 7201 (0.266 sec)\n",
            "INFO:tensorflow:global_step/sec: 374.02\n",
            "INFO:tensorflow:loss = 159559070.0, step = 7301 (0.263 sec)\n",
            "INFO:tensorflow:global_step/sec: 397.515\n",
            "INFO:tensorflow:loss = 111632540.0, step = 7401 (0.259 sec)\n",
            "INFO:tensorflow:global_step/sec: 388.588\n",
            "INFO:tensorflow:loss = 461990530.0, step = 7501 (0.251 sec)\n",
            "INFO:tensorflow:global_step/sec: 392.789\n",
            "INFO:tensorflow:loss = 375273730.0, step = 7601 (0.263 sec)\n",
            "INFO:tensorflow:global_step/sec: 389.38\n",
            "INFO:tensorflow:loss = 701379300.0, step = 7701 (0.254 sec)\n",
            "INFO:tensorflow:global_step/sec: 376.044\n",
            "INFO:tensorflow:loss = 177333710.0, step = 7801 (0.267 sec)\n",
            "INFO:tensorflow:global_step/sec: 374.352\n",
            "INFO:tensorflow:loss = 132689040.0, step = 7901 (0.262 sec)\n",
            "INFO:tensorflow:Calling checkpoint listeners before saving checkpoint 8000...\n",
            "INFO:tensorflow:Saving checkpoints for 8000 into /tmp/tmp53d0__oo/model.ckpt.\n",
            "INFO:tensorflow:Calling checkpoint listeners after saving checkpoint 8000...\n",
            "INFO:tensorflow:Loss for final step: 118623200.0.\n",
            "INFO:tensorflow:Calling model_fn.\n",
            "INFO:tensorflow:Done calling model_fn.\n",
            "INFO:tensorflow:Starting evaluation at 2020-05-21T02:15:44Z\n",
            "INFO:tensorflow:Graph was finalized.\n",
            "INFO:tensorflow:Restoring parameters from /tmp/tmp53d0__oo/model.ckpt-8000\n",
            "INFO:tensorflow:Running local_init_op.\n",
            "INFO:tensorflow:Done running local_init_op.\n",
            "INFO:tensorflow:Inference Time : 0.24289s\n",
            "INFO:tensorflow:Finished evaluation at 2020-05-21-02:15:44\n",
            "INFO:tensorflow:Saving dict for global step 8000: average_loss = 23674800.0, global_step = 8000, label/mean = 12949.43, loss = 373333380.0, prediction/mean = 13184.694\n",
            "INFO:tensorflow:Saving 'checkpoint_path' summary for global step 8000: /tmp/tmp53d0__oo/model.ckpt-8000\n",
            "scores {'average_loss': 23674800.0, 'label/mean': 12949.43, 'loss': 373333380.0, 'prediction/mean': 13184.694, 'global_step': 8000}\n",
            "INFO:tensorflow:Calling model_fn.\n",
            "INFO:tensorflow:Done calling model_fn.\n",
            "INFO:tensorflow:Create CheckpointSaverHook.\n",
            "INFO:tensorflow:Graph was finalized.\n",
            "INFO:tensorflow:Restoring parameters from /tmp/tmp53d0__oo/model.ckpt-8000\n",
            "INFO:tensorflow:Running local_init_op.\n",
            "INFO:tensorflow:Done running local_init_op.\n",
            "INFO:tensorflow:Calling checkpoint listeners before saving checkpoint 8000...\n",
            "INFO:tensorflow:Saving checkpoints for 8000 into /tmp/tmp53d0__oo/model.ckpt.\n",
            "INFO:tensorflow:Calling checkpoint listeners after saving checkpoint 8000...\n",
            "INFO:tensorflow:loss = 141510850.0, step = 8001\n",
            "INFO:tensorflow:global_step/sec: 347.97\n",
            "INFO:tensorflow:loss = 256540220.0, step = 8101 (0.291 sec)\n",
            "INFO:tensorflow:global_step/sec: 380.892\n",
            "INFO:tensorflow:loss = 729073200.0, step = 8201 (0.261 sec)\n",
            "INFO:tensorflow:global_step/sec: 391.092\n",
            "INFO:tensorflow:loss = 527493860.0, step = 8301 (0.260 sec)\n",
            "INFO:tensorflow:global_step/sec: 389.634\n",
            "INFO:tensorflow:loss = 652400640.0, step = 8401 (0.256 sec)\n",
            "INFO:tensorflow:global_step/sec: 399.193\n",
            "INFO:tensorflow:loss = 122255660.0, step = 8501 (0.252 sec)\n",
            "INFO:tensorflow:global_step/sec: 381.059\n",
            "INFO:tensorflow:loss = 219579300.0, step = 8601 (0.264 sec)\n",
            "INFO:tensorflow:global_step/sec: 396.194\n",
            "INFO:tensorflow:loss = 93763670.0, step = 8701 (0.246 sec)\n",
            "INFO:tensorflow:global_step/sec: 400.253\n",
            "INFO:tensorflow:loss = 791955800.0, step = 8801 (0.252 sec)\n",
            "INFO:tensorflow:global_step/sec: 395.829\n",
            "INFO:tensorflow:loss = 194918690.0, step = 8901 (0.251 sec)\n",
            "INFO:tensorflow:Calling checkpoint listeners before saving checkpoint 9000...\n",
            "INFO:tensorflow:Saving checkpoints for 9000 into /tmp/tmp53d0__oo/model.ckpt.\n",
            "INFO:tensorflow:Calling checkpoint listeners after saving checkpoint 9000...\n",
            "INFO:tensorflow:Loss for final step: 309426600.0.\n",
            "INFO:tensorflow:Calling model_fn.\n",
            "INFO:tensorflow:Done calling model_fn.\n",
            "INFO:tensorflow:Starting evaluation at 2020-05-21T02:15:48Z\n",
            "INFO:tensorflow:Graph was finalized.\n",
            "INFO:tensorflow:Restoring parameters from /tmp/tmp53d0__oo/model.ckpt-9000\n",
            "INFO:tensorflow:Running local_init_op.\n",
            "INFO:tensorflow:Done running local_init_op.\n",
            "INFO:tensorflow:Inference Time : 0.24110s\n",
            "INFO:tensorflow:Finished evaluation at 2020-05-21-02:15:48\n",
            "INFO:tensorflow:Saving dict for global step 9000: average_loss = 23394850.0, global_step = 9000, label/mean = 12949.43, loss = 368918820.0, prediction/mean = 13049.132\n",
            "INFO:tensorflow:Saving 'checkpoint_path' summary for global step 9000: /tmp/tmp53d0__oo/model.ckpt-9000\n",
            "scores {'average_loss': 23394850.0, 'label/mean': 12949.43, 'loss': 368918820.0, 'prediction/mean': 13049.132, 'global_step': 9000}\n",
            "INFO:tensorflow:Calling model_fn.\n",
            "INFO:tensorflow:Done calling model_fn.\n",
            "INFO:tensorflow:Create CheckpointSaverHook.\n",
            "INFO:tensorflow:Graph was finalized.\n",
            "INFO:tensorflow:Restoring parameters from /tmp/tmp53d0__oo/model.ckpt-9000\n",
            "INFO:tensorflow:Running local_init_op.\n",
            "INFO:tensorflow:Done running local_init_op.\n",
            "INFO:tensorflow:Calling checkpoint listeners before saving checkpoint 9000...\n",
            "INFO:tensorflow:Saving checkpoints for 9000 into /tmp/tmp53d0__oo/model.ckpt.\n",
            "INFO:tensorflow:Calling checkpoint listeners after saving checkpoint 9000...\n",
            "INFO:tensorflow:loss = 741069060.0, step = 9001\n",
            "INFO:tensorflow:global_step/sec: 376.516\n",
            "INFO:tensorflow:loss = 190912770.0, step = 9101 (0.270 sec)\n",
            "INFO:tensorflow:global_step/sec: 388.558\n",
            "INFO:tensorflow:loss = 140117710.0, step = 9201 (0.266 sec)\n",
            "INFO:tensorflow:global_step/sec: 395.085\n",
            "INFO:tensorflow:loss = 73923730.0, step = 9301 (0.245 sec)\n",
            "INFO:tensorflow:global_step/sec: 371.053\n",
            "INFO:tensorflow:loss = 116936900.0, step = 9401 (0.267 sec)\n",
            "INFO:tensorflow:global_step/sec: 392.076\n",
            "INFO:tensorflow:loss = 281371680.0, step = 9501 (0.253 sec)\n",
            "INFO:tensorflow:global_step/sec: 382.585\n",
            "INFO:tensorflow:loss = 442934180.0, step = 9601 (0.266 sec)\n",
            "INFO:tensorflow:global_step/sec: 384.576\n",
            "INFO:tensorflow:loss = 400142600.0, step = 9701 (0.266 sec)\n",
            "INFO:tensorflow:global_step/sec: 360.733\n",
            "INFO:tensorflow:loss = 132013550.0, step = 9801 (0.276 sec)\n",
            "INFO:tensorflow:global_step/sec: 381.246\n",
            "INFO:tensorflow:loss = 317016640.0, step = 9901 (0.257 sec)\n",
            "INFO:tensorflow:Calling checkpoint listeners before saving checkpoint 10000...\n",
            "INFO:tensorflow:Saving checkpoints for 10000 into /tmp/tmp53d0__oo/model.ckpt.\n",
            "INFO:tensorflow:Calling checkpoint listeners after saving checkpoint 10000...\n",
            "INFO:tensorflow:Loss for final step: 238539760.0.\n",
            "INFO:tensorflow:Calling model_fn.\n",
            "INFO:tensorflow:Done calling model_fn.\n",
            "INFO:tensorflow:Starting evaluation at 2020-05-21T02:15:52Z\n",
            "INFO:tensorflow:Graph was finalized.\n",
            "INFO:tensorflow:Restoring parameters from /tmp/tmp53d0__oo/model.ckpt-10000\n",
            "INFO:tensorflow:Running local_init_op.\n",
            "INFO:tensorflow:Done running local_init_op.\n",
            "INFO:tensorflow:Inference Time : 0.24509s\n",
            "INFO:tensorflow:Finished evaluation at 2020-05-21-02:15:52\n",
            "INFO:tensorflow:Saving dict for global step 10000: average_loss = 23154260.0, global_step = 10000, label/mean = 12949.43, loss = 365124900.0, prediction/mean = 13117.415\n",
            "INFO:tensorflow:Saving 'checkpoint_path' summary for global step 10000: /tmp/tmp53d0__oo/model.ckpt-10000\n",
            "scores {'average_loss': 23154260.0, 'label/mean': 12949.43, 'loss': 365124900.0, 'prediction/mean': 13117.415, 'global_step': 10000}\n"
          ],
          "name": "stdout"
        }
      ]
    },
    {
      "cell_type": "code",
      "metadata": {
        "cellView": "code",
        "colab_type": "code",
        "id": "3ptcfj_9Xi9M",
        "colab": {
          "base_uri": "https://localhost:8080/",
          "height": 1000
        },
        "outputId": "fff9bacc-1e5c-4519-8135-00041a99645b"
      },
      "source": [
        "#@title Possible solution\n",
        "# Here is one possible solution:\n",
        "# The only necessary change to fix the NaN training loss was the choice of optimizer.\n",
        "\n",
        "# Changing other parameters could improve model quality, but take it with a\n",
        "# grain of salt. The dataset is very small.\n",
        "\n",
        "batch_size = 16\n",
        "\n",
        "print(numeric_feature_names)\n",
        "x_df = car_data[numeric_feature_names]\n",
        "y_series = car_data['price']\n",
        "\n",
        "train_input_fn = tf.estimator.inputs.pandas_input_fn(\n",
        "    x=x_df,\n",
        "    y=y_series,\n",
        "    batch_size=batch_size,\n",
        "    num_epochs=None,\n",
        "    shuffle=True)\n",
        "\n",
        "eval_input_fn = tf.estimator.inputs.pandas_input_fn(\n",
        "    x=x_df,\n",
        "    y=y_series,\n",
        "    batch_size=batch_size,\n",
        "    shuffle=False)\n",
        "\n",
        "predict_input_fn = tf.estimator.inputs.pandas_input_fn(\n",
        "    x=x_df,\n",
        "    batch_size=batch_size,\n",
        "    shuffle=False)\n",
        "\n",
        "# Feature columns allow the model to parse the data, perform common\n",
        "# preprocessing, and automatically generate an input layer for the tf.Estimator.\n",
        "model_feature_columns = [\n",
        "    tf.feature_column.numeric_column(feature_name) for feature_name in numeric_feature_names\n",
        "]\n",
        "print('model_feature_columns', model_feature_columns)\n",
        "\n",
        "est = tf.estimator.DNNRegressor(\n",
        "    feature_columns=model_feature_columns,\n",
        "    hidden_units=[64],\n",
        "    optimizer=tf.train.AdagradOptimizer(learning_rate=0.01),\n",
        "  )\n",
        "\n",
        "# TRAIN\n",
        "num_print_statements = 10\n",
        "num_training_steps = 10000\n",
        "for _ in range(num_print_statements):\n",
        "  est.train(train_input_fn, steps=num_training_steps // num_print_statements)\n",
        "  scores = est.evaluate(eval_input_fn)\n",
        "  \n",
        "  # The `scores` dictionary has several metrics automatically generated by the \n",
        "  # canned Estimator.\n",
        "  # `average_loss` is the average loss for an individual example.\n",
        "  # `loss` is the summed loss for the batch.\n",
        "  # In addition to these scalar losses, you may find the visualization functions\n",
        "  # in the next cell helpful for debugging model quality.\n",
        "  print('scores', scores)\n",
        "\n"
      ],
      "execution_count": 50,
      "outputs": [
        {
          "output_type": "stream",
          "text": [
            "['symboling', 'normalized-losses', 'wheel-base', 'length', 'width', 'height', 'weight', 'engine-size', 'horsepower', 'peak-rpm', 'city-mpg', 'highway-mpg', 'bore', 'stroke', 'compression-ratio']\n",
            "model_feature_columns [NumericColumn(key='symboling', shape=(1,), default_value=None, dtype=tf.float32, normalizer_fn=None), NumericColumn(key='normalized-losses', shape=(1,), default_value=None, dtype=tf.float32, normalizer_fn=None), NumericColumn(key='wheel-base', shape=(1,), default_value=None, dtype=tf.float32, normalizer_fn=None), NumericColumn(key='length', shape=(1,), default_value=None, dtype=tf.float32, normalizer_fn=None), NumericColumn(key='width', shape=(1,), default_value=None, dtype=tf.float32, normalizer_fn=None), NumericColumn(key='height', shape=(1,), default_value=None, dtype=tf.float32, normalizer_fn=None), NumericColumn(key='weight', shape=(1,), default_value=None, dtype=tf.float32, normalizer_fn=None), NumericColumn(key='engine-size', shape=(1,), default_value=None, dtype=tf.float32, normalizer_fn=None), NumericColumn(key='horsepower', shape=(1,), default_value=None, dtype=tf.float32, normalizer_fn=None), NumericColumn(key='peak-rpm', shape=(1,), default_value=None, dtype=tf.float32, normalizer_fn=None), NumericColumn(key='city-mpg', shape=(1,), default_value=None, dtype=tf.float32, normalizer_fn=None), NumericColumn(key='highway-mpg', shape=(1,), default_value=None, dtype=tf.float32, normalizer_fn=None), NumericColumn(key='bore', shape=(1,), default_value=None, dtype=tf.float32, normalizer_fn=None), NumericColumn(key='stroke', shape=(1,), default_value=None, dtype=tf.float32, normalizer_fn=None), NumericColumn(key='compression-ratio', shape=(1,), default_value=None, dtype=tf.float32, normalizer_fn=None)]\n",
            "INFO:tensorflow:Using default config.\n",
            "WARNING:tensorflow:Using temporary folder as model directory: /tmp/tmpa8arrbdq\n",
            "INFO:tensorflow:Using config: {'_model_dir': '/tmp/tmpa8arrbdq', '_tf_random_seed': None, '_save_summary_steps': 100, '_save_checkpoints_steps': None, '_save_checkpoints_secs': 600, '_session_config': allow_soft_placement: true\n",
            "graph_options {\n",
            "  rewrite_options {\n",
            "    meta_optimizer_iterations: ONE\n",
            "  }\n",
            "}\n",
            ", '_keep_checkpoint_max': 5, '_keep_checkpoint_every_n_hours': 10000, '_log_step_count_steps': 100, '_train_distribute': None, '_device_fn': None, '_protocol': None, '_eval_distribute': None, '_experimental_distribute': None, '_experimental_max_worker_delay_secs': None, '_session_creation_timeout_secs': 7200, '_service': None, '_cluster_spec': ClusterSpec({}), '_task_type': 'worker', '_task_id': 0, '_global_id_in_cluster': 0, '_master': '', '_evaluation_master': '', '_is_chief': True, '_num_ps_replicas': 0, '_num_worker_replicas': 1}\n",
            "INFO:tensorflow:Calling model_fn.\n",
            "INFO:tensorflow:Done calling model_fn.\n",
            "INFO:tensorflow:Create CheckpointSaverHook.\n",
            "INFO:tensorflow:Graph was finalized.\n",
            "INFO:tensorflow:Running local_init_op.\n",
            "INFO:tensorflow:Done running local_init_op.\n",
            "INFO:tensorflow:Calling checkpoint listeners before saving checkpoint 0...\n",
            "INFO:tensorflow:Saving checkpoints for 0 into /tmp/tmpa8arrbdq/model.ckpt.\n",
            "INFO:tensorflow:Calling checkpoint listeners after saving checkpoint 0...\n",
            "INFO:tensorflow:loss = 3721925600.0, step = 1\n",
            "INFO:tensorflow:global_step/sec: 364.728\n",
            "INFO:tensorflow:loss = 850355400.0, step = 101 (0.281 sec)\n",
            "INFO:tensorflow:global_step/sec: 391.789\n",
            "INFO:tensorflow:loss = 852765600.0, step = 201 (0.253 sec)\n",
            "INFO:tensorflow:global_step/sec: 385.472\n",
            "INFO:tensorflow:loss = 698936800.0, step = 301 (0.266 sec)\n",
            "INFO:tensorflow:global_step/sec: 385.499\n",
            "INFO:tensorflow:loss = 775533200.0, step = 401 (0.268 sec)\n",
            "INFO:tensorflow:global_step/sec: 383.448\n",
            "INFO:tensorflow:loss = 359625660.0, step = 501 (0.252 sec)\n",
            "INFO:tensorflow:global_step/sec: 393.511\n",
            "INFO:tensorflow:loss = 1372215000.0, step = 601 (0.257 sec)\n",
            "INFO:tensorflow:global_step/sec: 395.542\n",
            "INFO:tensorflow:loss = 420445100.0, step = 701 (0.249 sec)\n",
            "INFO:tensorflow:global_step/sec: 386.681\n",
            "INFO:tensorflow:loss = 879479230.0, step = 801 (0.251 sec)\n",
            "INFO:tensorflow:global_step/sec: 386.365\n",
            "INFO:tensorflow:loss = 842764300.0, step = 901 (0.266 sec)\n",
            "INFO:tensorflow:Calling checkpoint listeners before saving checkpoint 1000...\n",
            "INFO:tensorflow:Saving checkpoints for 1000 into /tmp/tmpa8arrbdq/model.ckpt.\n",
            "INFO:tensorflow:Calling checkpoint listeners after saving checkpoint 1000...\n",
            "INFO:tensorflow:Loss for final step: 1374974300.0.\n",
            "INFO:tensorflow:Calling model_fn.\n",
            "INFO:tensorflow:Done calling model_fn.\n",
            "INFO:tensorflow:Starting evaluation at 2020-05-21T02:16:26Z\n",
            "INFO:tensorflow:Graph was finalized.\n",
            "INFO:tensorflow:Restoring parameters from /tmp/tmpa8arrbdq/model.ckpt-1000\n",
            "INFO:tensorflow:Running local_init_op.\n",
            "INFO:tensorflow:Done running local_init_op.\n",
            "INFO:tensorflow:Inference Time : 0.25316s\n",
            "INFO:tensorflow:Finished evaluation at 2020-05-21-02:16:26\n",
            "INFO:tensorflow:Saving dict for global step 1000: average_loss = 37659644.0, global_step = 1000, label/mean = 12949.43, loss = 593863600.0, prediction/mean = 13221.206\n",
            "INFO:tensorflow:Saving 'checkpoint_path' summary for global step 1000: /tmp/tmpa8arrbdq/model.ckpt-1000\n",
            "scores {'average_loss': 37659644.0, 'label/mean': 12949.43, 'loss': 593863600.0, 'prediction/mean': 13221.206, 'global_step': 1000}\n",
            "INFO:tensorflow:Calling model_fn.\n",
            "INFO:tensorflow:Done calling model_fn.\n",
            "INFO:tensorflow:Create CheckpointSaverHook.\n",
            "INFO:tensorflow:Graph was finalized.\n",
            "INFO:tensorflow:Restoring parameters from /tmp/tmpa8arrbdq/model.ckpt-1000\n",
            "INFO:tensorflow:Running local_init_op.\n",
            "INFO:tensorflow:Done running local_init_op.\n",
            "INFO:tensorflow:Calling checkpoint listeners before saving checkpoint 1000...\n",
            "INFO:tensorflow:Saving checkpoints for 1000 into /tmp/tmpa8arrbdq/model.ckpt.\n",
            "INFO:tensorflow:Calling checkpoint listeners after saving checkpoint 1000...\n",
            "INFO:tensorflow:loss = 606635000.0, step = 1001\n",
            "INFO:tensorflow:global_step/sec: 372.613\n",
            "INFO:tensorflow:loss = 705290800.0, step = 1101 (0.277 sec)\n",
            "INFO:tensorflow:global_step/sec: 395.88\n",
            "INFO:tensorflow:loss = 873800060.0, step = 1201 (0.250 sec)\n",
            "INFO:tensorflow:global_step/sec: 394.316\n",
            "INFO:tensorflow:loss = 356336640.0, step = 1301 (0.252 sec)\n",
            "INFO:tensorflow:global_step/sec: 385.346\n",
            "INFO:tensorflow:loss = 603891460.0, step = 1401 (0.262 sec)\n",
            "INFO:tensorflow:global_step/sec: 384.667\n",
            "INFO:tensorflow:loss = 119854300.0, step = 1501 (0.258 sec)\n",
            "INFO:tensorflow:global_step/sec: 398.661\n",
            "INFO:tensorflow:loss = 663032640.0, step = 1601 (0.254 sec)\n",
            "INFO:tensorflow:global_step/sec: 392.039\n",
            "INFO:tensorflow:loss = 277305920.0, step = 1701 (0.261 sec)\n",
            "INFO:tensorflow:global_step/sec: 391.877\n",
            "INFO:tensorflow:loss = 711068400.0, step = 1801 (0.246 sec)\n",
            "INFO:tensorflow:global_step/sec: 388.501\n",
            "INFO:tensorflow:loss = 324393020.0, step = 1901 (0.262 sec)\n",
            "INFO:tensorflow:Calling checkpoint listeners before saving checkpoint 2000...\n",
            "INFO:tensorflow:Saving checkpoints for 2000 into /tmp/tmpa8arrbdq/model.ckpt.\n",
            "INFO:tensorflow:Calling checkpoint listeners after saving checkpoint 2000...\n",
            "INFO:tensorflow:Loss for final step: 398324000.0.\n",
            "INFO:tensorflow:Calling model_fn.\n",
            "INFO:tensorflow:Done calling model_fn.\n",
            "INFO:tensorflow:Starting evaluation at 2020-05-21T02:16:30Z\n",
            "INFO:tensorflow:Graph was finalized.\n",
            "INFO:tensorflow:Restoring parameters from /tmp/tmpa8arrbdq/model.ckpt-2000\n",
            "INFO:tensorflow:Running local_init_op.\n",
            "INFO:tensorflow:Done running local_init_op.\n",
            "INFO:tensorflow:Inference Time : 0.26232s\n",
            "INFO:tensorflow:Finished evaluation at 2020-05-21-02:16:30\n",
            "INFO:tensorflow:Saving dict for global step 2000: average_loss = 29542366.0, global_step = 2000, label/mean = 12949.43, loss = 465860380.0, prediction/mean = 13015.342\n",
            "INFO:tensorflow:Saving 'checkpoint_path' summary for global step 2000: /tmp/tmpa8arrbdq/model.ckpt-2000\n",
            "scores {'average_loss': 29542366.0, 'label/mean': 12949.43, 'loss': 465860380.0, 'prediction/mean': 13015.342, 'global_step': 2000}\n",
            "INFO:tensorflow:Calling model_fn.\n",
            "INFO:tensorflow:Done calling model_fn.\n",
            "INFO:tensorflow:Create CheckpointSaverHook.\n",
            "INFO:tensorflow:Graph was finalized.\n",
            "INFO:tensorflow:Restoring parameters from /tmp/tmpa8arrbdq/model.ckpt-2000\n",
            "INFO:tensorflow:Running local_init_op.\n",
            "INFO:tensorflow:Done running local_init_op.\n",
            "INFO:tensorflow:Calling checkpoint listeners before saving checkpoint 2000...\n",
            "INFO:tensorflow:Saving checkpoints for 2000 into /tmp/tmpa8arrbdq/model.ckpt.\n",
            "INFO:tensorflow:Calling checkpoint listeners after saving checkpoint 2000...\n",
            "INFO:tensorflow:loss = 684804200.0, step = 2001\n",
            "INFO:tensorflow:global_step/sec: 378.535\n",
            "INFO:tensorflow:loss = 358756670.0, step = 2101 (0.267 sec)\n",
            "INFO:tensorflow:global_step/sec: 403.364\n",
            "INFO:tensorflow:loss = 54183320.0, step = 2201 (0.254 sec)\n",
            "INFO:tensorflow:global_step/sec: 389.45\n",
            "INFO:tensorflow:loss = 163405950.0, step = 2301 (0.258 sec)\n",
            "INFO:tensorflow:global_step/sec: 378.379\n",
            "INFO:tensorflow:loss = 740843900.0, step = 2401 (0.263 sec)\n",
            "INFO:tensorflow:global_step/sec: 352.462\n",
            "INFO:tensorflow:loss = 630894460.0, step = 2501 (0.278 sec)\n",
            "INFO:tensorflow:global_step/sec: 402.064\n",
            "INFO:tensorflow:loss = 375724540.0, step = 2601 (0.255 sec)\n",
            "INFO:tensorflow:global_step/sec: 394.092\n",
            "INFO:tensorflow:loss = 621429300.0, step = 2701 (0.253 sec)\n",
            "INFO:tensorflow:global_step/sec: 383.25\n",
            "INFO:tensorflow:loss = 598859900.0, step = 2801 (0.253 sec)\n",
            "INFO:tensorflow:global_step/sec: 388.946\n",
            "INFO:tensorflow:loss = 603719300.0, step = 2901 (0.264 sec)\n",
            "INFO:tensorflow:Calling checkpoint listeners before saving checkpoint 3000...\n",
            "INFO:tensorflow:Saving checkpoints for 3000 into /tmp/tmpa8arrbdq/model.ckpt.\n",
            "INFO:tensorflow:Calling checkpoint listeners after saving checkpoint 3000...\n",
            "INFO:tensorflow:Loss for final step: 168708450.0.\n",
            "INFO:tensorflow:Calling model_fn.\n",
            "INFO:tensorflow:Done calling model_fn.\n",
            "INFO:tensorflow:Starting evaluation at 2020-05-21T02:16:34Z\n",
            "INFO:tensorflow:Graph was finalized.\n",
            "INFO:tensorflow:Restoring parameters from /tmp/tmpa8arrbdq/model.ckpt-3000\n",
            "INFO:tensorflow:Running local_init_op.\n",
            "INFO:tensorflow:Done running local_init_op.\n",
            "INFO:tensorflow:Inference Time : 0.23625s\n",
            "INFO:tensorflow:Finished evaluation at 2020-05-21-02:16:34\n",
            "INFO:tensorflow:Saving dict for global step 3000: average_loss = 26431520.0, global_step = 3000, label/mean = 12949.43, loss = 416804740.0, prediction/mean = 13061.853\n",
            "INFO:tensorflow:Saving 'checkpoint_path' summary for global step 3000: /tmp/tmpa8arrbdq/model.ckpt-3000\n",
            "scores {'average_loss': 26431520.0, 'label/mean': 12949.43, 'loss': 416804740.0, 'prediction/mean': 13061.853, 'global_step': 3000}\n",
            "INFO:tensorflow:Calling model_fn.\n",
            "INFO:tensorflow:Done calling model_fn.\n",
            "INFO:tensorflow:Create CheckpointSaverHook.\n",
            "INFO:tensorflow:Graph was finalized.\n",
            "INFO:tensorflow:Restoring parameters from /tmp/tmpa8arrbdq/model.ckpt-3000\n",
            "INFO:tensorflow:Running local_init_op.\n",
            "INFO:tensorflow:Done running local_init_op.\n",
            "INFO:tensorflow:Calling checkpoint listeners before saving checkpoint 3000...\n",
            "INFO:tensorflow:Saving checkpoints for 3000 into /tmp/tmpa8arrbdq/model.ckpt.\n",
            "INFO:tensorflow:Calling checkpoint listeners after saving checkpoint 3000...\n",
            "INFO:tensorflow:loss = 156734200.0, step = 3001\n",
            "INFO:tensorflow:global_step/sec: 366.542\n",
            "INFO:tensorflow:loss = 525154370.0, step = 3101 (0.276 sec)\n",
            "INFO:tensorflow:global_step/sec: 385.649\n",
            "INFO:tensorflow:loss = 161663890.0, step = 3201 (0.264 sec)\n",
            "INFO:tensorflow:global_step/sec: 402.838\n",
            "INFO:tensorflow:loss = 127484100.0, step = 3301 (0.250 sec)\n",
            "INFO:tensorflow:global_step/sec: 363.974\n",
            "INFO:tensorflow:loss = 209769570.0, step = 3401 (0.270 sec)\n",
            "INFO:tensorflow:global_step/sec: 379.763\n",
            "INFO:tensorflow:loss = 299838460.0, step = 3501 (0.264 sec)\n",
            "INFO:tensorflow:global_step/sec: 408.107\n",
            "INFO:tensorflow:loss = 470724860.0, step = 3601 (0.244 sec)\n",
            "INFO:tensorflow:global_step/sec: 396.055\n",
            "INFO:tensorflow:loss = 887843140.0, step = 3701 (0.258 sec)\n",
            "INFO:tensorflow:global_step/sec: 368.995\n",
            "INFO:tensorflow:loss = 136013440.0, step = 3801 (0.264 sec)\n",
            "INFO:tensorflow:global_step/sec: 386.824\n",
            "INFO:tensorflow:loss = 604476900.0, step = 3901 (0.259 sec)\n",
            "INFO:tensorflow:Calling checkpoint listeners before saving checkpoint 4000...\n",
            "INFO:tensorflow:Saving checkpoints for 4000 into /tmp/tmpa8arrbdq/model.ckpt.\n",
            "INFO:tensorflow:Calling checkpoint listeners after saving checkpoint 4000...\n",
            "INFO:tensorflow:Loss for final step: 201585090.0.\n",
            "INFO:tensorflow:Calling model_fn.\n",
            "INFO:tensorflow:Done calling model_fn.\n",
            "INFO:tensorflow:Starting evaluation at 2020-05-21T02:16:38Z\n",
            "INFO:tensorflow:Graph was finalized.\n",
            "INFO:tensorflow:Restoring parameters from /tmp/tmpa8arrbdq/model.ckpt-4000\n",
            "INFO:tensorflow:Running local_init_op.\n",
            "INFO:tensorflow:Done running local_init_op.\n",
            "INFO:tensorflow:Inference Time : 0.24911s\n",
            "INFO:tensorflow:Finished evaluation at 2020-05-21-02:16:38\n",
            "INFO:tensorflow:Saving dict for global step 4000: average_loss = 25164246.0, global_step = 4000, label/mean = 12949.43, loss = 396820800.0, prediction/mean = 13197.791\n",
            "INFO:tensorflow:Saving 'checkpoint_path' summary for global step 4000: /tmp/tmpa8arrbdq/model.ckpt-4000\n",
            "scores {'average_loss': 25164246.0, 'label/mean': 12949.43, 'loss': 396820800.0, 'prediction/mean': 13197.791, 'global_step': 4000}\n",
            "INFO:tensorflow:Calling model_fn.\n",
            "INFO:tensorflow:Done calling model_fn.\n",
            "INFO:tensorflow:Create CheckpointSaverHook.\n",
            "INFO:tensorflow:Graph was finalized.\n",
            "INFO:tensorflow:Restoring parameters from /tmp/tmpa8arrbdq/model.ckpt-4000\n",
            "INFO:tensorflow:Running local_init_op.\n",
            "INFO:tensorflow:Done running local_init_op.\n",
            "INFO:tensorflow:Calling checkpoint listeners before saving checkpoint 4000...\n",
            "INFO:tensorflow:Saving checkpoints for 4000 into /tmp/tmpa8arrbdq/model.ckpt.\n",
            "INFO:tensorflow:Calling checkpoint listeners after saving checkpoint 4000...\n",
            "INFO:tensorflow:loss = 322903200.0, step = 4001\n",
            "INFO:tensorflow:global_step/sec: 365.55\n",
            "INFO:tensorflow:loss = 429298100.0, step = 4101 (0.284 sec)\n",
            "INFO:tensorflow:global_step/sec: 382.419\n",
            "INFO:tensorflow:loss = 797934100.0, step = 4201 (0.259 sec)\n",
            "INFO:tensorflow:global_step/sec: 401.632\n",
            "INFO:tensorflow:loss = 183898750.0, step = 4301 (0.244 sec)\n",
            "INFO:tensorflow:global_step/sec: 394.359\n",
            "INFO:tensorflow:loss = 558199000.0, step = 4401 (0.263 sec)\n",
            "INFO:tensorflow:global_step/sec: 387.654\n",
            "INFO:tensorflow:loss = 525043800.0, step = 4501 (0.249 sec)\n",
            "INFO:tensorflow:global_step/sec: 398.56\n",
            "INFO:tensorflow:loss = 185219260.0, step = 4601 (0.250 sec)\n",
            "INFO:tensorflow:global_step/sec: 380.841\n",
            "INFO:tensorflow:loss = 594895200.0, step = 4701 (0.271 sec)\n",
            "INFO:tensorflow:global_step/sec: 375.54\n",
            "INFO:tensorflow:loss = 296196030.0, step = 4801 (0.257 sec)\n",
            "INFO:tensorflow:global_step/sec: 399.776\n",
            "INFO:tensorflow:loss = 457295800.0, step = 4901 (0.250 sec)\n",
            "INFO:tensorflow:Calling checkpoint listeners before saving checkpoint 5000...\n",
            "INFO:tensorflow:Saving checkpoints for 5000 into /tmp/tmpa8arrbdq/model.ckpt.\n",
            "INFO:tensorflow:Calling checkpoint listeners after saving checkpoint 5000...\n",
            "INFO:tensorflow:Loss for final step: 177051550.0.\n",
            "INFO:tensorflow:Calling model_fn.\n",
            "INFO:tensorflow:Done calling model_fn.\n",
            "INFO:tensorflow:Starting evaluation at 2020-05-21T02:16:42Z\n",
            "INFO:tensorflow:Graph was finalized.\n",
            "INFO:tensorflow:Restoring parameters from /tmp/tmpa8arrbdq/model.ckpt-5000\n",
            "INFO:tensorflow:Running local_init_op.\n",
            "INFO:tensorflow:Done running local_init_op.\n",
            "INFO:tensorflow:Inference Time : 0.24465s\n",
            "INFO:tensorflow:Finished evaluation at 2020-05-21-02:16:42\n",
            "INFO:tensorflow:Saving dict for global step 5000: average_loss = 24523064.0, global_step = 5000, label/mean = 12949.43, loss = 386709860.0, prediction/mean = 13052.059\n",
            "INFO:tensorflow:Saving 'checkpoint_path' summary for global step 5000: /tmp/tmpa8arrbdq/model.ckpt-5000\n",
            "scores {'average_loss': 24523064.0, 'label/mean': 12949.43, 'loss': 386709860.0, 'prediction/mean': 13052.059, 'global_step': 5000}\n",
            "INFO:tensorflow:Calling model_fn.\n",
            "INFO:tensorflow:Done calling model_fn.\n",
            "INFO:tensorflow:Create CheckpointSaverHook.\n",
            "INFO:tensorflow:Graph was finalized.\n",
            "INFO:tensorflow:Restoring parameters from /tmp/tmpa8arrbdq/model.ckpt-5000\n",
            "INFO:tensorflow:Running local_init_op.\n",
            "INFO:tensorflow:Done running local_init_op.\n",
            "INFO:tensorflow:Calling checkpoint listeners before saving checkpoint 5000...\n",
            "INFO:tensorflow:Saving checkpoints for 5000 into /tmp/tmpa8arrbdq/model.ckpt.\n",
            "INFO:tensorflow:Calling checkpoint listeners after saving checkpoint 5000...\n",
            "INFO:tensorflow:loss = 796594800.0, step = 5001\n",
            "INFO:tensorflow:global_step/sec: 365.258\n",
            "INFO:tensorflow:loss = 149196400.0, step = 5101 (0.284 sec)\n",
            "INFO:tensorflow:global_step/sec: 387.08\n",
            "INFO:tensorflow:loss = 432149540.0, step = 5201 (0.258 sec)\n",
            "INFO:tensorflow:global_step/sec: 368.902\n",
            "INFO:tensorflow:loss = 108617070.0, step = 5301 (0.260 sec)\n",
            "INFO:tensorflow:global_step/sec: 381.732\n",
            "INFO:tensorflow:loss = 800833900.0, step = 5401 (0.269 sec)\n",
            "INFO:tensorflow:global_step/sec: 389.887\n",
            "INFO:tensorflow:loss = 496814340.0, step = 5501 (0.254 sec)\n",
            "INFO:tensorflow:global_step/sec: 388.485\n",
            "INFO:tensorflow:loss = 202317440.0, step = 5601 (0.258 sec)\n",
            "INFO:tensorflow:global_step/sec: 376.391\n",
            "INFO:tensorflow:loss = 128190340.0, step = 5701 (0.267 sec)\n",
            "INFO:tensorflow:global_step/sec: 383.346\n",
            "INFO:tensorflow:loss = 722044600.0, step = 5801 (0.264 sec)\n",
            "INFO:tensorflow:global_step/sec: 404.16\n",
            "INFO:tensorflow:loss = 183613810.0, step = 5901 (0.242 sec)\n",
            "INFO:tensorflow:Calling checkpoint listeners before saving checkpoint 6000...\n",
            "INFO:tensorflow:Saving checkpoints for 6000 into /tmp/tmpa8arrbdq/model.ckpt.\n",
            "INFO:tensorflow:Calling checkpoint listeners after saving checkpoint 6000...\n",
            "INFO:tensorflow:Loss for final step: 315891460.0.\n",
            "INFO:tensorflow:Calling model_fn.\n",
            "INFO:tensorflow:Done calling model_fn.\n",
            "INFO:tensorflow:Starting evaluation at 2020-05-21T02:16:46Z\n",
            "INFO:tensorflow:Graph was finalized.\n",
            "INFO:tensorflow:Restoring parameters from /tmp/tmpa8arrbdq/model.ckpt-6000\n",
            "INFO:tensorflow:Running local_init_op.\n",
            "INFO:tensorflow:Done running local_init_op.\n",
            "INFO:tensorflow:Inference Time : 0.25272s\n",
            "INFO:tensorflow:Finished evaluation at 2020-05-21-02:16:46\n",
            "INFO:tensorflow:Saving dict for global step 6000: average_loss = 24113948.0, global_step = 6000, label/mean = 12949.43, loss = 380258430.0, prediction/mean = 13077.808\n",
            "INFO:tensorflow:Saving 'checkpoint_path' summary for global step 6000: /tmp/tmpa8arrbdq/model.ckpt-6000\n",
            "scores {'average_loss': 24113948.0, 'label/mean': 12949.43, 'loss': 380258430.0, 'prediction/mean': 13077.808, 'global_step': 6000}\n",
            "INFO:tensorflow:Calling model_fn.\n",
            "INFO:tensorflow:Done calling model_fn.\n",
            "INFO:tensorflow:Create CheckpointSaverHook.\n",
            "INFO:tensorflow:Graph was finalized.\n",
            "INFO:tensorflow:Restoring parameters from /tmp/tmpa8arrbdq/model.ckpt-6000\n",
            "INFO:tensorflow:Running local_init_op.\n",
            "INFO:tensorflow:Done running local_init_op.\n",
            "INFO:tensorflow:Calling checkpoint listeners before saving checkpoint 6000...\n",
            "INFO:tensorflow:Saving checkpoints for 6000 into /tmp/tmpa8arrbdq/model.ckpt.\n",
            "INFO:tensorflow:Calling checkpoint listeners after saving checkpoint 6000...\n",
            "INFO:tensorflow:loss = 389786620.0, step = 6001\n",
            "INFO:tensorflow:global_step/sec: 377.679\n",
            "INFO:tensorflow:loss = 227942500.0, step = 6101 (0.279 sec)\n",
            "INFO:tensorflow:global_step/sec: 396.683\n",
            "INFO:tensorflow:loss = 622820030.0, step = 6201 (0.243 sec)\n",
            "INFO:tensorflow:global_step/sec: 378.981\n",
            "INFO:tensorflow:loss = 53473612.0, step = 6301 (0.261 sec)\n",
            "INFO:tensorflow:global_step/sec: 385.898\n",
            "INFO:tensorflow:loss = 366741800.0, step = 6401 (0.260 sec)\n",
            "INFO:tensorflow:global_step/sec: 395.278\n",
            "INFO:tensorflow:loss = 452729800.0, step = 6501 (0.253 sec)\n",
            "INFO:tensorflow:global_step/sec: 383.313\n",
            "INFO:tensorflow:loss = 591554600.0, step = 6601 (0.259 sec)\n",
            "INFO:tensorflow:global_step/sec: 402.609\n",
            "INFO:tensorflow:loss = 267080540.0, step = 6701 (0.256 sec)\n",
            "INFO:tensorflow:global_step/sec: 378.713\n",
            "INFO:tensorflow:loss = 290350370.0, step = 6801 (0.266 sec)\n",
            "INFO:tensorflow:global_step/sec: 378.792\n",
            "INFO:tensorflow:loss = 212687800.0, step = 6901 (0.264 sec)\n",
            "INFO:tensorflow:Calling checkpoint listeners before saving checkpoint 7000...\n",
            "INFO:tensorflow:Saving checkpoints for 7000 into /tmp/tmpa8arrbdq/model.ckpt.\n",
            "INFO:tensorflow:Calling checkpoint listeners after saving checkpoint 7000...\n",
            "INFO:tensorflow:Loss for final step: 1471326000.0.\n",
            "INFO:tensorflow:Calling model_fn.\n",
            "INFO:tensorflow:Done calling model_fn.\n",
            "INFO:tensorflow:Starting evaluation at 2020-05-21T02:16:50Z\n",
            "INFO:tensorflow:Graph was finalized.\n",
            "INFO:tensorflow:Restoring parameters from /tmp/tmpa8arrbdq/model.ckpt-7000\n",
            "INFO:tensorflow:Running local_init_op.\n",
            "INFO:tensorflow:Done running local_init_op.\n",
            "INFO:tensorflow:Inference Time : 0.24819s\n",
            "INFO:tensorflow:Finished evaluation at 2020-05-21-02:16:50\n",
            "INFO:tensorflow:Saving dict for global step 7000: average_loss = 23821916.0, global_step = 7000, label/mean = 12949.43, loss = 375653300.0, prediction/mean = 13106.505\n",
            "INFO:tensorflow:Saving 'checkpoint_path' summary for global step 7000: /tmp/tmpa8arrbdq/model.ckpt-7000\n",
            "scores {'average_loss': 23821916.0, 'label/mean': 12949.43, 'loss': 375653300.0, 'prediction/mean': 13106.505, 'global_step': 7000}\n",
            "INFO:tensorflow:Calling model_fn.\n",
            "INFO:tensorflow:Done calling model_fn.\n",
            "INFO:tensorflow:Create CheckpointSaverHook.\n",
            "INFO:tensorflow:Graph was finalized.\n",
            "INFO:tensorflow:Restoring parameters from /tmp/tmpa8arrbdq/model.ckpt-7000\n",
            "INFO:tensorflow:Running local_init_op.\n",
            "INFO:tensorflow:Done running local_init_op.\n",
            "INFO:tensorflow:Calling checkpoint listeners before saving checkpoint 7000...\n",
            "INFO:tensorflow:Saving checkpoints for 7000 into /tmp/tmpa8arrbdq/model.ckpt.\n",
            "INFO:tensorflow:Calling checkpoint listeners after saving checkpoint 7000...\n",
            "INFO:tensorflow:loss = 179386770.0, step = 7001\n",
            "INFO:tensorflow:global_step/sec: 352.295\n",
            "INFO:tensorflow:loss = 439036400.0, step = 7101 (0.294 sec)\n",
            "INFO:tensorflow:global_step/sec: 389.23\n",
            "INFO:tensorflow:loss = 271322530.0, step = 7201 (0.253 sec)\n",
            "INFO:tensorflow:global_step/sec: 402.167\n",
            "INFO:tensorflow:loss = 689380100.0, step = 7301 (0.246 sec)\n",
            "INFO:tensorflow:global_step/sec: 396.876\n",
            "INFO:tensorflow:loss = 143292860.0, step = 7401 (0.259 sec)\n",
            "INFO:tensorflow:global_step/sec: 381.994\n",
            "INFO:tensorflow:loss = 340373500.0, step = 7501 (0.259 sec)\n",
            "INFO:tensorflow:global_step/sec: 391.976\n",
            "INFO:tensorflow:loss = 559624060.0, step = 7601 (0.253 sec)\n",
            "INFO:tensorflow:global_step/sec: 383.863\n",
            "INFO:tensorflow:loss = 143734620.0, step = 7701 (0.259 sec)\n",
            "INFO:tensorflow:global_step/sec: 362.867\n",
            "INFO:tensorflow:loss = 600387400.0, step = 7801 (0.275 sec)\n",
            "INFO:tensorflow:global_step/sec: 391.714\n",
            "INFO:tensorflow:loss = 701565700.0, step = 7901 (0.260 sec)\n",
            "INFO:tensorflow:Calling checkpoint listeners before saving checkpoint 8000...\n",
            "INFO:tensorflow:Saving checkpoints for 8000 into /tmp/tmpa8arrbdq/model.ckpt.\n",
            "INFO:tensorflow:Calling checkpoint listeners after saving checkpoint 8000...\n",
            "INFO:tensorflow:Loss for final step: 151822060.0.\n",
            "INFO:tensorflow:Calling model_fn.\n",
            "INFO:tensorflow:Done calling model_fn.\n",
            "INFO:tensorflow:Starting evaluation at 2020-05-21T02:16:54Z\n",
            "INFO:tensorflow:Graph was finalized.\n",
            "INFO:tensorflow:Restoring parameters from /tmp/tmpa8arrbdq/model.ckpt-8000\n",
            "INFO:tensorflow:Running local_init_op.\n",
            "INFO:tensorflow:Done running local_init_op.\n",
            "INFO:tensorflow:Inference Time : 0.24869s\n",
            "INFO:tensorflow:Finished evaluation at 2020-05-21-02:16:54\n",
            "INFO:tensorflow:Saving dict for global step 8000: average_loss = 23582156.0, global_step = 8000, label/mean = 12949.43, loss = 371872450.0, prediction/mean = 13098.829\n",
            "INFO:tensorflow:Saving 'checkpoint_path' summary for global step 8000: /tmp/tmpa8arrbdq/model.ckpt-8000\n",
            "scores {'average_loss': 23582156.0, 'label/mean': 12949.43, 'loss': 371872450.0, 'prediction/mean': 13098.829, 'global_step': 8000}\n",
            "INFO:tensorflow:Calling model_fn.\n",
            "INFO:tensorflow:Done calling model_fn.\n",
            "INFO:tensorflow:Create CheckpointSaverHook.\n",
            "INFO:tensorflow:Graph was finalized.\n",
            "INFO:tensorflow:Restoring parameters from /tmp/tmpa8arrbdq/model.ckpt-8000\n",
            "INFO:tensorflow:Running local_init_op.\n",
            "INFO:tensorflow:Done running local_init_op.\n",
            "INFO:tensorflow:Calling checkpoint listeners before saving checkpoint 8000...\n",
            "INFO:tensorflow:Saving checkpoints for 8000 into /tmp/tmpa8arrbdq/model.ckpt.\n",
            "INFO:tensorflow:Calling checkpoint listeners after saving checkpoint 8000...\n",
            "INFO:tensorflow:loss = 515701340.0, step = 8001\n",
            "INFO:tensorflow:global_step/sec: 354.648\n",
            "INFO:tensorflow:loss = 177853520.0, step = 8101 (0.285 sec)\n",
            "INFO:tensorflow:global_step/sec: 388.169\n",
            "INFO:tensorflow:loss = 199813890.0, step = 8201 (0.260 sec)\n",
            "INFO:tensorflow:global_step/sec: 392.495\n",
            "INFO:tensorflow:loss = 104765460.0, step = 8301 (0.255 sec)\n",
            "INFO:tensorflow:global_step/sec: 398.161\n",
            "INFO:tensorflow:loss = 136936050.0, step = 8401 (0.247 sec)\n",
            "INFO:tensorflow:global_step/sec: 372.078\n",
            "INFO:tensorflow:loss = 233319650.0, step = 8501 (0.278 sec)\n",
            "INFO:tensorflow:global_step/sec: 387.451\n",
            "INFO:tensorflow:loss = 1153975800.0, step = 8601 (0.253 sec)\n",
            "INFO:tensorflow:global_step/sec: 403.098\n",
            "INFO:tensorflow:loss = 440331400.0, step = 8701 (0.252 sec)\n",
            "INFO:tensorflow:global_step/sec: 387.12\n",
            "INFO:tensorflow:loss = 538231000.0, step = 8801 (0.252 sec)\n",
            "INFO:tensorflow:global_step/sec: 384.741\n",
            "INFO:tensorflow:loss = 110403220.0, step = 8901 (0.264 sec)\n",
            "INFO:tensorflow:Calling checkpoint listeners before saving checkpoint 9000...\n",
            "INFO:tensorflow:Saving checkpoints for 9000 into /tmp/tmpa8arrbdq/model.ckpt.\n",
            "INFO:tensorflow:Calling checkpoint listeners after saving checkpoint 9000...\n",
            "INFO:tensorflow:Loss for final step: 1142853400.0.\n",
            "INFO:tensorflow:Calling model_fn.\n",
            "INFO:tensorflow:Done calling model_fn.\n",
            "INFO:tensorflow:Starting evaluation at 2020-05-21T02:16:58Z\n",
            "INFO:tensorflow:Graph was finalized.\n",
            "INFO:tensorflow:Restoring parameters from /tmp/tmpa8arrbdq/model.ckpt-9000\n",
            "INFO:tensorflow:Running local_init_op.\n",
            "INFO:tensorflow:Done running local_init_op.\n",
            "INFO:tensorflow:Inference Time : 0.23784s\n",
            "INFO:tensorflow:Finished evaluation at 2020-05-21-02:16:58\n",
            "INFO:tensorflow:Saving dict for global step 9000: average_loss = 23350268.0, global_step = 9000, label/mean = 12949.43, loss = 368215740.0, prediction/mean = 13088.754\n",
            "INFO:tensorflow:Saving 'checkpoint_path' summary for global step 9000: /tmp/tmpa8arrbdq/model.ckpt-9000\n",
            "scores {'average_loss': 23350268.0, 'label/mean': 12949.43, 'loss': 368215740.0, 'prediction/mean': 13088.754, 'global_step': 9000}\n",
            "INFO:tensorflow:Calling model_fn.\n",
            "INFO:tensorflow:Done calling model_fn.\n",
            "INFO:tensorflow:Create CheckpointSaverHook.\n",
            "INFO:tensorflow:Graph was finalized.\n",
            "INFO:tensorflow:Restoring parameters from /tmp/tmpa8arrbdq/model.ckpt-9000\n",
            "INFO:tensorflow:Running local_init_op.\n",
            "INFO:tensorflow:Done running local_init_op.\n",
            "INFO:tensorflow:Calling checkpoint listeners before saving checkpoint 9000...\n",
            "INFO:tensorflow:Saving checkpoints for 9000 into /tmp/tmpa8arrbdq/model.ckpt.\n",
            "INFO:tensorflow:Calling checkpoint listeners after saving checkpoint 9000...\n",
            "INFO:tensorflow:loss = 453720770.0, step = 9001\n",
            "INFO:tensorflow:global_step/sec: 372.509\n",
            "INFO:tensorflow:loss = 1430165200.0, step = 9101 (0.269 sec)\n",
            "INFO:tensorflow:global_step/sec: 398.858\n",
            "INFO:tensorflow:loss = 216958860.0, step = 9201 (0.256 sec)\n",
            "INFO:tensorflow:global_step/sec: 396.409\n",
            "INFO:tensorflow:loss = 62337110.0, step = 9301 (0.254 sec)\n",
            "INFO:tensorflow:global_step/sec: 398.808\n",
            "INFO:tensorflow:loss = 443472900.0, step = 9401 (0.250 sec)\n",
            "INFO:tensorflow:global_step/sec: 412.462\n",
            "INFO:tensorflow:loss = 360470000.0, step = 9501 (0.240 sec)\n",
            "INFO:tensorflow:global_step/sec: 406.681\n",
            "INFO:tensorflow:loss = 377850100.0, step = 9601 (0.247 sec)\n",
            "INFO:tensorflow:global_step/sec: 404.3\n",
            "INFO:tensorflow:loss = 119346900.0, step = 9701 (0.248 sec)\n",
            "INFO:tensorflow:global_step/sec: 399.254\n",
            "INFO:tensorflow:loss = 855107100.0, step = 9801 (0.248 sec)\n",
            "INFO:tensorflow:global_step/sec: 394.823\n",
            "INFO:tensorflow:loss = 135309630.0, step = 9901 (0.253 sec)\n",
            "INFO:tensorflow:Calling checkpoint listeners before saving checkpoint 10000...\n",
            "INFO:tensorflow:Saving checkpoints for 10000 into /tmp/tmpa8arrbdq/model.ckpt.\n",
            "INFO:tensorflow:Calling checkpoint listeners after saving checkpoint 10000...\n",
            "INFO:tensorflow:Loss for final step: 245249630.0.\n",
            "INFO:tensorflow:Calling model_fn.\n",
            "INFO:tensorflow:Done calling model_fn.\n",
            "INFO:tensorflow:Starting evaluation at 2020-05-21T02:17:02Z\n",
            "INFO:tensorflow:Graph was finalized.\n",
            "INFO:tensorflow:Restoring parameters from /tmp/tmpa8arrbdq/model.ckpt-10000\n",
            "INFO:tensorflow:Running local_init_op.\n",
            "INFO:tensorflow:Done running local_init_op.\n",
            "INFO:tensorflow:Inference Time : 0.24138s\n",
            "INFO:tensorflow:Finished evaluation at 2020-05-21-02:17:02\n",
            "INFO:tensorflow:Saving dict for global step 10000: average_loss = 23099324.0, global_step = 10000, label/mean = 12949.43, loss = 364258600.0, prediction/mean = 13019.516\n",
            "INFO:tensorflow:Saving 'checkpoint_path' summary for global step 10000: /tmp/tmpa8arrbdq/model.ckpt-10000\n",
            "scores {'average_loss': 23099324.0, 'label/mean': 12949.43, 'loss': 364258600.0, 'prediction/mean': 13019.516, 'global_step': 10000}\n"
          ],
          "name": "stdout"
        }
      ]
    },
    {
      "cell_type": "markdown",
      "metadata": {
        "colab_type": "text",
        "id": "Rxto3DwsjYw4"
      },
      "source": [
        "### Visualize your model's predictions\n",
        "\n",
        "After you have a trained model, it may be helpful to understand how your model's inference differs from the actual data.\n",
        "\n",
        "This helper function `scatter_plot_inference` does that for you. Real data is in grey. Your model's predictions are in orange.\n"
      ]
    },
    {
      "cell_type": "code",
      "metadata": {
        "colab_type": "code",
        "id": "uGSXwX2fju1N",
        "colab": {
          "base_uri": "https://localhost:8080/",
          "height": 1000
        },
        "outputId": "42628953-dff1-4f1c-f7da-88c3fba4d2f5"
      },
      "source": [
        "from matplotlib import pyplot as plt\n",
        "\n",
        "\n",
        "def scatter_plot_inference_grid(est, x_df, feature_names):\n",
        "  \"\"\"Plots the predictions of the model against each feature.\n",
        "  \n",
        "  Args:\n",
        "    est: The trained tf.Estimator.\n",
        "    x_df: The pandas dataframe with the input data (used to create\n",
        "      predict_input_fn).\n",
        "    feature_names: An iterable of string feature names to plot.\n",
        "  \"\"\"\n",
        "  def scatter_plot_inference(axis,\n",
        "                             x_axis_feature_name,\n",
        "                             y_axis_feature_name,\n",
        "                             predictions):\n",
        "    \"\"\"Generate one subplot.\"\"\"\n",
        "    # Plot the real data in grey.\n",
        "    y_axis_feature_name = 'price'\n",
        "    axis.set_ylabel(y_axis_feature_name)\n",
        "    axis.set_xlabel(x_axis_feature_name)\n",
        "    axis.scatter(car_data[x_axis_feature_name],\n",
        "                 car_data[y_axis_feature_name],\n",
        "                 c='grey')\n",
        "\n",
        "    # Plot the predicted data in orange.\n",
        "    axis.scatter(car_data[x_axis_feature_name], predictions, c='orange')\n",
        "\n",
        "  predict_input_fn = tf.estimator.inputs.pandas_input_fn(\n",
        "    x=x_df,\n",
        "    batch_size=batch_size,\n",
        "    shuffle=False)\n",
        "\n",
        "  predictions = [\n",
        "    x['predictions'][0]\n",
        "    for x in est.predict(predict_input_fn)\n",
        "  ]\n",
        "  \n",
        "  num_cols = 3\n",
        "  num_rows = int(math.ceil(len(feature_names)/float(num_cols)))\n",
        "  f, axarr = plt.subplots(num_rows, num_cols)\n",
        "  size = 4.5\n",
        "  f.set_size_inches(num_cols*size, num_rows*size)\n",
        "  \n",
        "  for i, feature_name in enumerate(numeric_feature_names):\n",
        "    axis = axarr[int(i/num_cols), i%num_cols]\n",
        "    scatter_plot_inference(axis, feature_name, 'price', predictions)\n",
        "  plt.show()\n",
        "\n",
        "scatter_plot_inference_grid(est, x_df, numeric_feature_names)"
      ],
      "execution_count": 51,
      "outputs": [
        {
          "output_type": "stream",
          "text": [
            "INFO:tensorflow:Calling model_fn.\n",
            "INFO:tensorflow:Done calling model_fn.\n",
            "INFO:tensorflow:Graph was finalized.\n",
            "INFO:tensorflow:Restoring parameters from /tmp/tmpa8arrbdq/model.ckpt-10000\n",
            "INFO:tensorflow:Running local_init_op.\n",
            "INFO:tensorflow:Done running local_init_op.\n"
          ],
          "name": "stdout"
        },
        {
          "output_type": "display_data",
          "data": {
            "image/png": "[encoded data removed]",
            "text/plain": [
              "<Figure size 972x1620 with 15 Axes>"
            ]
          },
          "metadata": {
            "tags": [],
            "needs_background": "light"
          }
        }
      ]
    },
    {
      "cell_type": "markdown",
      "metadata": {
        "colab_type": "text",
        "id": "uBZI8f_8Yfph"
      },
      "source": [
        "## Task 2: Take your best numeric model from earlier. Add normalization.\n",
        "\n",
        "### Add normalization to your best numeric model from earlier\n",
        "\n",
        "- You decide what type of normalization to add, and for which features\n",
        "- You will need to use the `normalizer_fn` arg on [`numeric_column`](https://g3doc.corp.google.com/learning/brain/public/g3doc/api_docs/python/tf/feature_column/numeric_column.md?cl=head)\n",
        "    - An example of a silly normalizer_fn that shifts inputs down by 1, and then negates the value:\n",
        "    \n",
        "         normalizer_fn = lambda x: tf.neg(tf.subtract(x, 1))\n",
        "\n",
        "- You may find these pandas functions helpful:\n",
        "    - dataframe.mean()['your_feature_name']\n",
        "    - dataframe.std()['your_feature_name']\n",
        "- You will need to retune the hyperparameters from earlier.\n",
        "\n",
        "\n",
        "**Does normalization improve model quality on this dataset? Why or why not?**"
      ]
    },
    {
      "cell_type": "code",
      "metadata": {
        "colab_type": "code",
        "id": "jY_C_QgcZg1-",
        "colab": {
          "base_uri": "https://localhost:8080/",
          "height": 1000
        },
        "outputId": "9ccf35f7-ea6a-48e5-f37d-ac22abdf4051"
      },
      "source": [
        "# This 1D visualization of each numeric feature might inform your normalization\n",
        "# decisions.\n",
        "for feature_name in numeric_feature_names:\n",
        "  car_data.hist(column=feature_name)"
      ],
      "execution_count": 52,
      "outputs": [
        {
          "output_type": "display_data",
          "data": {
            "image/png": "[encoded data removed]",
            "text/plain": [
              "<Figure size 432x288 with 1 Axes>"
            ]
          },
          "metadata": {
            "tags": [],
            "needs_background": "light"
          }
        },
        {
          "output_type": "display_data",
          "data": {
            "image/png": "[encoded data removed]",
            "text/plain": [
              "<Figure size 432x288 with 1 Axes>"
            ]
          },
          "metadata": {
            "tags": [],
            "needs_background": "light"
          }
        },
        {
          "output_type": "display_data",
          "data": {
            "image/png": "[encoded data removed]",
            "text/plain": [
              "<Figure size 432x288 with 1 Axes>"
            ]
          },
          "metadata": {
            "tags": [],
            "needs_background": "light"
          }
        },
        {
          "output_type": "display_data",
          "data": {
            "image/png": "[encoded data removed]",
            "text/plain": [
              "<Figure size 432x288 with 1 Axes>"
            ]
          },
          "metadata": {
            "tags": [],
            "needs_background": "light"
          }
        },
        {
          "output_type": "display_data",
          "data": {
            "image/png": "[encoded data removed]",
            "text/plain": [
              "<Figure size 432x288 with 1 Axes>"
            ]
          },
          "metadata": {
            "tags": [],
            "needs_background": "light"
          }
        },
        {
          "output_type": "display_data",
          "data": {
            "image/png": "[encoded data removed]",
            "text/plain": [
              "<Figure size 432x288 with 1 Axes>"
            ]
          },
          "metadata": {
            "tags": [],
            "needs_background": "light"
          }
        },
        {
          "output_type": "display_data",
          "data": {
            "image/png": "[encoded data removed]",
            "text/plain": [
              "<Figure size 432x288 with 1 Axes>"
            ]
          },
          "metadata": {
            "tags": [],
            "needs_background": "light"
          }
        },
        {
          "output_type": "display_data",
          "data": {
            "image/png": "[encoded data removed]",
            "text/plain": [
              "<Figure size 432x288 with 1 Axes>"
            ]
          },
          "metadata": {
            "tags": [],
            "needs_background": "light"
          }
        },
        {
          "output_type": "display_data",
          "data": {
            "image/png": "[encoded data removed]",
            "text/plain": [
              "<Figure size 432x288 with 1 Axes>"
            ]
          },
          "metadata": {
            "tags": [],
            "needs_background": "light"
          }
        },
        {
          "output_type": "display_data",
          "data": {
            "image/png": "[encoded data removed]",
            "text/plain": [
              "<Figure size 432x288 with 1 Axes>"
            ]
          },
          "metadata": {
            "tags": [],
            "needs_background": "light"
          }
        },
        {
          "output_type": "display_data",
          "data": {
            "image/png": "[encoded data removed]",
            "text/plain": [
              "<Figure size 432x288 with 1 Axes>"
            ]
          },
          "metadata": {
            "tags": [],
            "needs_background": "light"
          }
        },
        {
          "output_type": "display_data",
          "data": {
            "image/png": "[encoded data removed]",
            "text/plain": [
              "<Figure size 432x288 with 1 Axes>"
            ]
          },
          "metadata": {
            "tags": [],
            "needs_background": "light"
          }
        },
        {
          "output_type": "display_data",
          "data": {
            "image/png": "[encoded data removed]",
            "text/plain": [
              "<Figure size 432x288 with 1 Axes>"
            ]
          },
          "metadata": {
            "tags": [],
            "needs_background": "light"
          }
        },
        {
          "output_type": "display_data",
          "data": {
            "image/png": "[encoded data removed]",
            "text/plain": [
              "<Figure size 432x288 with 1 Axes>"
            ]
          },
          "metadata": {
            "tags": [],
            "needs_background": "light"
          }
        },
        {
          "output_type": "display_data",
          "data": {
            "image/png": "[encoded data removed]",
            "text/plain": [
              "<Figure size 432x288 with 1 Axes>"
            ]
          },
          "metadata": {
            "tags": [],
            "needs_background": "light"
          }
        }
      ]
    },
    {
      "cell_type": "markdown",
      "metadata": {
        "colab_type": "text",
        "id": "oiEpDZKSj8pN"
      },
      "source": [
        "###Train your model with numeric features + normalization"
      ]
    },
    {
      "cell_type": "code",
      "metadata": {
        "colab_type": "code",
        "id": "c30Y6IiR8iVn",
        "colab": {}
      },
      "source": [
        "## Your code goes here"
      ],
      "execution_count": 0,
      "outputs": []
    },
    {
      "cell_type": "code",
      "metadata": {
        "cellView": "form",
        "colab_type": "code",
        "id": "RxYJy71zaZsy",
        "colab": {}
      },
      "source": [
        "#@title Possible solution\n",
        "# This does Z-score normalization since the distributions for most features looked\n",
        "# roughly normally distributed.\n",
        "\n",
        "# Z-score normalization subtracts the mean and divides by the standard deviation,\n",
        "# to give a roughly standard normal distribution (mean = 0, std = 1) under a\n",
        "# normal distribution assumption. Epsilon prevents divide by zero.\n",
        "\n",
        "# With normalization, are you able to get the model working with\n",
        "# GradientDescentOptimizer? Z-score normalization doesn't seem to be able to get\n",
        "# SGD working. Maybe a different type of normalization would?\n",
        "\n",
        "batch_size = 16\n",
        "\n",
        "print(numeric_feature_names)\n",
        "x_df = car_data[numeric_feature_names]\n",
        "y_series = car_data['price']\n",
        "\n",
        "train_input_fn = tf.estimator.inputs.pandas_input_fn(\n",
        "    x=x_df,\n",
        "    y=y_series,\n",
        "    batch_size=batch_size,\n",
        "    num_epochs=None,\n",
        "    shuffle=True)\n",
        "\n",
        "eval_input_fn = tf.estimator.inputs.pandas_input_fn(\n",
        "    x=x_df,\n",
        "    y=y_series,\n",
        "    batch_size=batch_size,\n",
        "    shuffle=False)\n",
        "\n",
        "predict_input_fn = tf.estimator.inputs.pandas_input_fn(\n",
        "    x=x_df,\n",
        "    batch_size=batch_size,\n",
        "    shuffle=False)\n",
        "\n",
        "# Epsilon prevents divide by zero.\n",
        "epsilon = 0.000001\n",
        "model_feature_columns = [\n",
        "    tf.feature_column.numeric_column(feature_name,\n",
        "                                     normalizer_fn=lambda val: (val - x_df.mean()[feature_name]) / (epsilon + x_df.std()[feature_name]))\n",
        "    for feature_name in numeric_feature_names\n",
        "]\n",
        "print('model_feature_columns', model_feature_columns)\n",
        "\n",
        "est = tf.estimator.DNNRegressor(\n",
        "    feature_columns=model_feature_columns,\n",
        "    hidden_units=[64],\n",
        "    optimizer=tf.train.AdagradOptimizer(learning_rate=0.01),\n",
        "  )\n",
        "\n",
        "# TRAIN\n",
        "num_print_statements = 10\n",
        "num_training_steps = 10000\n",
        "for _ in range(num_print_statements):\n",
        "  est.train(train_input_fn, steps=num_training_steps // num_print_statements)\n",
        "  scores = est.evaluate(eval_input_fn)\n",
        "  \n",
        "  # The `scores` dictionary has several metrics automatically generated by the \n",
        "  # canned Estimator.\n",
        "  # `average_loss` is the average loss for an individual example.\n",
        "  # `loss` is the summed loss for the batch.\n",
        "  # In addition to these scalar losses, you may find the visualization functions\n",
        "  # in the next cell helpful for debugging model quality.\n",
        "  print('scores', scores)\n",
        "\n",
        "scatter_plot_inference_grid(est, x_df, numeric_feature_names)"
      ],
      "execution_count": 0,
      "outputs": []
    },
    {
      "cell_type": "markdown",
      "metadata": {
        "colab_type": "text",
        "id": "fruh0Qj5_Bos"
      },
      "source": [
        "## Task 3: Make your best model using only categorical features\n",
        "\n",
        "- Look at the possible feature columns for categorical features. They begin with `categorical_column_with_` in go/tf-ops.\n",
        "- You may find `dataframe[categorical_feature_names].unique()` helpful.\n"
      ]
    },
    {
      "cell_type": "code",
      "metadata": {
        "cellView": "code",
        "colab_type": "code",
        "id": "-udhHnNS2WvN",
        "colab": {}
      },
      "source": [
        "## Your code goes here"
      ],
      "execution_count": 0,
      "outputs": []
    },
    {
      "cell_type": "code",
      "metadata": {
        "cellView": "form",
        "colab_type": "code",
        "id": "EftIzPAI9RJj",
        "colab": {}
      },
      "source": [
        "#@title Possible solution\n",
        "# We have the full list of values that each feature takes on, and the list is\n",
        "# relatively small so we use categorical_column_with_vocabulary_list.\n",
        "\n",
        "batch_size = 16\n",
        "\n",
        "x_df = car_data[categorical_feature_names]\n",
        "y_series = car_data['price']\n",
        "\n",
        "train_input_fn = tf.estimator.inputs.pandas_input_fn(\n",
        "    x=x_df,\n",
        "    y=y_series,\n",
        "    batch_size=batch_size,\n",
        "    num_epochs=None,\n",
        "    shuffle=True)\n",
        "\n",
        "eval_input_fn = tf.estimator.inputs.pandas_input_fn(\n",
        "    x=x_df,\n",
        "    y=y_series,\n",
        "    batch_size=batch_size,\n",
        "    shuffle=False)\n",
        "\n",
        "predict_input_fn = tf.estimator.inputs.pandas_input_fn(\n",
        "    x=x_df,\n",
        "    batch_size=batch_size,\n",
        "    shuffle=False)\n",
        "\n",
        "model_feature_columns = [\n",
        "    tf.feature_column.indicator_column(\n",
        "        tf.feature_column.categorical_column_with_vocabulary_list(\n",
        "            feature_name, vocabulary_list=car_data[feature_name].unique()))\n",
        "    for feature_name in categorical_feature_names\n",
        "]\n",
        "print('model_feature_columns', model_feature_columns)\n",
        "\n",
        "est = tf.estimator.DNNRegressor(\n",
        "    feature_columns=model_feature_columns,\n",
        "    hidden_units=[64],\n",
        "    optimizer=tf.train.AdagradOptimizer(learning_rate=0.01),\n",
        "  )\n",
        "\n",
        "# TRAIN\n",
        "num_print_statements = 10\n",
        "num_training_steps = 10000\n",
        "for _ in range(num_print_statements):\n",
        "  est.train(train_input_fn, steps=num_training_steps // num_print_statements)\n",
        "  scores = est.evaluate(eval_input_fn)\n",
        "  \n",
        "  # The `scores` dictionary has several metrics automatically generated by the\n",
        "  # canned Estimator.\n",
        "  # `average_loss` is the average loss for an individual example.\n",
        "  # `loss` is the summed loss for the batch.\n",
        "  # In addition to these scalar losses, you may find the visualization functions\n",
        "  # in the next cell helpful for debugging model quality.\n",
        "  print('scores', scores)\n",
        "\n"
      ],
      "execution_count": 0,
      "outputs": []
    },
    {
      "cell_type": "markdown",
      "metadata": {
        "colab_type": "text",
        "id": "gyBH5Wai_HTD"
      },
      "source": [
        "## Task 4: Using all the features, make the best model that you can make\n",
        "\n",
        "With all the features combined, your model should perform better than your earlier models using numerical and categorical models alone. Tune your model until that is the case."
      ]
    },
    {
      "cell_type": "code",
      "metadata": {
        "colab_type": "code",
        "id": "JNfCzC-q8edv",
        "colab": {}
      },
      "source": [
        "## Your code goes here"
      ],
      "execution_count": 0,
      "outputs": []
    },
    {
      "cell_type": "code",
      "metadata": {
        "cellView": "form",
        "colab_type": "code",
        "id": "CmaGHWFVGKMr",
        "colab": {}
      },
      "source": [
        "#@title Possible solution\n",
        "# This is a first pass at a model that uses all the features.\n",
        "# Do you have any improvements?\n",
        "\n",
        "batch_size = 16\n",
        "\n",
        "x_df = car_data[numeric_feature_names + categorical_feature_names]\n",
        "y_series = car_data['price']\n",
        "\n",
        "train_input_fn = tf.estimator.inputs.pandas_input_fn(\n",
        "    x=x_df,\n",
        "    y=y_series,\n",
        "    batch_size=batch_size,\n",
        "    num_epochs=None,\n",
        "    shuffle=True)\n",
        "\n",
        "eval_input_fn = tf.estimator.inputs.pandas_input_fn(\n",
        "    x=x_df,\n",
        "    y=y_series,\n",
        "    batch_size=batch_size,\n",
        "    shuffle=False)\n",
        "\n",
        "predict_input_fn = tf.estimator.inputs.pandas_input_fn(\n",
        "    x=x_df,\n",
        "    batch_size=batch_size,\n",
        "    shuffle=False)\n",
        "\n",
        "epsilon = 0.000001\n",
        "model_feature_columns = [\n",
        "    tf.feature_column.indicator_column(\n",
        "        tf.feature_column.categorical_column_with_vocabulary_list(\n",
        "            feature_name, vocabulary_list=car_data[feature_name].unique()))\n",
        "    for feature_name in categorical_feature_names\n",
        "] + [\n",
        "    tf.feature_column.numeric_column(feature_name,\n",
        "                                     normalizer_fn=lambda val: (val - x_df.mean()[feature_name]) / (epsilon + x_df.std()[feature_name]))\n",
        "    for feature_name in numeric_feature_names\n",
        "]\n",
        "\n",
        "\n",
        "print('model_feature_columns', model_feature_columns)\n",
        "\n",
        "est = tf.estimator.DNNRegressor(\n",
        "    feature_columns=model_feature_columns,\n",
        "    hidden_units=[64],\n",
        "    optimizer=tf.train.AdagradOptimizer(learning_rate=0.01),\n",
        "  )\n",
        "\n",
        "# TRAIN\n",
        "num_print_statements = 10\n",
        "num_training_steps = 10000\n",
        "for _ in range(num_print_statements):\n",
        "  est.train(train_input_fn, steps=num_training_steps // num_print_statements)\n",
        "  scores = est.evaluate(eval_input_fn)\n",
        "  \n",
        "  # The `scores` dictionary has several metrics automatically generated by the \n",
        "  # canned Estimator.\n",
        "  # `average_loss` is the average loss for an individual example.\n",
        "  # `loss` is the summed loss for the batch.\n",
        "  # In addition to these scalar losses, you may find the visualization functions\n",
        "  # in the next cell helpful for debugging model quality.\n",
        "  print('scores', scores)\n",
        "\n"
      ],
      "execution_count": 0,
      "outputs": []
    }
  ]
}